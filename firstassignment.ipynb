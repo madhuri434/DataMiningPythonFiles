{
 "cells": [
  {
   "cell_type": "markdown",
   "id": "f6ab725a",
   "metadata": {
    "id": "f6ab725a"
   },
   "source": [
    "### Objecive\n",
    "\n",
    "The goal is to create model(s) to predict building energy consumption. The dataset consists of building characteristics and climate and weather variables for the regions in which the buildings are located. Accurate predictions of energy consumption can help policymakers target retrofitting efforts to maximize emissions reductions. The dataset was created in collaboration with Climate Change AI (CCAI) and Lawrence Berkeley National Laboratory (Berkeley Lab)\n",
    "\n",
    "### Data Description\n",
    "The dataset consists of building characteristics (e.g. floor area, facility type etc), weather data for the location of the building (e.g. annual average temperature, annual total precipitation etc) as well as the energy usage for the building and the given year, measured as Site Energy Usage Intensity (Site EUI). Each row in the data corresponds to the a single building observed in a given year. \n",
    "\n",
    "The eventual objective is to predict the Site EUI for each row as a function of the building features and the weather data for the location of the building. Your task for this asignment is to perform data processing, EDA and necessary feature transformation that would set you up for prediction.\n",
    "\n",
    "\n",
    "### Data Dictionary\n",
    "\n",
    "**id**: building id\n",
    "\n",
    "**Year_Factor**: anonymized year in which the weather and energy usage factors were observed\n",
    "\n",
    "**State_Factor**: anonymized state in which the building is located\n",
    "\n",
    "**building_class**: building classification\n",
    "\n",
    "**facility_type**: building usage type\n",
    "\n",
    "**floor_area**: floor area (in square feet) of the building\n",
    "\n",
    "**year_built**: year in which the building was constructed\n",
    "\n",
    "**energy_star_rating**: the energy star rating of the building\n",
    "\n",
    "**ELEVATION**: elevation of the building location\n",
    "\n",
    "**january_min_temp**: minimum temperature in January (in Fahrenheit) at the location of the building\n",
    "\n",
    "**january_avg_temp**: average temperature in January (in Fahrenheit) at the location of the building\n",
    "\n",
    "**january_max_temp**: maximum temperature in January (in Fahrenheit) at the location of the building\n",
    "\n",
    "**cooling_degree_days**: cooling degree day for a given day is the number of degrees where the daily average temperature exceeds 65 degrees Fahrenheit. Each month is summed to produce an annual total at the location of the building.\n",
    "\n",
    "**heating_degree_days**: heating degree day for a given day is the number of degrees where the daily average temperature falls under 65 degrees Fahrenheit. Each month is summed to produce an annual total at the location of the building.\n",
    "\n",
    "**precipitation_inches**: annual precipitation in inches at the location of the building\n",
    "\n",
    "**snowfall_inches**: annual snowfall in inches at the location of the building\n",
    "\n",
    "**snowdepth_inches**: annual snow depth in inches at the location of the building\n",
    "\n",
    "**avg_temp**: average temperature over a year at the location of the building\n",
    "\n",
    "**days_below_30F**: total number of days below 30 degrees Fahrenheit at the location of the building\n",
    "\n",
    "**days_below_20F**: total number of days below 20 degrees Fahrenheit at the location of the building\n",
    "\n",
    "**days_below_10F**: total number of days below 10 degrees Fahrenheit at the location of the building\n",
    "\n",
    "**days_below_0F**: total number of days below 0 degrees Fahrenheit at the location of the building\n",
    "\n",
    "**days_above_80F**: total number of days above 80 degrees Fahrenheit at the location of the building\n",
    "\n",
    "**days_above_90F**: total number of days above 90 degrees Fahrenheit at the location of the building\n",
    "\n",
    "**days_above_100F**: total number of days above 100 degrees Fahrenheit at the location of the building\n",
    "\n",
    "**days_above_110F**: total number of days above 110 degrees Fahrenheit at the location of the building\n",
    "\n",
    "**direction_max_wind_speed**: wind direction for maximum wind speed at the location of the building. Given in 360-degree compass point directions (e.g. 360 = north, 180 = south, etc.).\n",
    "\n",
    "**direction_peak_wind_speed**: wind direction for peak wind gust speed at the location of the building. Given in 360-degree compass point directions (e.g. 360 = north, 180 = south, etc.).\n",
    "\n",
    "**max_wind_speed**: maximum wind speed at the location of the building\n",
    "\n",
    "**days_with_fog**: number of days with fog at the location of the building\n",
    "\n",
    "#### Target\n",
    "**site_eui**: Site Energy Usage Intensity is the amount of heat and electricity consumed by a building as reflected in utility bills\n",
    "\n",
    "Source: WiDS Datathon 2022"
   ]
  },
  {
   "cell_type": "code",
   "execution_count": 3,
   "id": "de7afbfc",
   "metadata": {
    "colab": {
     "base_uri": "https://localhost:8080/",
     "height": 487
    },
    "id": "de7afbfc",
    "outputId": "850dc598-3e2d-4697-de23-9ce99790c563"
   },
   "outputs": [
    {
     "data": {
      "text/html": [
       "<div>\n",
       "<style scoped>\n",
       "    .dataframe tbody tr th:only-of-type {\n",
       "        vertical-align: middle;\n",
       "    }\n",
       "\n",
       "    .dataframe tbody tr th {\n",
       "        vertical-align: top;\n",
       "    }\n",
       "\n",
       "    .dataframe thead th {\n",
       "        text-align: right;\n",
       "    }\n",
       "</style>\n",
       "<table border=\"1\" class=\"dataframe\">\n",
       "  <thead>\n",
       "    <tr style=\"text-align: right;\">\n",
       "      <th></th>\n",
       "      <th>PassengerId</th>\n",
       "      <th>Survived</th>\n",
       "      <th>Pclass</th>\n",
       "      <th>Name</th>\n",
       "      <th>Sex</th>\n",
       "      <th>Age</th>\n",
       "      <th>SibSp</th>\n",
       "      <th>Parch</th>\n",
       "      <th>Ticket</th>\n",
       "      <th>Fare</th>\n",
       "      <th>Cabin</th>\n",
       "      <th>Embarked</th>\n",
       "    </tr>\n",
       "  </thead>\n",
       "  <tbody>\n",
       "    <tr>\n",
       "      <th>0</th>\n",
       "      <td>1</td>\n",
       "      <td>0</td>\n",
       "      <td>3</td>\n",
       "      <td>Braund, Mr. Owen Harris</td>\n",
       "      <td>male</td>\n",
       "      <td>22.0</td>\n",
       "      <td>1</td>\n",
       "      <td>0</td>\n",
       "      <td>A/5 21171</td>\n",
       "      <td>7.2500</td>\n",
       "      <td>NaN</td>\n",
       "      <td>S</td>\n",
       "    </tr>\n",
       "    <tr>\n",
       "      <th>1</th>\n",
       "      <td>2</td>\n",
       "      <td>1</td>\n",
       "      <td>1</td>\n",
       "      <td>Cumings, Mrs. John Bradley (Florence Briggs Th...</td>\n",
       "      <td>female</td>\n",
       "      <td>38.0</td>\n",
       "      <td>1</td>\n",
       "      <td>0</td>\n",
       "      <td>PC 17599</td>\n",
       "      <td>71.2833</td>\n",
       "      <td>C85</td>\n",
       "      <td>C</td>\n",
       "    </tr>\n",
       "    <tr>\n",
       "      <th>2</th>\n",
       "      <td>3</td>\n",
       "      <td>1</td>\n",
       "      <td>3</td>\n",
       "      <td>Heikkinen, Miss. Laina</td>\n",
       "      <td>female</td>\n",
       "      <td>26.0</td>\n",
       "      <td>0</td>\n",
       "      <td>0</td>\n",
       "      <td>STON/O2. 3101282</td>\n",
       "      <td>7.9250</td>\n",
       "      <td>NaN</td>\n",
       "      <td>S</td>\n",
       "    </tr>\n",
       "    <tr>\n",
       "      <th>3</th>\n",
       "      <td>4</td>\n",
       "      <td>1</td>\n",
       "      <td>1</td>\n",
       "      <td>Futrelle, Mrs. Jacques Heath (Lily May Peel)</td>\n",
       "      <td>female</td>\n",
       "      <td>35.0</td>\n",
       "      <td>1</td>\n",
       "      <td>0</td>\n",
       "      <td>113803</td>\n",
       "      <td>53.1000</td>\n",
       "      <td>C123</td>\n",
       "      <td>S</td>\n",
       "    </tr>\n",
       "    <tr>\n",
       "      <th>4</th>\n",
       "      <td>5</td>\n",
       "      <td>0</td>\n",
       "      <td>3</td>\n",
       "      <td>Allen, Mr. William Henry</td>\n",
       "      <td>male</td>\n",
       "      <td>35.0</td>\n",
       "      <td>0</td>\n",
       "      <td>0</td>\n",
       "      <td>373450</td>\n",
       "      <td>8.0500</td>\n",
       "      <td>NaN</td>\n",
       "      <td>S</td>\n",
       "    </tr>\n",
       "    <tr>\n",
       "      <th>...</th>\n",
       "      <td>...</td>\n",
       "      <td>...</td>\n",
       "      <td>...</td>\n",
       "      <td>...</td>\n",
       "      <td>...</td>\n",
       "      <td>...</td>\n",
       "      <td>...</td>\n",
       "      <td>...</td>\n",
       "      <td>...</td>\n",
       "      <td>...</td>\n",
       "      <td>...</td>\n",
       "      <td>...</td>\n",
       "    </tr>\n",
       "    <tr>\n",
       "      <th>886</th>\n",
       "      <td>887</td>\n",
       "      <td>0</td>\n",
       "      <td>2</td>\n",
       "      <td>Montvila, Rev. Juozas</td>\n",
       "      <td>male</td>\n",
       "      <td>27.0</td>\n",
       "      <td>0</td>\n",
       "      <td>0</td>\n",
       "      <td>211536</td>\n",
       "      <td>13.0000</td>\n",
       "      <td>NaN</td>\n",
       "      <td>S</td>\n",
       "    </tr>\n",
       "    <tr>\n",
       "      <th>887</th>\n",
       "      <td>888</td>\n",
       "      <td>1</td>\n",
       "      <td>1</td>\n",
       "      <td>Graham, Miss. Margaret Edith</td>\n",
       "      <td>female</td>\n",
       "      <td>19.0</td>\n",
       "      <td>0</td>\n",
       "      <td>0</td>\n",
       "      <td>112053</td>\n",
       "      <td>30.0000</td>\n",
       "      <td>B42</td>\n",
       "      <td>S</td>\n",
       "    </tr>\n",
       "    <tr>\n",
       "      <th>888</th>\n",
       "      <td>889</td>\n",
       "      <td>0</td>\n",
       "      <td>3</td>\n",
       "      <td>Johnston, Miss. Catherine Helen \"Carrie\"</td>\n",
       "      <td>female</td>\n",
       "      <td>NaN</td>\n",
       "      <td>1</td>\n",
       "      <td>2</td>\n",
       "      <td>W./C. 6607</td>\n",
       "      <td>23.4500</td>\n",
       "      <td>NaN</td>\n",
       "      <td>S</td>\n",
       "    </tr>\n",
       "    <tr>\n",
       "      <th>889</th>\n",
       "      <td>890</td>\n",
       "      <td>1</td>\n",
       "      <td>1</td>\n",
       "      <td>Behr, Mr. Karl Howell</td>\n",
       "      <td>male</td>\n",
       "      <td>26.0</td>\n",
       "      <td>0</td>\n",
       "      <td>0</td>\n",
       "      <td>111369</td>\n",
       "      <td>30.0000</td>\n",
       "      <td>C148</td>\n",
       "      <td>C</td>\n",
       "    </tr>\n",
       "    <tr>\n",
       "      <th>890</th>\n",
       "      <td>891</td>\n",
       "      <td>0</td>\n",
       "      <td>3</td>\n",
       "      <td>Dooley, Mr. Patrick</td>\n",
       "      <td>male</td>\n",
       "      <td>32.0</td>\n",
       "      <td>0</td>\n",
       "      <td>0</td>\n",
       "      <td>370376</td>\n",
       "      <td>7.7500</td>\n",
       "      <td>NaN</td>\n",
       "      <td>Q</td>\n",
       "    </tr>\n",
       "  </tbody>\n",
       "</table>\n",
       "<p>891 rows × 12 columns</p>\n",
       "</div>"
      ],
      "text/plain": [
       "     PassengerId  Survived  Pclass  \\\n",
       "0              1         0       3   \n",
       "1              2         1       1   \n",
       "2              3         1       3   \n",
       "3              4         1       1   \n",
       "4              5         0       3   \n",
       "..           ...       ...     ...   \n",
       "886          887         0       2   \n",
       "887          888         1       1   \n",
       "888          889         0       3   \n",
       "889          890         1       1   \n",
       "890          891         0       3   \n",
       "\n",
       "                                                  Name     Sex   Age  SibSp  \\\n",
       "0                              Braund, Mr. Owen Harris    male  22.0      1   \n",
       "1    Cumings, Mrs. John Bradley (Florence Briggs Th...  female  38.0      1   \n",
       "2                               Heikkinen, Miss. Laina  female  26.0      0   \n",
       "3         Futrelle, Mrs. Jacques Heath (Lily May Peel)  female  35.0      1   \n",
       "4                             Allen, Mr. William Henry    male  35.0      0   \n",
       "..                                                 ...     ...   ...    ...   \n",
       "886                              Montvila, Rev. Juozas    male  27.0      0   \n",
       "887                       Graham, Miss. Margaret Edith  female  19.0      0   \n",
       "888           Johnston, Miss. Catherine Helen \"Carrie\"  female   NaN      1   \n",
       "889                              Behr, Mr. Karl Howell    male  26.0      0   \n",
       "890                                Dooley, Mr. Patrick    male  32.0      0   \n",
       "\n",
       "     Parch            Ticket     Fare Cabin Embarked  \n",
       "0        0         A/5 21171   7.2500   NaN        S  \n",
       "1        0          PC 17599  71.2833   C85        C  \n",
       "2        0  STON/O2. 3101282   7.9250   NaN        S  \n",
       "3        0            113803  53.1000  C123        S  \n",
       "4        0            373450   8.0500   NaN        S  \n",
       "..     ...               ...      ...   ...      ...  \n",
       "886      0            211536  13.0000   NaN        S  \n",
       "887      0            112053  30.0000   B42        S  \n",
       "888      2        W./C. 6607  23.4500   NaN        S  \n",
       "889      0            111369  30.0000  C148        C  \n",
       "890      0            370376   7.7500   NaN        Q  \n",
       "\n",
       "[891 rows x 12 columns]"
      ]
     },
     "execution_count": 3,
     "metadata": {},
     "output_type": "execute_result"
    }
   ],
   "source": [
    "import pandas as pd\n",
    "df= pd.read_csv('train.csv')\n",
    "df"
   ]
  },
  {
   "cell_type": "markdown",
   "id": "61abd573",
   "metadata": {
    "id": "61abd573"
   },
   "source": [
    "### Understanding Data (Review)\n",
    "\n",
    "* Understand distributions\n",
    "* Trends\n",
    "* Relationships\n",
    "* Patterns"
   ]
  },
  {
   "cell_type": "code",
   "execution_count": 3,
   "id": "e949d041",
   "metadata": {
    "colab": {
     "base_uri": "https://localhost:8080/"
    },
    "id": "e949d041",
    "outputId": "cf668d3a-0f6f-480e-d78a-e1f92dbb279e"
   },
   "outputs": [
    {
     "data": {
      "text/plain": [
       "pandas.core.frame.DataFrame"
      ]
     },
     "execution_count": 3,
     "metadata": {},
     "output_type": "execute_result"
    }
   ],
   "source": [
    "type(df)"
   ]
  },
  {
   "cell_type": "code",
   "execution_count": 4,
   "id": "g1WOPaEBdYu7",
   "metadata": {
    "colab": {
     "base_uri": "https://localhost:8080/"
    },
    "id": "g1WOPaEBdYu7",
    "outputId": "4d464136-1e5c-4a6a-c149-f229b5161072"
   },
   "outputs": [
    {
     "data": {
      "text/plain": [
       "(75757, 64)"
      ]
     },
     "execution_count": 4,
     "metadata": {},
     "output_type": "execute_result"
    }
   ],
   "source": [
    "df.shape\n"
   ]
  },
  {
   "cell_type": "code",
   "execution_count": 5,
   "id": "MW1214BddxHN",
   "metadata": {
    "colab": {
     "base_uri": "https://localhost:8080/"
    },
    "id": "MW1214BddxHN",
    "outputId": "0178ce35-273e-4cb4-d815-6c26e6c92312"
   },
   "outputs": [
    {
     "data": {
      "text/plain": [
       "Year_Factor                      0\n",
       "State_Factor                     0\n",
       "building_class                   0\n",
       "facility_type                    0\n",
       "floor_area                       0\n",
       "                             ...  \n",
       "direction_peak_wind_speed    41811\n",
       "max_wind_speed               41082\n",
       "days_with_fog                45796\n",
       "site_eui                         0\n",
       "id                               0\n",
       "Length: 64, dtype: int64"
      ]
     },
     "execution_count": 5,
     "metadata": {},
     "output_type": "execute_result"
    }
   ],
   "source": [
    "df.isnull().sum()"
   ]
  },
  {
   "cell_type": "markdown",
   "id": "UQ-2qxanUnYM",
   "metadata": {
    "id": "UQ-2qxanUnYM"
   },
   "source": [
    "Since there are many null values, we won't eliminate them. We will try to compute values for them."
   ]
  },
  {
   "cell_type": "code",
   "execution_count": 6,
   "id": "bcQ_BHZ_eLIV",
   "metadata": {
    "colab": {
     "base_uri": "https://localhost:8080/"
    },
    "id": "bcQ_BHZ_eLIV",
    "outputId": "84e097d0-d301-4fe5-a042-abfe47d03453"
   },
   "outputs": [
    {
     "data": {
      "text/plain": [
       "(75757, 64)"
      ]
     },
     "execution_count": 6,
     "metadata": {},
     "output_type": "execute_result"
    }
   ],
   "source": [
    "cdf = df.drop_duplicates()\n",
    "cdf.shape"
   ]
  },
  {
   "cell_type": "code",
   "execution_count": 7,
   "id": "aba35e4e",
   "metadata": {},
   "outputs": [
    {
     "data": {
      "text/plain": [
       "Year_Factor                    int64\n",
       "State_Factor                  object\n",
       "building_class                object\n",
       "facility_type                 object\n",
       "floor_area                   float64\n",
       "                              ...   \n",
       "direction_peak_wind_speed    float64\n",
       "max_wind_speed               float64\n",
       "days_with_fog                float64\n",
       "site_eui                     float64\n",
       "id                             int64\n",
       "Length: 64, dtype: object"
      ]
     },
     "execution_count": 7,
     "metadata": {},
     "output_type": "execute_result"
    }
   ],
   "source": [
    "cdf.dtypes"
   ]
  },
  {
   "cell_type": "code",
   "execution_count": 8,
   "id": "SdonlOWC-wfi",
   "metadata": {
    "colab": {
     "base_uri": "https://localhost:8080/"
    },
    "id": "SdonlOWC-wfi",
    "outputId": "4c509520-a9c2-4b4e-fd29-1cffcabc5c20"
   },
   "outputs": [
    {
     "data": {
      "text/plain": [
       "0"
      ]
     },
     "execution_count": 8,
     "metadata": {},
     "output_type": "execute_result"
    }
   ],
   "source": [
    "sum(df['Year_Factor'].isnull()==True)"
   ]
  },
  {
   "cell_type": "code",
   "execution_count": 9,
   "id": "bjQcEzDlgALw",
   "metadata": {
    "colab": {
     "base_uri": "https://localhost:8080/"
    },
    "id": "bjQcEzDlgALw",
    "outputId": "d8f71f6b-b0e3-4ce6-d75a-a620cdbb5001"
   },
   "outputs": [
    {
     "name": "stdout",
     "output_type": "stream",
     "text": [
      "6\n"
     ]
    }
   ],
   "source": [
    "from scipy import stats\n",
    "\n",
    "most_freq_year, count = stats.mode(df['Year_Factor'])\n",
    "\n",
    "year_mode = int(most_freq_year) # which year factor occurs most frequently in the dataset\n",
    "print(year_mode)"
   ]
  },
  {
   "cell_type": "markdown",
   "id": "aa321e72",
   "metadata": {},
   "source": [
    "Compute the summary statistics¶"
   ]
  },
  {
   "cell_type": "code",
   "execution_count": 10,
   "id": "6088e80a",
   "metadata": {},
   "outputs": [
    {
     "data": {
      "text/html": [
       "<div>\n",
       "<style scoped>\n",
       "    .dataframe tbody tr th:only-of-type {\n",
       "        vertical-align: middle;\n",
       "    }\n",
       "\n",
       "    .dataframe tbody tr th {\n",
       "        vertical-align: top;\n",
       "    }\n",
       "\n",
       "    .dataframe thead th {\n",
       "        text-align: right;\n",
       "    }\n",
       "</style>\n",
       "<table border=\"1\" class=\"dataframe\">\n",
       "  <thead>\n",
       "    <tr style=\"text-align: right;\">\n",
       "      <th></th>\n",
       "      <th>Year_Factor</th>\n",
       "      <th>floor_area</th>\n",
       "      <th>year_built</th>\n",
       "      <th>energy_star_rating</th>\n",
       "      <th>ELEVATION</th>\n",
       "      <th>january_min_temp</th>\n",
       "      <th>january_avg_temp</th>\n",
       "      <th>january_max_temp</th>\n",
       "      <th>february_min_temp</th>\n",
       "      <th>february_avg_temp</th>\n",
       "      <th>...</th>\n",
       "      <th>days_above_80F</th>\n",
       "      <th>days_above_90F</th>\n",
       "      <th>days_above_100F</th>\n",
       "      <th>days_above_110F</th>\n",
       "      <th>direction_max_wind_speed</th>\n",
       "      <th>direction_peak_wind_speed</th>\n",
       "      <th>max_wind_speed</th>\n",
       "      <th>days_with_fog</th>\n",
       "      <th>site_eui</th>\n",
       "      <th>id</th>\n",
       "    </tr>\n",
       "  </thead>\n",
       "  <tbody>\n",
       "    <tr>\n",
       "      <th>count</th>\n",
       "      <td>75757.000000</td>\n",
       "      <td>7.575700e+04</td>\n",
       "      <td>73920.000000</td>\n",
       "      <td>49048.000000</td>\n",
       "      <td>75757.000000</td>\n",
       "      <td>75757.000000</td>\n",
       "      <td>75757.000000</td>\n",
       "      <td>75757.000000</td>\n",
       "      <td>75757.000000</td>\n",
       "      <td>75757.000000</td>\n",
       "      <td>...</td>\n",
       "      <td>75757.000000</td>\n",
       "      <td>75757.000000</td>\n",
       "      <td>75757.000000</td>\n",
       "      <td>75757.000000</td>\n",
       "      <td>34675.000000</td>\n",
       "      <td>33946.000000</td>\n",
       "      <td>34675.000000</td>\n",
       "      <td>29961.000000</td>\n",
       "      <td>75757.000000</td>\n",
       "      <td>75757.000000</td>\n",
       "    </tr>\n",
       "    <tr>\n",
       "      <th>mean</th>\n",
       "      <td>4.367755</td>\n",
       "      <td>1.659839e+05</td>\n",
       "      <td>1952.306764</td>\n",
       "      <td>61.048605</td>\n",
       "      <td>39.506323</td>\n",
       "      <td>11.432343</td>\n",
       "      <td>34.310468</td>\n",
       "      <td>59.054952</td>\n",
       "      <td>11.720567</td>\n",
       "      <td>35.526837</td>\n",
       "      <td>...</td>\n",
       "      <td>82.709809</td>\n",
       "      <td>14.058701</td>\n",
       "      <td>0.279539</td>\n",
       "      <td>0.002442</td>\n",
       "      <td>66.552675</td>\n",
       "      <td>62.779974</td>\n",
       "      <td>4.190601</td>\n",
       "      <td>109.142051</td>\n",
       "      <td>82.584693</td>\n",
       "      <td>37878.000000</td>\n",
       "    </tr>\n",
       "    <tr>\n",
       "      <th>std</th>\n",
       "      <td>1.471441</td>\n",
       "      <td>2.468758e+05</td>\n",
       "      <td>37.053619</td>\n",
       "      <td>28.663683</td>\n",
       "      <td>60.656596</td>\n",
       "      <td>9.381027</td>\n",
       "      <td>6.996108</td>\n",
       "      <td>5.355458</td>\n",
       "      <td>12.577272</td>\n",
       "      <td>8.866697</td>\n",
       "      <td>...</td>\n",
       "      <td>25.282913</td>\n",
       "      <td>10.943996</td>\n",
       "      <td>2.252323</td>\n",
       "      <td>0.142140</td>\n",
       "      <td>131.147834</td>\n",
       "      <td>130.308106</td>\n",
       "      <td>6.458789</td>\n",
       "      <td>50.699751</td>\n",
       "      <td>58.255403</td>\n",
       "      <td>21869.306509</td>\n",
       "    </tr>\n",
       "    <tr>\n",
       "      <th>min</th>\n",
       "      <td>1.000000</td>\n",
       "      <td>9.430000e+02</td>\n",
       "      <td>0.000000</td>\n",
       "      <td>0.000000</td>\n",
       "      <td>-6.400000</td>\n",
       "      <td>-19.000000</td>\n",
       "      <td>10.806452</td>\n",
       "      <td>42.000000</td>\n",
       "      <td>-13.000000</td>\n",
       "      <td>13.250000</td>\n",
       "      <td>...</td>\n",
       "      <td>0.000000</td>\n",
       "      <td>0.000000</td>\n",
       "      <td>0.000000</td>\n",
       "      <td>0.000000</td>\n",
       "      <td>1.000000</td>\n",
       "      <td>1.000000</td>\n",
       "      <td>1.000000</td>\n",
       "      <td>12.000000</td>\n",
       "      <td>1.001169</td>\n",
       "      <td>0.000000</td>\n",
       "    </tr>\n",
       "    <tr>\n",
       "      <th>25%</th>\n",
       "      <td>3.000000</td>\n",
       "      <td>6.237900e+04</td>\n",
       "      <td>1927.000000</td>\n",
       "      <td>40.000000</td>\n",
       "      <td>11.900000</td>\n",
       "      <td>6.000000</td>\n",
       "      <td>29.827586</td>\n",
       "      <td>56.000000</td>\n",
       "      <td>2.000000</td>\n",
       "      <td>31.625000</td>\n",
       "      <td>...</td>\n",
       "      <td>72.000000</td>\n",
       "      <td>6.000000</td>\n",
       "      <td>0.000000</td>\n",
       "      <td>0.000000</td>\n",
       "      <td>1.000000</td>\n",
       "      <td>1.000000</td>\n",
       "      <td>1.000000</td>\n",
       "      <td>88.000000</td>\n",
       "      <td>54.528601</td>\n",
       "      <td>18939.000000</td>\n",
       "    </tr>\n",
       "    <tr>\n",
       "      <th>50%</th>\n",
       "      <td>5.000000</td>\n",
       "      <td>9.136700e+04</td>\n",
       "      <td>1951.000000</td>\n",
       "      <td>67.000000</td>\n",
       "      <td>25.000000</td>\n",
       "      <td>11.000000</td>\n",
       "      <td>34.451613</td>\n",
       "      <td>59.000000</td>\n",
       "      <td>9.000000</td>\n",
       "      <td>34.107143</td>\n",
       "      <td>...</td>\n",
       "      <td>84.000000</td>\n",
       "      <td>12.000000</td>\n",
       "      <td>0.000000</td>\n",
       "      <td>0.000000</td>\n",
       "      <td>1.000000</td>\n",
       "      <td>1.000000</td>\n",
       "      <td>1.000000</td>\n",
       "      <td>104.000000</td>\n",
       "      <td>75.293716</td>\n",
       "      <td>37878.000000</td>\n",
       "    </tr>\n",
       "    <tr>\n",
       "      <th>75%</th>\n",
       "      <td>6.000000</td>\n",
       "      <td>1.660000e+05</td>\n",
       "      <td>1977.000000</td>\n",
       "      <td>85.000000</td>\n",
       "      <td>42.700000</td>\n",
       "      <td>13.000000</td>\n",
       "      <td>37.322581</td>\n",
       "      <td>62.000000</td>\n",
       "      <td>20.000000</td>\n",
       "      <td>40.879310</td>\n",
       "      <td>...</td>\n",
       "      <td>97.000000</td>\n",
       "      <td>17.000000</td>\n",
       "      <td>0.000000</td>\n",
       "      <td>0.000000</td>\n",
       "      <td>1.000000</td>\n",
       "      <td>1.000000</td>\n",
       "      <td>1.000000</td>\n",
       "      <td>131.000000</td>\n",
       "      <td>97.277534</td>\n",
       "      <td>56817.000000</td>\n",
       "    </tr>\n",
       "    <tr>\n",
       "      <th>max</th>\n",
       "      <td>6.000000</td>\n",
       "      <td>6.385382e+06</td>\n",
       "      <td>2015.000000</td>\n",
       "      <td>100.000000</td>\n",
       "      <td>1924.500000</td>\n",
       "      <td>49.000000</td>\n",
       "      <td>64.758065</td>\n",
       "      <td>91.000000</td>\n",
       "      <td>48.000000</td>\n",
       "      <td>65.107143</td>\n",
       "      <td>...</td>\n",
       "      <td>260.000000</td>\n",
       "      <td>185.000000</td>\n",
       "      <td>119.000000</td>\n",
       "      <td>16.000000</td>\n",
       "      <td>360.000000</td>\n",
       "      <td>360.000000</td>\n",
       "      <td>23.300000</td>\n",
       "      <td>311.000000</td>\n",
       "      <td>997.866120</td>\n",
       "      <td>75756.000000</td>\n",
       "    </tr>\n",
       "  </tbody>\n",
       "</table>\n",
       "<p>8 rows × 61 columns</p>\n",
       "</div>"
      ],
      "text/plain": [
       "        Year_Factor    floor_area    year_built  energy_star_rating  \\\n",
       "count  75757.000000  7.575700e+04  73920.000000        49048.000000   \n",
       "mean       4.367755  1.659839e+05   1952.306764           61.048605   \n",
       "std        1.471441  2.468758e+05     37.053619           28.663683   \n",
       "min        1.000000  9.430000e+02      0.000000            0.000000   \n",
       "25%        3.000000  6.237900e+04   1927.000000           40.000000   \n",
       "50%        5.000000  9.136700e+04   1951.000000           67.000000   \n",
       "75%        6.000000  1.660000e+05   1977.000000           85.000000   \n",
       "max        6.000000  6.385382e+06   2015.000000          100.000000   \n",
       "\n",
       "          ELEVATION  january_min_temp  january_avg_temp  january_max_temp  \\\n",
       "count  75757.000000      75757.000000      75757.000000      75757.000000   \n",
       "mean      39.506323         11.432343         34.310468         59.054952   \n",
       "std       60.656596          9.381027          6.996108          5.355458   \n",
       "min       -6.400000        -19.000000         10.806452         42.000000   \n",
       "25%       11.900000          6.000000         29.827586         56.000000   \n",
       "50%       25.000000         11.000000         34.451613         59.000000   \n",
       "75%       42.700000         13.000000         37.322581         62.000000   \n",
       "max     1924.500000         49.000000         64.758065         91.000000   \n",
       "\n",
       "       february_min_temp  february_avg_temp  ...  days_above_80F  \\\n",
       "count       75757.000000       75757.000000  ...    75757.000000   \n",
       "mean           11.720567          35.526837  ...       82.709809   \n",
       "std            12.577272           8.866697  ...       25.282913   \n",
       "min           -13.000000          13.250000  ...        0.000000   \n",
       "25%             2.000000          31.625000  ...       72.000000   \n",
       "50%             9.000000          34.107143  ...       84.000000   \n",
       "75%            20.000000          40.879310  ...       97.000000   \n",
       "max            48.000000          65.107143  ...      260.000000   \n",
       "\n",
       "       days_above_90F  days_above_100F  days_above_110F  \\\n",
       "count    75757.000000     75757.000000     75757.000000   \n",
       "mean        14.058701         0.279539         0.002442   \n",
       "std         10.943996         2.252323         0.142140   \n",
       "min          0.000000         0.000000         0.000000   \n",
       "25%          6.000000         0.000000         0.000000   \n",
       "50%         12.000000         0.000000         0.000000   \n",
       "75%         17.000000         0.000000         0.000000   \n",
       "max        185.000000       119.000000        16.000000   \n",
       "\n",
       "       direction_max_wind_speed  direction_peak_wind_speed  max_wind_speed  \\\n",
       "count              34675.000000               33946.000000    34675.000000   \n",
       "mean                  66.552675                  62.779974        4.190601   \n",
       "std                  131.147834                 130.308106        6.458789   \n",
       "min                    1.000000                   1.000000        1.000000   \n",
       "25%                    1.000000                   1.000000        1.000000   \n",
       "50%                    1.000000                   1.000000        1.000000   \n",
       "75%                    1.000000                   1.000000        1.000000   \n",
       "max                  360.000000                 360.000000       23.300000   \n",
       "\n",
       "       days_with_fog      site_eui            id  \n",
       "count   29961.000000  75757.000000  75757.000000  \n",
       "mean      109.142051     82.584693  37878.000000  \n",
       "std        50.699751     58.255403  21869.306509  \n",
       "min        12.000000      1.001169      0.000000  \n",
       "25%        88.000000     54.528601  18939.000000  \n",
       "50%       104.000000     75.293716  37878.000000  \n",
       "75%       131.000000     97.277534  56817.000000  \n",
       "max       311.000000    997.866120  75756.000000  \n",
       "\n",
       "[8 rows x 61 columns]"
      ]
     },
     "execution_count": 10,
     "metadata": {},
     "output_type": "execute_result"
    }
   ],
   "source": [
    "\n",
    "cdf.describe()"
   ]
  },
  {
   "cell_type": "code",
   "execution_count": 2,
   "id": "bede2fd3",
   "metadata": {},
   "outputs": [
    {
     "ename": "NameError",
     "evalue": "name 'cdf' is not defined",
     "output_type": "error",
     "traceback": [
      "\u001b[0;31m---------------------------------------------------------------------------\u001b[0m",
      "\u001b[0;31mNameError\u001b[0m                                 Traceback (most recent call last)",
      "\u001b[0;32m<ipython-input-2-6e621055999a>\u001b[0m in \u001b[0;36m<module>\u001b[0;34m\u001b[0m\n\u001b[1;32m      1\u001b[0m \u001b[0;32mimport\u001b[0m \u001b[0mseaborn\u001b[0m \u001b[0;32mas\u001b[0m \u001b[0msn\u001b[0m\u001b[0;34m\u001b[0m\u001b[0;34m\u001b[0m\u001b[0m\n\u001b[1;32m      2\u001b[0m \u001b[0;32mimport\u001b[0m \u001b[0mmatplotlib\u001b[0m\u001b[0;34m.\u001b[0m\u001b[0mpyplot\u001b[0m \u001b[0;32mas\u001b[0m \u001b[0mplt\u001b[0m\u001b[0;34m\u001b[0m\u001b[0;34m\u001b[0m\u001b[0m\n\u001b[0;32m----> 3\u001b[0;31m \u001b[0mcorrMatrix\u001b[0m \u001b[0;34m=\u001b[0m \u001b[0mcdf\u001b[0m\u001b[0;34m.\u001b[0m\u001b[0mcorr\u001b[0m\u001b[0;34m(\u001b[0m\u001b[0;34m)\u001b[0m\u001b[0;34m\u001b[0m\u001b[0;34m\u001b[0m\u001b[0m\n\u001b[0m\u001b[1;32m      4\u001b[0m \u001b[0;34m\u001b[0m\u001b[0m\n\u001b[1;32m      5\u001b[0m \u001b[0msn\u001b[0m\u001b[0;34m.\u001b[0m\u001b[0mheatmap\u001b[0m\u001b[0;34m(\u001b[0m\u001b[0mcorrMatrix\u001b[0m\u001b[0;34m,\u001b[0m \u001b[0mannot\u001b[0m\u001b[0;34m=\u001b[0m\u001b[0;32mTrue\u001b[0m\u001b[0;34m)\u001b[0m\u001b[0;34m\u001b[0m\u001b[0;34m\u001b[0m\u001b[0m\n",
      "\u001b[0;31mNameError\u001b[0m: name 'cdf' is not defined"
     ]
    }
   ],
   "source": [
    "import seaborn as sn\n",
    "import matplotlib.pyplot as plt\n",
    "corrMatrix = cdf.corr()\n",
    "\n",
    "sn.heatmap(corrMatrix, annot=True)\n",
    "plt.show()"
   ]
  },
  {
   "cell_type": "markdown",
   "id": "fnAMcFsGU3HE",
   "metadata": {
    "id": "fnAMcFsGU3HE"
   },
   "source": [
    "The year_factor 6 is the most commonly occuring ones."
   ]
  },
  {
   "cell_type": "code",
   "execution_count": 12,
   "id": "53119ae7",
   "metadata": {},
   "outputs": [
    {
     "data": {
      "text/plain": [
       "(array([  234.,  1747.,  2443., 27374., 31422.,   578.,  8188.,  1199.,\n",
       "         2523.,    49.]),\n",
       " array([-19. , -12.2,  -5.4,   1.4,   8.2,  15. ,  21.8,  28.6,  35.4,\n",
       "         42.2,  49. ]),\n",
       " <BarContainer object of 10 artists>)"
      ]
     },
     "execution_count": 12,
     "metadata": {},
     "output_type": "execute_result"
    },
    {
     "data": {
      "image/png": "[encoded data removed]",
      "text/plain": [
       "<Figure size 432x288 with 1 Axes>"
      ]
     },
     "metadata": {
      "needs_background": "light"
     },
     "output_type": "display_data"
    }
   ],
   "source": [
    "import matplotlib.pyplot as plt\n",
    "plt.hist(cdf['january_min_temp'])"
   ]
  },
  {
   "cell_type": "markdown",
   "id": "303cedb4",
   "metadata": {},
   "source": [
    "The histogram is symmetric at 10F."
   ]
  },
  {
   "cell_type": "code",
   "execution_count": 14,
   "id": "db015c91",
   "metadata": {},
   "outputs": [
    {
     "data": {
      "text/plain": [
       "(array([  232.,   384.,  4720., 27357., 31052.,    54.,  7530.,  3199.,\n",
       "         1129.,   100.]),\n",
       " array([10.80645161, 16.2016129 , 21.59677419, 26.99193548, 32.38709677,\n",
       "        37.78225807, 43.17741936, 48.57258065, 53.96774194, 59.36290323,\n",
       "        64.75806452]),\n",
       " <BarContainer object of 10 artists>)"
      ]
     },
     "execution_count": 14,
     "metadata": {},
     "output_type": "execute_result"
    },
    {
     "data": {
      "image/png": "[encoded data removed]",
      "text/plain": [
       "<Figure size 432x288 with 1 Axes>"
      ]
     },
     "metadata": {
      "needs_background": "light"
     },
     "output_type": "display_data"
    }
   ],
   "source": [
    "plt.hist(cdf['january_avg_temp'])"
   ]
  },
  {
   "cell_type": "markdown",
   "id": "2d07f673",
   "metadata": {},
   "source": [
    "The histogram is not symmetric."
   ]
  },
  {
   "cell_type": "code",
   "execution_count": 15,
   "id": "0c74f547",
   "metadata": {},
   "outputs": [
    {
     "data": {
      "text/plain": [
       "(array([ 1828.,  3224.,  8850., 11470.,  2711.,   323.,     0.,     0.,\n",
       "         1385.,   170.]),\n",
       " array([ 12. ,  41.9,  71.8, 101.7, 131.6, 161.5, 191.4, 221.3, 251.2,\n",
       "        281.1, 311. ]),\n",
       " <BarContainer object of 10 artists>)"
      ]
     },
     "execution_count": 15,
     "metadata": {},
     "output_type": "execute_result"
    },
    {
     "data": {
      "image/png": "[encoded data removed]",
      "text/plain": [
       "<Figure size 432x288 with 1 Axes>"
      ]
     },
     "metadata": {
      "needs_background": "light"
     },
     "output_type": "display_data"
    }
   ],
   "source": [
    "plt.hist(cdf['days_with_fog'])"
   ]
  },
  {
   "cell_type": "markdown",
   "id": "c7b5e076",
   "metadata": {},
   "source": [
    "It looks like histogram is some what symmetric at 100."
   ]
  },
  {
   "cell_type": "code",
   "execution_count": 17,
   "id": "NakwtBhL-s0-",
   "metadata": {
    "colab": {
     "base_uri": "https://localhost:8080/",
     "height": 279
    },
    "id": "NakwtBhL-s0-",
    "outputId": "e15cea7f-dc7b-4a14-952e-13abf7e1dbaf"
   },
   "outputs": [
    {
     "data": {
      "text/plain": [
       "<AxesSubplot:>"
      ]
     },
     "execution_count": 17,
     "metadata": {},
     "output_type": "execute_result"
    },
    {
     "data": {
      "image/png": "[encoded data removed]",
      "text/plain": [
       "<Figure size 432x288 with 1 Axes>"
      ]
     },
     "metadata": {
      "needs_background": "light"
     },
     "output_type": "display_data"
    }
   ],
   "source": [
    "#Bar plot dipicting the frequency for each year_factor\n",
    "df.Year_Factor.value_counts().plot.bar()\n"
   ]
  },
  {
   "cell_type": "code",
   "execution_count": 18,
   "id": "5FAdD3ZFLAmm",
   "metadata": {
    "colab": {
     "base_uri": "https://localhost:8080/",
     "height": 317
    },
    "id": "5FAdD3ZFLAmm",
    "outputId": "44988289-2e48-42f1-fa15-2202a1bec9b5"
   },
   "outputs": [
    {
     "data": {
      "text/plain": [
       "<AxesSubplot:>"
      ]
     },
     "execution_count": 18,
     "metadata": {},
     "output_type": "execute_result"
    },
    {
     "data": {
      "image/png": "[encoded data removed]",
      "text/plain": [
       "<Figure size 432x288 with 1 Axes>"
      ]
     },
     "metadata": {
      "needs_background": "light"
     },
     "output_type": "display_data"
    }
   ],
   "source": [
    "#Bar plot dipicting the frequency for each state_factor\n",
    "\n",
    "df.State_Factor.value_counts().plot.bar()\n"
   ]
  },
  {
   "cell_type": "markdown",
   "id": "nezn7L1lVKTF",
   "metadata": {
    "id": "nezn7L1lVKTF"
   },
   "source": [
    "We can say that STate_6 has the maximum frequecy."
   ]
  },
  {
   "cell_type": "code",
   "execution_count": 19,
   "id": "9FN85BC2BV_J",
   "metadata": {
    "colab": {
     "base_uri": "https://localhost:8080/"
    },
    "id": "9FN85BC2BV_J",
    "outputId": "b043b5d1-f8b1-4d40-935f-984f00f46ee1"
   },
   "outputs": [
    {
     "data": {
      "text/plain": [
       "State_Factor\n",
       "State_1      5618\n",
       "State_10       15\n",
       "State_11     6412\n",
       "State_2      4871\n",
       "State_4      4300\n",
       "State_6     50840\n",
       "State_8      3701\n",
       "dtype: int64"
      ]
     },
     "execution_count": 19,
     "metadata": {},
     "output_type": "execute_result"
    }
   ],
   "source": [
    "\n",
    "group_by_year = df.groupby(['State_Factor'])\n",
    "group_by_year.size()\n"
   ]
  },
  {
   "cell_type": "code",
   "execution_count": 20,
   "id": "qg3HMkChP265",
   "metadata": {
    "colab": {
     "base_uri": "https://localhost:8080/",
     "height": 385
    },
    "id": "qg3HMkChP265",
    "outputId": "74021597-05d7-42bc-9e79-ba54a71c14a9"
   },
   "outputs": [
    {
     "data": {
      "text/plain": [
       "<AxesSubplot:>"
      ]
     },
     "execution_count": 20,
     "metadata": {},
     "output_type": "execute_result"
    },
    {
     "data": {
      "image/png": "[encoded data removed]",
      "text/plain": [
       "<Figure size 432x288 with 2 Axes>"
      ]
     },
     "metadata": {
      "needs_background": "light"
     },
     "output_type": "display_data"
    }
   ],
   "source": [
    "import seaborn as sns\n",
    "#correlation matrix\n",
    "corr = df.corr()\n",
    "#cmap = colors.ListedColormap([\"#682F2F\", \"#9E726F\", \"#D6B2B1\", \"#B9C0C9\", \"#9F8A78\", \"#F3AB60\"])\n",
    "sns.heatmap(corr,annot=True, center=0)"
   ]
  },
  {
   "cell_type": "code",
   "execution_count": 21,
   "id": "rg0U5zCidyXD",
   "metadata": {
    "colab": {
     "base_uri": "https://localhost:8080/",
     "height": 257
    },
    "id": "rg0U5zCidyXD",
    "outputId": "79688a51-ff39-411b-ba5d-4583e3135a87"
   },
   "outputs": [
    {
     "data": {
      "image/png": "[encoded data removed]",
      "text/plain": [
       "<Figure size 720x144 with 2 Axes>"
      ]
     },
     "metadata": {
      "needs_background": "light"
     },
     "output_type": "display_data"
    }
   ],
   "source": [
    "from matplotlib import pyplot as plt\n",
    "def show_heat_map(df,cols, width=5, height=5):\n",
    "    width=width\n",
    "    height=height\n",
    "    df=df\n",
    "    cols=cols\n",
    "    plt.figure(figsize=(width,height))\n",
    "    sns.heatmap(df[cols].corr(), annot=True)\n",
    "    plt.show()\n",
    "cols =['Year_Factor','energy_star_rating','heating_degree_days','snowdepth_inches','days_below_20F','days_above_80F','days_above_110F','max_wind_speed']\n",
    "show_heat_map(df,cols,10,2)"
   ]
  },
  {
   "cell_type": "markdown",
   "id": "0wGsEEdAe0lN",
   "metadata": {
    "id": "0wGsEEdAe0lN"
   },
   "source": [
    "This shows correlation between the mentioned features.\n",
    "We can see that days_below_20F is related to heating_degree_days and snowdepth_inches."
   ]
  },
  {
   "cell_type": "code",
   "execution_count": 22,
   "id": "Xg9MPUHbLhhw",
   "metadata": {
    "colab": {
     "base_uri": "https://localhost:8080/"
    },
    "id": "Xg9MPUHbLhhw",
    "outputId": "b24cde8d-e2f1-4600-ce8e-5e38cbb1f053"
   },
   "outputs": [
    {
     "data": {
      "text/plain": [
       "facility_type\n",
       "2to4_Unit_Building                            1893\n",
       "5plus_Unit_Building                           1273\n",
       "Commercial_Other                              1744\n",
       "Commercial_Unknown                              95\n",
       "Data_Center                                     27\n",
       "Education_College_or_university               1056\n",
       "Education_Other_classroom                     3860\n",
       "Education_Preschool_or_daycare                 108\n",
       "Education_Uncategorized                        709\n",
       "Food_Sales                                      70\n",
       "Food_Service_Other                              17\n",
       "Food_Service_Restaurant_or_cafeteria            64\n",
       "Food_Service_Uncategorized                      18\n",
       "Grocery_store_or_food_market                   448\n",
       "Health_Care_Inpatient                          409\n",
       "Health_Care_Outpatient_Clinic                   56\n",
       "Health_Care_Outpatient_Uncategorized            36\n",
       "Health_Care_Uncategorized                       51\n",
       "Industrial                                     384\n",
       "Laboratory                                     107\n",
       "Lodging_Dormitory_or_fraternity_sorority       669\n",
       "Lodging_Hotel                                 2098\n",
       "Lodging_Other                                   75\n",
       "Lodging_Uncategorized                            5\n",
       "Mixed_Use_Commercial_and_Residential           672\n",
       "Mixed_Use_Predominantly_Commercial             256\n",
       "Mixed_Use_Predominantly_Residential              9\n",
       "Multifamily_Uncategorized                    39455\n",
       "Nursing_Home                                   772\n",
       "Office_Bank_or_other_financial                 173\n",
       "Office_Medical_non_diagnostic                  447\n",
       "Office_Mixed_use                                18\n",
       "Office_Uncategorized                         12512\n",
       "Parking_Garage                                 251\n",
       "Public_Assembly_Drama_theater                   70\n",
       "Public_Assembly_Entertainment_culture          110\n",
       "Public_Assembly_Library                        160\n",
       "Public_Assembly_Movie_Theater                   39\n",
       "Public_Assembly_Other                          142\n",
       "Public_Assembly_Recreation                      72\n",
       "Public_Assembly_Social_meeting                  88\n",
       "Public_Assembly_Stadium                          9\n",
       "Public_Assembly_Uncategorized                   25\n",
       "Public_Safety_Courthouse                        38\n",
       "Public_Safety_Fire_or_police_station           157\n",
       "Public_Safety_Penitentiary                      37\n",
       "Public_Safety_Uncategorized                     43\n",
       "Religious_worship                              399\n",
       "Retail_Enclosed_mall                           120\n",
       "Retail_Strip_shopping_mall                     113\n",
       "Retail_Uncategorized                          1130\n",
       "Retail_Vehicle_dealership_showroom              74\n",
       "Service_Drycleaning_or_Laundry                   9\n",
       "Service_Uncategorized                           68\n",
       "Service_Vehicle_service_repair_shop            138\n",
       "Warehouse_Distribution_or_Shipping_center      604\n",
       "Warehouse_Nonrefrigerated                     1255\n",
       "Warehouse_Refrigerated                         113\n",
       "Warehouse_Selfstorage                          577\n",
       "Warehouse_Uncategorized                        330\n",
       "dtype: int64"
      ]
     },
     "execution_count": 22,
     "metadata": {},
     "output_type": "execute_result"
    }
   ],
   "source": [
    "group_by_year = df.groupby(['facility_type'])\n",
    "group_by_year.size()"
   ]
  },
  {
   "cell_type": "code",
   "execution_count": 23,
   "id": "mVjXAK3-QVIE",
   "metadata": {
    "colab": {
     "base_uri": "https://localhost:8080/"
    },
    "id": "mVjXAK3-QVIE",
    "outputId": "e67e27f7-c302-4f59-a79a-9a96fec9d5b3"
   },
   "outputs": [
    {
     "name": "stdout",
     "output_type": "stream",
     "text": [
      "Categorical variables in the dataset: ['State_Factor', 'building_class', 'facility_type']\n"
     ]
    }
   ],
   "source": [
    "#Get list of categorical variables\n",
    "s = (df.dtypes == 'object')\n",
    "object_cols = list(s[s].index)\n",
    "\n",
    "print(\"Categorical variables in the dataset:\", object_cols)"
   ]
  },
  {
   "cell_type": "code",
   "execution_count": 24,
   "id": "-R5m-PeCQumV",
   "metadata": {
    "id": "-R5m-PeCQumV"
   },
   "outputs": [],
   "source": [
    "#Converting categorical values to binary\n",
    "d = {'Commercial': 1, 'Residential': 0}\n",
    "df['building_class'] = df['building_class'].map(d)"
   ]
  },
  {
   "cell_type": "code",
   "execution_count": 25,
   "id": "-ZP9wFyRRhAe",
   "metadata": {
    "colab": {
     "base_uri": "https://localhost:8080/"
    },
    "id": "-ZP9wFyRRhAe",
    "outputId": "80c5aa2b-9c1d-4123-8255-01af00c619e1"
   },
   "outputs": [
    {
     "data": {
      "text/plain": [
       "building_class\n",
       "0    43558\n",
       "1    32199\n",
       "dtype: int64"
      ]
     },
     "execution_count": 25,
     "metadata": {},
     "output_type": "execute_result"
    }
   ],
   "source": [
    "group_by_year = df.groupby(['building_class'])\n",
    "group_by_year.size()"
   ]
  },
  {
   "cell_type": "code",
   "execution_count": 26,
   "id": "qrAy30YlRtsp",
   "metadata": {
    "colab": {
     "base_uri": "https://localhost:8080/",
     "height": 364
    },
    "id": "qrAy30YlRtsp",
    "outputId": "8335435c-2153-49c3-d7a5-8535ac3a9db4"
   },
   "outputs": [
    {
     "data": {
      "text/html": [
       "<div>\n",
       "<style scoped>\n",
       "    .dataframe tbody tr th:only-of-type {\n",
       "        vertical-align: middle;\n",
       "    }\n",
       "\n",
       "    .dataframe tbody tr th {\n",
       "        vertical-align: top;\n",
       "    }\n",
       "\n",
       "    .dataframe thead th {\n",
       "        text-align: right;\n",
       "    }\n",
       "</style>\n",
       "<table border=\"1\" class=\"dataframe\">\n",
       "  <thead>\n",
       "    <tr style=\"text-align: right;\">\n",
       "      <th></th>\n",
       "      <th>Year_Factor</th>\n",
       "      <th>building_class</th>\n",
       "      <th>floor_area</th>\n",
       "      <th>year_built</th>\n",
       "      <th>energy_star_rating</th>\n",
       "      <th>ELEVATION</th>\n",
       "      <th>january_min_temp</th>\n",
       "      <th>january_avg_temp</th>\n",
       "      <th>january_max_temp</th>\n",
       "      <th>february_min_temp</th>\n",
       "      <th>...</th>\n",
       "      <th>days_above_80F</th>\n",
       "      <th>days_above_90F</th>\n",
       "      <th>days_above_100F</th>\n",
       "      <th>days_above_110F</th>\n",
       "      <th>direction_max_wind_speed</th>\n",
       "      <th>direction_peak_wind_speed</th>\n",
       "      <th>max_wind_speed</th>\n",
       "      <th>days_with_fog</th>\n",
       "      <th>site_eui</th>\n",
       "      <th>id</th>\n",
       "    </tr>\n",
       "  </thead>\n",
       "  <tbody>\n",
       "    <tr>\n",
       "      <th>count</th>\n",
       "      <td>75757.000000</td>\n",
       "      <td>75757.000000</td>\n",
       "      <td>7.575700e+04</td>\n",
       "      <td>73920.000000</td>\n",
       "      <td>49048.000000</td>\n",
       "      <td>75757.000000</td>\n",
       "      <td>75757.000000</td>\n",
       "      <td>75757.000000</td>\n",
       "      <td>75757.000000</td>\n",
       "      <td>75757.000000</td>\n",
       "      <td>...</td>\n",
       "      <td>75757.000000</td>\n",
       "      <td>75757.000000</td>\n",
       "      <td>75757.000000</td>\n",
       "      <td>75757.000000</td>\n",
       "      <td>34675.000000</td>\n",
       "      <td>33946.000000</td>\n",
       "      <td>34675.000000</td>\n",
       "      <td>29961.000000</td>\n",
       "      <td>75757.000000</td>\n",
       "      <td>75757.000000</td>\n",
       "    </tr>\n",
       "    <tr>\n",
       "      <th>mean</th>\n",
       "      <td>4.367755</td>\n",
       "      <td>0.425030</td>\n",
       "      <td>1.659839e+05</td>\n",
       "      <td>1952.306764</td>\n",
       "      <td>61.048605</td>\n",
       "      <td>39.506323</td>\n",
       "      <td>11.432343</td>\n",
       "      <td>34.310468</td>\n",
       "      <td>59.054952</td>\n",
       "      <td>11.720567</td>\n",
       "      <td>...</td>\n",
       "      <td>82.709809</td>\n",
       "      <td>14.058701</td>\n",
       "      <td>0.279539</td>\n",
       "      <td>0.002442</td>\n",
       "      <td>66.552675</td>\n",
       "      <td>62.779974</td>\n",
       "      <td>4.190601</td>\n",
       "      <td>109.142051</td>\n",
       "      <td>82.584693</td>\n",
       "      <td>37878.000000</td>\n",
       "    </tr>\n",
       "    <tr>\n",
       "      <th>std</th>\n",
       "      <td>1.471441</td>\n",
       "      <td>0.494351</td>\n",
       "      <td>2.468758e+05</td>\n",
       "      <td>37.053619</td>\n",
       "      <td>28.663683</td>\n",
       "      <td>60.656596</td>\n",
       "      <td>9.381027</td>\n",
       "      <td>6.996108</td>\n",
       "      <td>5.355458</td>\n",
       "      <td>12.577272</td>\n",
       "      <td>...</td>\n",
       "      <td>25.282913</td>\n",
       "      <td>10.943996</td>\n",
       "      <td>2.252323</td>\n",
       "      <td>0.142140</td>\n",
       "      <td>131.147834</td>\n",
       "      <td>130.308106</td>\n",
       "      <td>6.458789</td>\n",
       "      <td>50.699751</td>\n",
       "      <td>58.255403</td>\n",
       "      <td>21869.306509</td>\n",
       "    </tr>\n",
       "    <tr>\n",
       "      <th>min</th>\n",
       "      <td>1.000000</td>\n",
       "      <td>0.000000</td>\n",
       "      <td>9.430000e+02</td>\n",
       "      <td>0.000000</td>\n",
       "      <td>0.000000</td>\n",
       "      <td>-6.400000</td>\n",
       "      <td>-19.000000</td>\n",
       "      <td>10.806452</td>\n",
       "      <td>42.000000</td>\n",
       "      <td>-13.000000</td>\n",
       "      <td>...</td>\n",
       "      <td>0.000000</td>\n",
       "      <td>0.000000</td>\n",
       "      <td>0.000000</td>\n",
       "      <td>0.000000</td>\n",
       "      <td>1.000000</td>\n",
       "      <td>1.000000</td>\n",
       "      <td>1.000000</td>\n",
       "      <td>12.000000</td>\n",
       "      <td>1.001169</td>\n",
       "      <td>0.000000</td>\n",
       "    </tr>\n",
       "    <tr>\n",
       "      <th>25%</th>\n",
       "      <td>3.000000</td>\n",
       "      <td>0.000000</td>\n",
       "      <td>6.237900e+04</td>\n",
       "      <td>1927.000000</td>\n",
       "      <td>40.000000</td>\n",
       "      <td>11.900000</td>\n",
       "      <td>6.000000</td>\n",
       "      <td>29.827586</td>\n",
       "      <td>56.000000</td>\n",
       "      <td>2.000000</td>\n",
       "      <td>...</td>\n",
       "      <td>72.000000</td>\n",
       "      <td>6.000000</td>\n",
       "      <td>0.000000</td>\n",
       "      <td>0.000000</td>\n",
       "      <td>1.000000</td>\n",
       "      <td>1.000000</td>\n",
       "      <td>1.000000</td>\n",
       "      <td>88.000000</td>\n",
       "      <td>54.528601</td>\n",
       "      <td>18939.000000</td>\n",
       "    </tr>\n",
       "    <tr>\n",
       "      <th>50%</th>\n",
       "      <td>5.000000</td>\n",
       "      <td>0.000000</td>\n",
       "      <td>9.136700e+04</td>\n",
       "      <td>1951.000000</td>\n",
       "      <td>67.000000</td>\n",
       "      <td>25.000000</td>\n",
       "      <td>11.000000</td>\n",
       "      <td>34.451613</td>\n",
       "      <td>59.000000</td>\n",
       "      <td>9.000000</td>\n",
       "      <td>...</td>\n",
       "      <td>84.000000</td>\n",
       "      <td>12.000000</td>\n",
       "      <td>0.000000</td>\n",
       "      <td>0.000000</td>\n",
       "      <td>1.000000</td>\n",
       "      <td>1.000000</td>\n",
       "      <td>1.000000</td>\n",
       "      <td>104.000000</td>\n",
       "      <td>75.293716</td>\n",
       "      <td>37878.000000</td>\n",
       "    </tr>\n",
       "    <tr>\n",
       "      <th>75%</th>\n",
       "      <td>6.000000</td>\n",
       "      <td>1.000000</td>\n",
       "      <td>1.660000e+05</td>\n",
       "      <td>1977.000000</td>\n",
       "      <td>85.000000</td>\n",
       "      <td>42.700000</td>\n",
       "      <td>13.000000</td>\n",
       "      <td>37.322581</td>\n",
       "      <td>62.000000</td>\n",
       "      <td>20.000000</td>\n",
       "      <td>...</td>\n",
       "      <td>97.000000</td>\n",
       "      <td>17.000000</td>\n",
       "      <td>0.000000</td>\n",
       "      <td>0.000000</td>\n",
       "      <td>1.000000</td>\n",
       "      <td>1.000000</td>\n",
       "      <td>1.000000</td>\n",
       "      <td>131.000000</td>\n",
       "      <td>97.277534</td>\n",
       "      <td>56817.000000</td>\n",
       "    </tr>\n",
       "    <tr>\n",
       "      <th>max</th>\n",
       "      <td>6.000000</td>\n",
       "      <td>1.000000</td>\n",
       "      <td>6.385382e+06</td>\n",
       "      <td>2015.000000</td>\n",
       "      <td>100.000000</td>\n",
       "      <td>1924.500000</td>\n",
       "      <td>49.000000</td>\n",
       "      <td>64.758065</td>\n",
       "      <td>91.000000</td>\n",
       "      <td>48.000000</td>\n",
       "      <td>...</td>\n",
       "      <td>260.000000</td>\n",
       "      <td>185.000000</td>\n",
       "      <td>119.000000</td>\n",
       "      <td>16.000000</td>\n",
       "      <td>360.000000</td>\n",
       "      <td>360.000000</td>\n",
       "      <td>23.300000</td>\n",
       "      <td>311.000000</td>\n",
       "      <td>997.866120</td>\n",
       "      <td>75756.000000</td>\n",
       "    </tr>\n",
       "  </tbody>\n",
       "</table>\n",
       "<p>8 rows × 62 columns</p>\n",
       "</div>"
      ],
      "text/plain": [
       "        Year_Factor  building_class    floor_area    year_built  \\\n",
       "count  75757.000000    75757.000000  7.575700e+04  73920.000000   \n",
       "mean       4.367755        0.425030  1.659839e+05   1952.306764   \n",
       "std        1.471441        0.494351  2.468758e+05     37.053619   \n",
       "min        1.000000        0.000000  9.430000e+02      0.000000   \n",
       "25%        3.000000        0.000000  6.237900e+04   1927.000000   \n",
       "50%        5.000000        0.000000  9.136700e+04   1951.000000   \n",
       "75%        6.000000        1.000000  1.660000e+05   1977.000000   \n",
       "max        6.000000        1.000000  6.385382e+06   2015.000000   \n",
       "\n",
       "       energy_star_rating     ELEVATION  january_min_temp  january_avg_temp  \\\n",
       "count        49048.000000  75757.000000      75757.000000      75757.000000   \n",
       "mean            61.048605     39.506323         11.432343         34.310468   \n",
       "std             28.663683     60.656596          9.381027          6.996108   \n",
       "min              0.000000     -6.400000        -19.000000         10.806452   \n",
       "25%             40.000000     11.900000          6.000000         29.827586   \n",
       "50%             67.000000     25.000000         11.000000         34.451613   \n",
       "75%             85.000000     42.700000         13.000000         37.322581   \n",
       "max            100.000000   1924.500000         49.000000         64.758065   \n",
       "\n",
       "       january_max_temp  february_min_temp  ...  days_above_80F  \\\n",
       "count      75757.000000       75757.000000  ...    75757.000000   \n",
       "mean          59.054952          11.720567  ...       82.709809   \n",
       "std            5.355458          12.577272  ...       25.282913   \n",
       "min           42.000000         -13.000000  ...        0.000000   \n",
       "25%           56.000000           2.000000  ...       72.000000   \n",
       "50%           59.000000           9.000000  ...       84.000000   \n",
       "75%           62.000000          20.000000  ...       97.000000   \n",
       "max           91.000000          48.000000  ...      260.000000   \n",
       "\n",
       "       days_above_90F  days_above_100F  days_above_110F  \\\n",
       "count    75757.000000     75757.000000     75757.000000   \n",
       "mean        14.058701         0.279539         0.002442   \n",
       "std         10.943996         2.252323         0.142140   \n",
       "min          0.000000         0.000000         0.000000   \n",
       "25%          6.000000         0.000000         0.000000   \n",
       "50%         12.000000         0.000000         0.000000   \n",
       "75%         17.000000         0.000000         0.000000   \n",
       "max        185.000000       119.000000        16.000000   \n",
       "\n",
       "       direction_max_wind_speed  direction_peak_wind_speed  max_wind_speed  \\\n",
       "count              34675.000000               33946.000000    34675.000000   \n",
       "mean                  66.552675                  62.779974        4.190601   \n",
       "std                  131.147834                 130.308106        6.458789   \n",
       "min                    1.000000                   1.000000        1.000000   \n",
       "25%                    1.000000                   1.000000        1.000000   \n",
       "50%                    1.000000                   1.000000        1.000000   \n",
       "75%                    1.000000                   1.000000        1.000000   \n",
       "max                  360.000000                 360.000000       23.300000   \n",
       "\n",
       "       days_with_fog      site_eui            id  \n",
       "count   29961.000000  75757.000000  75757.000000  \n",
       "mean      109.142051     82.584693  37878.000000  \n",
       "std        50.699751     58.255403  21869.306509  \n",
       "min        12.000000      1.001169      0.000000  \n",
       "25%        88.000000     54.528601  18939.000000  \n",
       "50%       104.000000     75.293716  37878.000000  \n",
       "75%       131.000000     97.277534  56817.000000  \n",
       "max       311.000000    997.866120  75756.000000  \n",
       "\n",
       "[8 rows x 62 columns]"
      ]
     },
     "execution_count": 26,
     "metadata": {},
     "output_type": "execute_result"
    }
   ],
   "source": [
    "df.describe()"
   ]
  },
  {
   "cell_type": "code",
   "execution_count": 27,
   "id": "Tqtkc6_EUFhY",
   "metadata": {
    "colab": {
     "base_uri": "https://localhost:8080/"
    },
    "id": "Tqtkc6_EUFhY",
    "outputId": "49f441ad-2f66-4d85-a9b8-71a5b09e0bca"
   },
   "outputs": [
    {
     "data": {
      "text/plain": [
       "building_class  State_Factor\n",
       "0               State_1           268\n",
       "                State_11         3416\n",
       "                State_2          1802\n",
       "                State_4          1666\n",
       "                State_6         36021\n",
       "                State_8           385\n",
       "1               State_1          5350\n",
       "                State_10           15\n",
       "                State_11         2996\n",
       "                State_2          3069\n",
       "                State_4          2634\n",
       "                State_6         14819\n",
       "                State_8          3316\n",
       "dtype: int64"
      ]
     },
     "execution_count": 27,
     "metadata": {},
     "output_type": "execute_result"
    }
   ],
   "source": [
    "group_by_ = df.groupby(['building_class','State_Factor'])\n",
    "group_by_.size()"
   ]
  },
  {
   "cell_type": "code",
   "execution_count": 28,
   "id": "6oZESg2CWSFa",
   "metadata": {
    "colab": {
     "base_uri": "https://localhost:8080/"
    },
    "id": "6oZESg2CWSFa",
    "outputId": "c8f7bf10-e60e-47bd-c444-7e9068c16a74"
   },
   "outputs": [
    {
     "data": {
      "text/plain": [
       "building_class  year_built\n",
       "0               1649.0          4\n",
       "                1800.0          2\n",
       "                1815.0          1\n",
       "                1827.0          4\n",
       "                1836.0          4\n",
       "                             ... \n",
       "1               2011.0        114\n",
       "                2012.0        157\n",
       "                2013.0        185\n",
       "                2014.0         97\n",
       "                2015.0         43\n",
       "Length: 325, dtype: int64"
      ]
     },
     "execution_count": 28,
     "metadata": {},
     "output_type": "execute_result"
    }
   ],
   "source": [
    "group_by_ = df.groupby(['building_class','year_built'])\n",
    "group_by_.size()"
   ]
  },
  {
   "cell_type": "code",
   "execution_count": 29,
   "id": "xL8VuJeDXb8n",
   "metadata": {
    "colab": {
     "base_uri": "https://localhost:8080/"
    },
    "id": "xL8VuJeDXb8n",
    "outputId": "04456d95-2368-4d6a-9ece-41023c7a56c1"
   },
   "outputs": [
    {
     "data": {
      "text/plain": [
       "1837"
      ]
     },
     "execution_count": 29,
     "metadata": {},
     "output_type": "execute_result"
    }
   ],
   "source": [
    "df['year_built'].isnull().sum()"
   ]
  },
  {
   "cell_type": "code",
   "execution_count": 30,
   "id": "S59ndBkgXEum",
   "metadata": {
    "colab": {
     "base_uri": "https://localhost:8080/",
     "height": 299
    },
    "id": "S59ndBkgXEum",
    "outputId": "7e4928c3-8d72-43cf-b0c3-98d9f32c003a"
   },
   "outputs": [
    {
     "data": {
      "text/plain": [
       "<AxesSubplot:xlabel='State_Factor', ylabel='site_eui'>"
      ]
     },
     "execution_count": 30,
     "metadata": {},
     "output_type": "execute_result"
    },
    {
     "data": {
      "image/png": "[encoded data removed]",
      "text/plain": [
       "<Figure size 432x288 with 1 Axes>"
      ]
     },
     "metadata": {
      "needs_background": "light"
     },
     "output_type": "display_data"
    }
   ],
   "source": [
    "df.plot.scatter(x=\"State_Factor\", y=\"site_eui\")"
   ]
  },
  {
   "cell_type": "code",
   "execution_count": 31,
   "id": "eCQZMH5NbLr1",
   "metadata": {
    "colab": {
     "base_uri": "https://localhost:8080/",
     "height": 316
    },
    "id": "eCQZMH5NbLr1",
    "outputId": "e41338da-7ab0-487d-d475-c4992c1ccd77"
   },
   "outputs": [
    {
     "data": {
      "text/plain": [
       "array([[<AxesSubplot:title={'center':'days_below_20F'}>]], dtype=object)"
      ]
     },
     "execution_count": 31,
     "metadata": {},
     "output_type": "execute_result"
    },
    {
     "data": {
      "image/png": "[encoded data removed]",
      "text/plain": [
       "<Figure size 432x288 with 1 Axes>"
      ]
     },
     "metadata": {
      "needs_background": "light"
     },
     "output_type": "display_data"
    }
   ],
   "source": [
    "df[[\"days_below_20F\"]].hist()"
   ]
  },
  {
   "cell_type": "markdown",
   "id": "AYmJCraXgjQZ",
   "metadata": {
    "id": "AYmJCraXgjQZ"
   },
   "source": [
    "So,most of the places have around 15-20days below 20F"
   ]
  },
  {
   "cell_type": "code",
   "execution_count": 32,
   "id": "QcVFW0Utf8aL",
   "metadata": {
    "colab": {
     "base_uri": "https://localhost:8080/"
    },
    "id": "QcVFW0Utf8aL",
    "outputId": "f1da3507-313a-439b-d69b-9d4eaeabaa7e"
   },
   "outputs": [
    {
     "data": {
      "text/plain": [
       "days_below_0F\n",
       "0     57405\n",
       "1     13131\n",
       "2         2\n",
       "3         2\n",
       "4        20\n",
       "5         1\n",
       "6      2122\n",
       "7       250\n",
       "8       844\n",
       "12      290\n",
       "15     1076\n",
       "17       99\n",
       "19      191\n",
       "20       95\n",
       "21      186\n",
       "22        2\n",
       "25       15\n",
       "29        1\n",
       "31       25\n",
       "dtype: int64"
      ]
     },
     "execution_count": 32,
     "metadata": {},
     "output_type": "execute_result"
    }
   ],
   "source": [
    "group_by_ = df.groupby(['days_below_0F'])\n",
    "group_by_.size()"
   ]
  },
  {
   "cell_type": "code",
   "execution_count": null,
   "id": "c7ea2856",
   "metadata": {},
   "outputs": [],
   "source": []
  }
 ],
 "metadata": {
  "colab": {
   "name": "Week 1 Assignment.ipynb",
   "provenance": []
  },
  "kernelspec": {
   "display_name": "Python 3",
   "language": "python",
   "name": "python3"
  },
  "language_info": {
   "codemirror_mode": {
    "name": "ipython",
    "version": 3
   },
   "file_extension": ".py",
   "mimetype": "text/x-python",
   "name": "python",
   "nbconvert_exporter": "python",
   "pygments_lexer": "ipython3",
   "version": "3.8.8"
  }
 },
 "nbformat": 4,
 "nbformat_minor": 5
}
