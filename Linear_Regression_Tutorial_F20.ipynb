{
 "cells": [
  {
   "cell_type": "markdown",
   "metadata": {},
   "source": [
    "# Introduction\n",
    "\n",
    "Linear Regression Analysis"
   ]
  },
  {
   "cell_type": "code",
   "execution_count": 1,
   "metadata": {},
   "outputs": [],
   "source": [
    "# By default in a Jupyter notebook, a cell with multiple print commands, when run, would print only the last one. \n",
    "# This piece of code would modify that to print all the relevant lines in the cell.  \n",
    "from IPython.core.interactiveshell import InteractiveShell\n",
    "InteractiveShell.ast_node_interactivity = \"all\""
   ]
  },
  {
   "cell_type": "code",
   "execution_count": 2,
   "metadata": {
    "_cell_guid": "2ba3154a-c2aa-3158-1984-63ad2c0c786a"
   },
   "outputs": [],
   "source": [
    "# Import libraries\n",
    "import pandas as pd\n",
    "import numpy as np\n",
    "from sklearn.model_selection import train_test_split\n",
    "from sklearn.preprocessing import StandardScaler\n",
    "from sklearn.linear_model import LinearRegression\n",
    "from sklearn.metrics import mean_squared_error, make_scorer\n",
    "import statsmodels.api as sm # import statsmodels \n",
    "from statsmodels.formula.api import ols\n",
    "import statsmodels.stats.api as sms\n",
    "from statsmodels.compat import lzip\n",
    "from statsmodels.stats.outliers_influence import OLSInfluence\n",
    "import matplotlib.pyplot as plt\n",
    "import math\n",
    "\n",
    "# Definitions\n",
    "pd.set_option('display.float_format', lambda x: '%.3f' % x)\n",
    "%matplotlib inline"
   ]
  },
  {
   "cell_type": "markdown",
   "metadata": {},
   "source": [
    "## Loading the data\n",
    "\n",
    "To illustrate regression analysis, we will use AMES data. Data set contains information from the Ames Assessor’s Office used in computing assessed values for individual residential properties sold in Ames, IA from 2006 to 2010.\n",
    "\n",
    "\n",
    "Source:\n",
    "De Cock, D. (2011). \"Ames, Iowa: Alternative to the Boston Housing Data as an End of Semester Regression Project,\" Journal of Statistics Education, Volume 19, Number 3.\n",
    "\n",
    "http://jse.amstat.org/v19n3/decock/DataDocumentation.txt"
   ]
  },
  {
   "cell_type": "code",
   "execution_count": 3,
   "metadata": {
    "_cell_guid": "21fa35be-878b-b4f2-ef6e-68dc070b8bfa"
   },
   "outputs": [
    {
     "name": "stdout",
     "output_type": "stream",
     "text": [
      "indata : (2930, 82)\n"
     ]
    }
   ],
   "source": [
    "# Load data\n",
    "indata = pd.read_csv(\"data/AmesHousing.csv\")\n",
    "print(\"indata : \" + str(indata.shape))"
   ]
  },
  {
   "cell_type": "markdown",
   "metadata": {},
   "source": [
    "## Data Cleaning and Feature Creation\n",
    "Skipped in this notebook are all the steps for data cleaning and feature creation\n",
    "Please refer to this notebook for a detailed insight into the above mentioned aspects\n",
    "https://www.kaggle.com/juliencs/a-study-on-regression-applied-to-the-ames-dataset"
   ]
  },
  {
   "cell_type": "markdown",
   "metadata": {},
   "source": [
    "## Split data into training and testing"
   ]
  },
  {
   "cell_type": "code",
   "execution_count": 4,
   "metadata": {},
   "outputs": [],
   "source": [
    "#####Random split\n",
    "#train, test = train_test_split(indata, train_size=0.70, random_state=42)\n",
    "#print(\"train : \" + str(train.shape))\n",
    "#print(\"test : \" + str(test.shape))"
   ]
  },
  {
   "cell_type": "code",
   "execution_count": 5,
   "metadata": {},
   "outputs": [
    {
     "name": "stdout",
     "output_type": "stream",
     "text": [
      "train : (2589, 82)\n",
      "test : (341, 82)\n"
     ]
    }
   ],
   "source": [
    "# Split by year\n",
    "train = indata[np.array(indata['Yr Sold'].astype(np.float32)) < 2010]\n",
    "test = indata[np.array(indata['Yr Sold'].astype(np.float32)) >= 2010]\n",
    "print(\"train : \" + str(train.shape))\n",
    "print(\"test : \" + str(test.shape))"
   ]
  },
  {
   "cell_type": "markdown",
   "metadata": {},
   "source": [
    "## Exploratory Data Analysis"
   ]
  },
  {
   "cell_type": "code",
   "execution_count": 6,
   "metadata": {
    "_cell_guid": "a345817d-8b0c-7467-7524-16a4cbb02794"
   },
   "outputs": [
    {
     "name": "stdout",
     "output_type": "stream",
     "text": [
      "Find most important features relative to target\n",
      "SalePrice          1.000\n",
      "Overall Qual       0.802\n",
      "Gr Liv Area        0.709\n",
      "Garage Cars        0.648\n",
      "Garage Area        0.643\n",
      "Total Bsmt SF      0.629\n",
      "1st Flr SF         0.619\n",
      "Year Built         0.555\n",
      "Full Bath          0.553\n",
      "Year Remod/Add     0.535\n",
      "Garage Yr Blt      0.524\n",
      "Mas Vnr Area       0.514\n",
      "TotRms AbvGrd      0.499\n",
      "Fireplaces         0.478\n",
      "BsmtFin SF 1       0.432\n",
      "Lot Frontage       0.366\n",
      "Wood Deck SF       0.338\n",
      "Open Porch SF      0.307\n",
      "Half Bath          0.284\n",
      "Bsmt Full Bath     0.284\n",
      "2nd Flr SF         0.277\n",
      "Lot Area           0.258\n",
      "Bsmt Unf SF        0.181\n",
      "Bedroom AbvGr      0.148\n",
      "Screen Porch       0.115\n",
      "Pool Area          0.071\n",
      "Mo Sold            0.031\n",
      "3Ssn Porch         0.029\n",
      "BsmtFin SF 2       0.011\n",
      "Yr Sold           -0.010\n",
      "Misc Val          -0.016\n",
      "Bsmt Half Bath    -0.037\n",
      "Low Qual Fin SF   -0.038\n",
      "Order             -0.062\n",
      "MS SubClass       -0.074\n",
      "Overall Cond      -0.106\n",
      "Kitchen AbvGr     -0.117\n",
      "Enclosed Porch    -0.125\n",
      "PID               -0.247\n",
      "Name: SalePrice, dtype: float64\n"
     ]
    }
   ],
   "source": [
    "# Find most important features relative to target\n",
    "print(\"Find most important features relative to target\")\n",
    "corr = train.corr()\n",
    "corr.sort_values([\"SalePrice\"], ascending = False, inplace = True)\n",
    "print(corr.SalePrice)"
   ]
  },
  {
   "cell_type": "markdown",
   "metadata": {},
   "source": [
    "### Constructing Feature Matrix"
   ]
  },
  {
   "cell_type": "code",
   "execution_count": 7,
   "metadata": {},
   "outputs": [],
   "source": [
    "train_slm = train[['Gr Liv Area','SalePrice']]\n",
    "X = train_slm[['Gr Liv Area']] ## X usually means our input variables (or independent variables)\n",
    "y = train_slm.SalePrice ## Y usually means our output/dependent variable\n",
    "\n",
    "test_slm = test[['Gr Liv Area','SalePrice']]\n",
    "X_test = test_slm[['Gr Liv Area']]\n",
    "y_test = test_slm.SalePrice"
   ]
  },
  {
   "cell_type": "code",
   "execution_count": 8,
   "metadata": {
    "scrolled": true
   },
   "outputs": [
    {
     "data": {
      "text/html": [
       "<div>\n",
       "<style scoped>\n",
       "    .dataframe tbody tr th:only-of-type {\n",
       "        vertical-align: middle;\n",
       "    }\n",
       "\n",
       "    .dataframe tbody tr th {\n",
       "        vertical-align: top;\n",
       "    }\n",
       "\n",
       "    .dataframe thead th {\n",
       "        text-align: right;\n",
       "    }\n",
       "</style>\n",
       "<table border=\"1\" class=\"dataframe\">\n",
       "  <thead>\n",
       "    <tr style=\"text-align: right;\">\n",
       "      <th></th>\n",
       "      <th>Gr Liv Area</th>\n",
       "      <th>SalePrice</th>\n",
       "    </tr>\n",
       "  </thead>\n",
       "  <tbody>\n",
       "    <tr>\n",
       "      <th>count</th>\n",
       "      <td>2589.000</td>\n",
       "      <td>2589.000</td>\n",
       "    </tr>\n",
       "    <tr>\n",
       "      <th>mean</th>\n",
       "      <td>1505.577</td>\n",
       "      <td>181875.888</td>\n",
       "    </tr>\n",
       "    <tr>\n",
       "      <th>std</th>\n",
       "      <td>510.237</td>\n",
       "      <td>80504.708</td>\n",
       "    </tr>\n",
       "    <tr>\n",
       "      <th>min</th>\n",
       "      <td>334.000</td>\n",
       "      <td>13100.000</td>\n",
       "    </tr>\n",
       "    <tr>\n",
       "      <th>25%</th>\n",
       "      <td>1131.000</td>\n",
       "      <td>129900.000</td>\n",
       "    </tr>\n",
       "    <tr>\n",
       "      <th>50%</th>\n",
       "      <td>1450.000</td>\n",
       "      <td>161500.000</td>\n",
       "    </tr>\n",
       "    <tr>\n",
       "      <th>75%</th>\n",
       "      <td>1750.000</td>\n",
       "      <td>214000.000</td>\n",
       "    </tr>\n",
       "    <tr>\n",
       "      <th>max</th>\n",
       "      <td>5642.000</td>\n",
       "      <td>755000.000</td>\n",
       "    </tr>\n",
       "  </tbody>\n",
       "</table>\n",
       "</div>"
      ],
      "text/plain": [
       "       Gr Liv Area  SalePrice\n",
       "count     2589.000   2589.000\n",
       "mean      1505.577 181875.888\n",
       "std        510.237  80504.708\n",
       "min        334.000  13100.000\n",
       "25%       1131.000 129900.000\n",
       "50%       1450.000 161500.000\n",
       "75%       1750.000 214000.000\n",
       "max       5642.000 755000.000"
      ]
     },
     "execution_count": 8,
     "metadata": {},
     "output_type": "execute_result"
    }
   ],
   "source": [
    "train_slm.describe()"
   ]
  },
  {
   "cell_type": "markdown",
   "metadata": {},
   "source": [
    "## Scatter Plot of response and regressors"
   ]
  },
  {
   "cell_type": "code",
   "execution_count": 9,
   "metadata": {
    "_cell_guid": "e9e99565-3296-cb48-3cc7-722b94e3fdac"
   },
   "outputs": [
    {
     "data": {
      "text/plain": [
       "<matplotlib.collections.PathCollection at 0x7ff3e1bd17c0>"
      ]
     },
     "execution_count": 9,
     "metadata": {},
     "output_type": "execute_result"
    },
    {
     "data": {
      "text/plain": [
       "Text(0.5, 1.0, 'Bi-variate Scatter Plot')"
      ]
     },
     "execution_count": 9,
     "metadata": {},
     "output_type": "execute_result"
    },
    {
     "data": {
      "text/plain": [
       "Text(0.5, 0, 'X')"
      ]
     },
     "execution_count": 9,
     "metadata": {},
     "output_type": "execute_result"
    },
    {
     "data": {
      "text/plain": [
       "Text(0, 0.5, 'SalePrice')"
      ]
     },
     "execution_count": 9,
     "metadata": {},
     "output_type": "execute_result"
    },
    {
     "data": {
      "image/png": "[encoded data removed]",
      "text/plain": [
       "<Figure size 432x288 with 1 Axes>"
      ]
     },
     "metadata": {
      "needs_background": "light"
     },
     "output_type": "display_data"
    }
   ],
   "source": [
    "# Lets fit a simple linear model using a single regressor \n",
    "plt.scatter(X, y, c = \"blue\", marker = \"s\")\n",
    "plt.title(\"Bi-variate Scatter Plot\")\n",
    "plt.xlabel(\"X\")\n",
    "plt.ylabel(\"SalePrice\")\n",
    "plt.show()"
   ]
  },
  {
   "cell_type": "code",
   "execution_count": 10,
   "metadata": {},
   "outputs": [
    {
     "data": {
      "text/html": [
       "<div>\n",
       "<style scoped>\n",
       "    .dataframe tbody tr th:only-of-type {\n",
       "        vertical-align: middle;\n",
       "    }\n",
       "\n",
       "    .dataframe tbody tr th {\n",
       "        vertical-align: top;\n",
       "    }\n",
       "\n",
       "    .dataframe thead th {\n",
       "        text-align: right;\n",
       "    }\n",
       "</style>\n",
       "<table border=\"1\" class=\"dataframe\">\n",
       "  <thead>\n",
       "    <tr style=\"text-align: right;\">\n",
       "      <th></th>\n",
       "      <th>Gr Liv Area</th>\n",
       "      <th>SalePrice</th>\n",
       "    </tr>\n",
       "  </thead>\n",
       "  <tbody>\n",
       "    <tr>\n",
       "      <th>1498</th>\n",
       "      <td>5642</td>\n",
       "      <td>160000</td>\n",
       "    </tr>\n",
       "    <tr>\n",
       "      <th>1760</th>\n",
       "      <td>4476</td>\n",
       "      <td>745000</td>\n",
       "    </tr>\n",
       "    <tr>\n",
       "      <th>1767</th>\n",
       "      <td>4316</td>\n",
       "      <td>755000</td>\n",
       "    </tr>\n",
       "    <tr>\n",
       "      <th>2180</th>\n",
       "      <td>5095</td>\n",
       "      <td>183850</td>\n",
       "    </tr>\n",
       "    <tr>\n",
       "      <th>2181</th>\n",
       "      <td>4676</td>\n",
       "      <td>184750</td>\n",
       "    </tr>\n",
       "  </tbody>\n",
       "</table>\n",
       "</div>"
      ],
      "text/plain": [
       "      Gr Liv Area  SalePrice\n",
       "1498         5642     160000\n",
       "1760         4476     745000\n",
       "1767         4316     755000\n",
       "2180         5095     183850\n",
       "2181         4676     184750"
      ]
     },
     "execution_count": 10,
     "metadata": {},
     "output_type": "execute_result"
    }
   ],
   "source": [
    "## Influencial observations\n",
    "train_slm[np.array(train_slm['Gr Liv Area'].astype(np.float32)) > 4000]"
   ]
  },
  {
   "cell_type": "code",
   "execution_count": 11,
   "metadata": {},
   "outputs": [
    {
     "name": "stdout",
     "output_type": "stream",
     "text": [
      "num of observations removed : 5\n"
     ]
    }
   ],
   "source": [
    "####Remove influential observations\n",
    "train_cl = train_slm[np.array(train_slm['Gr Liv Area'].astype(np.float32)) < 4000]\n",
    "print(\"num of observations removed : \" + str(train_slm.shape[0] - train_cl.shape[0]))\n",
    "X = train_cl[['Gr Liv Area']] ## X usually means our input variables (or independent variables)\n",
    "y = train_cl.SalePrice ## Y usually means our output/dependent variable"
   ]
  },
  {
   "cell_type": "markdown",
   "metadata": {},
   "source": [
    "## Distribution Analysis of Response"
   ]
  },
  {
   "cell_type": "code",
   "execution_count": 12,
   "metadata": {},
   "outputs": [
    {
     "data": {
      "text/plain": [
       "((array([-3.46187829, -3.21552519, -3.07914658, ...,  3.07914658,\n",
       "          3.21552519,  3.46187829]),\n",
       "  array([ 13100,  34900,  35000, ..., 610000, 615000, 625000])),\n",
       " (74467.22960724245, 181442.75348297213, 0.9415030723170231))"
      ]
     },
     "execution_count": 12,
     "metadata": {},
     "output_type": "execute_result"
    },
    {
     "data": {
      "image/png": "[encoded data removed]",
      "text/plain": [
       "<Figure size 432x288 with 1 Axes>"
      ]
     },
     "metadata": {
      "needs_background": "light"
     },
     "output_type": "display_data"
    },
    {
     "data": {
      "text/plain": [
       "((array([-3.46187829, -3.21552519, -3.07914658, ...,  3.07914658,\n",
       "          3.21552519,  3.46187829]),\n",
       "  array([ 9.48036751, 10.46024211, 10.46310334, ..., 13.32121424,\n",
       "         13.32937755, 13.34550693])),\n",
       " (0.4023941289877257, 12.0257616617671, 0.9938320751082984))"
      ]
     },
     "execution_count": 12,
     "metadata": {},
     "output_type": "execute_result"
    },
    {
     "data": {
      "image/png": "[encoded data removed]",
      "text/plain": [
       "<Figure size 432x288 with 1 Axes>"
      ]
     },
     "metadata": {
      "needs_background": "light"
     },
     "output_type": "display_data"
    }
   ],
   "source": [
    "# Normal Probability plot of the Response\n",
    "from scipy import stats\n",
    "stats.probplot(y, plot=plt)\n",
    "plt.show()\n",
    "\n",
    "#Normal Probability plot of transformed response\n",
    "from scipy import stats\n",
    "stats.probplot(np.log(y), plot=plt)\n",
    "plt.show()"
   ]
  },
  {
   "cell_type": "markdown",
   "metadata": {},
   "source": [
    "### Transform Response?"
   ]
  },
  {
   "cell_type": "code",
   "execution_count": 13,
   "metadata": {},
   "outputs": [],
   "source": [
    "y_= np.log(y)\n",
    "y_test_ = np.log(y_test)\n",
    "#y_= y\n",
    "#y_test_=y_test"
   ]
  },
  {
   "cell_type": "markdown",
   "metadata": {},
   "source": [
    "## Fit a Regression Model"
   ]
  },
  {
   "cell_type": "code",
   "execution_count": 14,
   "metadata": {},
   "outputs": [
    {
     "data": {
      "text/html": [
       "<table class=\"simpletable\">\n",
       "<caption>OLS Regression Results</caption>\n",
       "<tr>\n",
       "  <th>Dep. Variable:</th>        <td>SalePrice</td>    <th>  R-squared:         </th> <td>   0.519</td>\n",
       "</tr>\n",
       "<tr>\n",
       "  <th>Model:</th>                   <td>OLS</td>       <th>  Adj. R-squared:    </th> <td>   0.518</td>\n",
       "</tr>\n",
       "<tr>\n",
       "  <th>Method:</th>             <td>Least Squares</td>  <th>  F-statistic:       </th> <td>   2782.</td>\n",
       "</tr>\n",
       "<tr>\n",
       "  <th>Date:</th>             <td>Mon, 07 Feb 2022</td> <th>  Prob (F-statistic):</th>  <td>  0.00</td> \n",
       "</tr>\n",
       "<tr>\n",
       "  <th>Time:</th>                 <td>09:53:28</td>     <th>  Log-Likelihood:    </th> <td> -382.47</td>\n",
       "</tr>\n",
       "<tr>\n",
       "  <th>No. Observations:</th>      <td>  2584</td>      <th>  AIC:               </th> <td>   768.9</td>\n",
       "</tr>\n",
       "<tr>\n",
       "  <th>Df Residuals:</th>          <td>  2582</td>      <th>  BIC:               </th> <td>   780.6</td>\n",
       "</tr>\n",
       "<tr>\n",
       "  <th>Df Model:</th>              <td>     1</td>      <th>                     </th>     <td> </td>   \n",
       "</tr>\n",
       "<tr>\n",
       "  <th>Covariance Type:</th>      <td>nonrobust</td>    <th>                     </th>     <td> </td>   \n",
       "</tr>\n",
       "</table>\n",
       "<table class=\"simpletable\">\n",
       "<tr>\n",
       "       <td></td>          <th>coef</th>     <th>std err</th>      <th>t</th>      <th>P>|t|</th>  <th>[0.025</th>    <th>0.975]</th>  \n",
       "</tr>\n",
       "<tr>\n",
       "  <th>const</th>       <td>   11.1322</td> <td>    0.018</td> <td>  624.758</td> <td> 0.000</td> <td>   11.097</td> <td>   11.167</td>\n",
       "</tr>\n",
       "<tr>\n",
       "  <th>Gr Liv Area</th> <td>    0.0006</td> <td> 1.13e-05</td> <td>   52.746</td> <td> 0.000</td> <td>    0.001</td> <td>    0.001</td>\n",
       "</tr>\n",
       "</table>\n",
       "<table class=\"simpletable\">\n",
       "<tr>\n",
       "  <th>Omnibus:</th>       <td>298.604</td> <th>  Durbin-Watson:     </th> <td>   1.042</td> \n",
       "</tr>\n",
       "<tr>\n",
       "  <th>Prob(Omnibus):</th> <td> 0.000</td>  <th>  Jarque-Bera (JB):  </th> <td> 745.402</td> \n",
       "</tr>\n",
       "<tr>\n",
       "  <th>Skew:</th>          <td>-0.657</td>  <th>  Prob(JB):          </th> <td>1.37e-162</td>\n",
       "</tr>\n",
       "<tr>\n",
       "  <th>Kurtosis:</th>      <td> 5.279</td>  <th>  Cond. No.          </th> <td>5.09e+03</td> \n",
       "</tr>\n",
       "</table><br/><br/>Notes:<br/>[1] Standard Errors assume that the covariance matrix of the errors is correctly specified.<br/>[2] The condition number is large, 5.09e+03. This might indicate that there are<br/>strong multicollinearity or other numerical problems."
      ],
      "text/plain": [
       "<class 'statsmodels.iolib.summary.Summary'>\n",
       "\"\"\"\n",
       "                            OLS Regression Results                            \n",
       "==============================================================================\n",
       "Dep. Variable:              SalePrice   R-squared:                       0.519\n",
       "Model:                            OLS   Adj. R-squared:                  0.518\n",
       "Method:                 Least Squares   F-statistic:                     2782.\n",
       "Date:                Mon, 07 Feb 2022   Prob (F-statistic):               0.00\n",
       "Time:                        09:53:28   Log-Likelihood:                -382.47\n",
       "No. Observations:                2584   AIC:                             768.9\n",
       "Df Residuals:                    2582   BIC:                             780.6\n",
       "Df Model:                           1                                         \n",
       "Covariance Type:            nonrobust                                         \n",
       "===============================================================================\n",
       "                  coef    std err          t      P>|t|      [0.025      0.975]\n",
       "-------------------------------------------------------------------------------\n",
       "const          11.1322      0.018    624.758      0.000      11.097      11.167\n",
       "Gr Liv Area     0.0006   1.13e-05     52.746      0.000       0.001       0.001\n",
       "==============================================================================\n",
       "Omnibus:                      298.604   Durbin-Watson:                   1.042\n",
       "Prob(Omnibus):                  0.000   Jarque-Bera (JB):              745.402\n",
       "Skew:                          -0.657   Prob(JB):                    1.37e-162\n",
       "Kurtosis:                       5.279   Cond. No.                     5.09e+03\n",
       "==============================================================================\n",
       "\n",
       "Notes:\n",
       "[1] Standard Errors assume that the covariance matrix of the errors is correctly specified.\n",
       "[2] The condition number is large, 5.09e+03. This might indicate that there are\n",
       "strong multicollinearity or other numerical problems.\n",
       "\"\"\""
      ]
     },
     "execution_count": 14,
     "metadata": {},
     "output_type": "execute_result"
    }
   ],
   "source": [
    "X_ = sm.add_constant(X) ## let's add an intercept (beta_0) to our model\n",
    "\n",
    "# Note the difference in argument order\n",
    "model = sm.OLS(y_, X_).fit() ## sm.OLS(output, input)\n",
    "predictions = model.predict(X_)\n",
    "\n",
    "# Print out the statistics\n",
    "model.summary()"
   ]
  },
  {
   "cell_type": "code",
   "execution_count": 15,
   "metadata": {},
   "outputs": [
    {
     "name": "stdout",
     "output_type": "stream",
     "text": [
      "Parameters:  const         11.132\n",
      "Gr Liv Area    0.001\n",
      "dtype: float64\n",
      "Standard errors:  const         0.018\n",
      "Gr Liv Area   0.000\n",
      "dtype: float64\n",
      "Predicted values:  [11.65791298 11.98694395 12.74395361 ... 11.71036719 11.96012077\n",
      " 12.32431991]\n"
     ]
    }
   ],
   "source": [
    "print('Parameters: ', model.params)\n",
    "print('Standard errors: ', model.bse)\n",
    "print('Predicted values: ', model.predict())"
   ]
  },
  {
   "cell_type": "markdown",
   "metadata": {},
   "source": [
    "### Residual Analysis"
   ]
  },
  {
   "cell_type": "code",
   "execution_count": 16,
   "metadata": {},
   "outputs": [
    {
     "data": {
      "text/plain": [
       "[<matplotlib.lines.Line2D at 0x7ff3f03ee790>]"
      ]
     },
     "execution_count": 16,
     "metadata": {},
     "output_type": "execute_result"
    },
    {
     "data": {
      "text/plain": [
       "Text(0.5, 1.0, 'Residual Plot')"
      ]
     },
     "execution_count": 16,
     "metadata": {},
     "output_type": "execute_result"
    },
    {
     "data": {
      "text/plain": [
       "Text(0.5, 0, 'Independent Variable')"
      ]
     },
     "execution_count": 16,
     "metadata": {},
     "output_type": "execute_result"
    },
    {
     "data": {
      "text/plain": [
       "Text(0, 0.5, 'Residual')"
      ]
     },
     "execution_count": 16,
     "metadata": {},
     "output_type": "execute_result"
    },
    {
     "data": {
      "image/png": "[encoded data removed]",
      "text/plain": [
       "<Figure size 432x288 with 1 Axes>"
      ]
     },
     "metadata": {
      "needs_background": "light"
     },
     "output_type": "display_data"
    }
   ],
   "source": [
    "#Residuals vs Regressor\n",
    "residuals = y_- predictions\n",
    "plt.plot(X,residuals, 'o', color='darkblue')\n",
    "plt.title(\"Residual Plot\")\n",
    "plt.xlabel(\"Independent Variable\")\n",
    "plt.ylabel(\"Residual\")\n"
   ]
  },
  {
   "cell_type": "code",
   "execution_count": 17,
   "metadata": {},
   "outputs": [
    {
     "data": {
      "text/plain": [
       "[<matplotlib.lines.Line2D at 0x7ff3b80964c0>]"
      ]
     },
     "execution_count": 17,
     "metadata": {},
     "output_type": "execute_result"
    },
    {
     "data": {
      "text/plain": [
       "Text(0.5, 1.0, 'Residual Plot')"
      ]
     },
     "execution_count": 17,
     "metadata": {},
     "output_type": "execute_result"
    },
    {
     "data": {
      "text/plain": [
       "Text(0.5, 0, 'Predicted response')"
      ]
     },
     "execution_count": 17,
     "metadata": {},
     "output_type": "execute_result"
    },
    {
     "data": {
      "text/plain": [
       "Text(0, 0.5, 'Residual')"
      ]
     },
     "execution_count": 17,
     "metadata": {},
     "output_type": "execute_result"
    },
    {
     "data": {
      "image/png": "[encoded data removed]",
      "text/plain": [
       "<Figure size 432x288 with 1 Axes>"
      ]
     },
     "metadata": {
      "needs_background": "light"
     },
     "output_type": "display_data"
    }
   ],
   "source": [
    "#Residuals vs Predicted\n",
    "residuals = y_ - predictions\n",
    "plt.plot(predictions,residuals, 'o', color='darkblue')\n",
    "plt.title(\"Residual Plot\")\n",
    "plt.xlabel(\"Predicted response\")\n",
    "plt.ylabel(\"Residual\")\n"
   ]
  },
  {
   "cell_type": "code",
   "execution_count": 18,
   "metadata": {},
   "outputs": [
    {
     "data": {
      "text/plain": [
       "((array([-3.46187829, -3.21552519, -3.07914658, ...,  3.07914658,\n",
       "          3.21552519,  3.46187829]),\n",
       "  array([-2.08873095, -1.35769511, -1.32056895, ...,  0.76340448,\n",
       "          0.76477227,  0.90101423])),\n",
       " (0.27696081763244546, 6.682716320932488e-15, 0.9859422287852991))"
      ]
     },
     "execution_count": 18,
     "metadata": {},
     "output_type": "execute_result"
    },
    {
     "data": {
      "image/png": "[encoded data removed]",
      "text/plain": [
       "<Figure size 432x288 with 1 Axes>"
      ]
     },
     "metadata": {
      "needs_background": "light"
     },
     "output_type": "display_data"
    }
   ],
   "source": [
    "# Normal Probability Plot of residuals\n",
    "from scipy import stats\n",
    "stats.probplot(residuals, plot=plt)\n",
    "plt.show()"
   ]
  },
  {
   "cell_type": "code",
   "execution_count": 19,
   "metadata": {},
   "outputs": [
    {
     "data": {
      "text/plain": [
       "[<matplotlib.lines.Line2D at 0x7ff3d1b52250>]"
      ]
     },
     "execution_count": 19,
     "metadata": {},
     "output_type": "execute_result"
    },
    {
     "data": {
      "text/plain": [
       "[<matplotlib.lines.Line2D at 0x7ff3d1b52460>]"
      ]
     },
     "execution_count": 19,
     "metadata": {},
     "output_type": "execute_result"
    },
    {
     "data": {
      "text/plain": [
       "Text(0.5, 1.0, 'Actuals vs Regression Line')"
      ]
     },
     "execution_count": 19,
     "metadata": {},
     "output_type": "execute_result"
    },
    {
     "data": {
      "image/png": "[encoded data removed]",
      "text/plain": [
       "<Figure size 432x288 with 1 Axes>"
      ]
     },
     "metadata": {
      "needs_background": "light"
     },
     "output_type": "display_data"
    }
   ],
   "source": [
    "#Plot Our Actual and Predicted Values\n",
    "plt.plot(X, y_, 'o', color='black');\n",
    "plt.plot(X,predictions,color='blue')\n",
    "plt.title(\"Actuals vs Regression Line\")"
   ]
  },
  {
   "cell_type": "markdown",
   "metadata": {},
   "source": [
    "### Hypothesis Test and CI on the Parameters"
   ]
  },
  {
   "cell_type": "code",
   "execution_count": 20,
   "metadata": {},
   "outputs": [
    {
     "name": "stdout",
     "output_type": "stream",
     "text": [
      "t-statistic for slope : 52.74595507389235\n",
      "p-value for hypothesis on slope=0 : 0.0\n",
      "CI on the slope parameter : (0.0005739111076576919, 0.000618230090598494)\n"
     ]
    }
   ],
   "source": [
    "from scipy import stats\n",
    "#tStat, pValue =  scipy.stats.ttest_1samp(model.params[1], 0, axis=0)\n",
    "#print(\"P-Value:{0} T-Statistic:{1}\".format(pValue,tStat))\n",
    "N = 2589\n",
    "t = model.params[1]/model.bse[1]\n",
    "print(\"t-statistic for slope : \" + str(t))\n",
    "\n",
    "## Compare with the critical t-value\n",
    "#Degrees of freedom\n",
    "df = N - 2\n",
    "\n",
    "#p-value after comparison with the t \n",
    "p = 1 - stats.t.cdf(t,df=df)\n",
    "print(\"p-value for hypothesis on slope=0 : \" + str(p))\n",
    "\n",
    "#Confidence Interval on the slope\n",
    "ci_slope = stats.t.interval(alpha=0.95, df=N-1, loc=model.params[1], scale=model.bse[1]) \n",
    "print(\"CI on the slope parameter : \" + str(ci_slope))"
   ]
  },
  {
   "cell_type": "markdown",
   "metadata": {},
   "source": [
    "### Prediction Accuracy"
   ]
  },
  {
   "cell_type": "code",
   "execution_count": 21,
   "metadata": {},
   "outputs": [
    {
     "data": {
      "text/plain": [
       "0   12.119\n",
       "1   11.666\n",
       "2   11.924\n",
       "3   12.390\n",
       "4   12.103\n",
       "dtype: float64"
      ]
     },
     "execution_count": 21,
     "metadata": {},
     "output_type": "execute_result"
    },
    {
     "data": {
      "text/plain": [
       "0   12.278\n",
       "1   11.562\n",
       "2   12.055\n",
       "3   12.405\n",
       "4   12.154\n",
       "Name: SalePrice, dtype: float64"
      ]
     },
     "execution_count": 21,
     "metadata": {},
     "output_type": "execute_result"
    },
    {
     "data": {
      "text/plain": [
       "0.319116704202412"
      ]
     },
     "execution_count": 21,
     "metadata": {},
     "output_type": "execute_result"
    }
   ],
   "source": [
    "predictions = model.predict(sm.add_constant(X_test))\n",
    "predictions.head()\n",
    "y_test_.head()\n",
    "rmse = math.sqrt(np.square(np.subtract(y_test_,predictions)).mean())\n",
    "rmse"
   ]
  },
  {
   "cell_type": "markdown",
   "metadata": {},
   "source": [
    "### Model Adequacy Checking"
   ]
  },
  {
   "cell_type": "code",
   "execution_count": 22,
   "metadata": {},
   "outputs": [
    {
     "name": "stdout",
     "output_type": "stream",
     "text": [
      "                             Test for Constraints                             \n",
      "==============================================================================\n",
      "                 coef    std err          t      P>|t|      [0.025      0.975]\n",
      "------------------------------------------------------------------------------\n",
      "c0            11.1322      0.018    624.758      0.000      11.097      11.167\n",
      "==============================================================================\n"
     ]
    }
   ],
   "source": [
    "## t-test\n",
    "print(model.t_test([1, 0]))"
   ]
  },
  {
   "cell_type": "code",
   "execution_count": 23,
   "metadata": {},
   "outputs": [
    {
     "name": "stdout",
     "output_type": "stream",
     "text": [
      "<F test: F=array([[2373106.41131671]]), p=0.0, df_denom=2.58e+03, df_num=2>\n"
     ]
    }
   ],
   "source": [
    "# anova or F test\n",
    "print(model.f_test(np.identity(2)))"
   ]
  },
  {
   "cell_type": "markdown",
   "metadata": {},
   "source": [
    "### Influence and Leverage points"
   ]
  },
  {
   "cell_type": "code",
   "execution_count": 24,
   "metadata": {},
   "outputs": [
    {
     "data": {
      "text/plain": [
       "array([[-0.00272592,  0.00207899],\n",
       "       [ 0.00409795, -0.00147817]])"
      ]
     },
     "execution_count": 24,
     "metadata": {},
     "output_type": "execute_result"
    }
   ],
   "source": [
    "## Calculate the influence of each observation\n",
    "test_class = OLSInfluence(model)\n",
    "test_class.dfbetas[(1063,2180),:]"
   ]
  },
  {
   "cell_type": "code",
   "execution_count": 25,
   "metadata": {},
   "outputs": [
    {
     "data": {
      "image/png": "[encoded data removed]",
      "text/plain": [
       "<Figure size 1440x1080 with 1 Axes>"
      ]
     },
     "metadata": {
      "needs_background": "light"
     },
     "output_type": "display_data"
    }
   ],
   "source": [
    "# Checking for leverage and influential outliers\n",
    "from statsmodels.graphics.regressionplots import plot_leverage_resid2\n",
    "fig, ax = plt.subplots(figsize=(20,15))\n",
    "fig = plot_leverage_resid2(model, ax = ax)"
   ]
  },
  {
   "cell_type": "markdown",
   "metadata": {},
   "source": [
    "### Computing the Hat Matrix"
   ]
  },
  {
   "cell_type": "code",
   "execution_count": 26,
   "metadata": {},
   "outputs": [
    {
     "name": "stdout",
     "output_type": "stream",
     "text": [
      "X : (2584, 2)\n",
      "C matrix or (X'X)^-1 : (2, 2)\n",
      "Hat matrix or X((X'X)^-1)X' : (2584, 2584)\n"
     ]
    }
   ],
   "source": [
    "## Computing inverse Hat matrix X((X'X)^-1)X'\n",
    "print(\"X : \" + str(X_.shape))\n",
    "Cmat = np.linalg.inv(X_.transpose().dot(X_))\n",
    "#(X'X)^-1\n",
    "print(\"C matrix or (X'X)^-1 : \" + str(Cmat.shape))\n",
    "hat_mat_ = Cmat.dot(X_.transpose())\n",
    "hat_mat = X_.dot(hat_mat_)\n",
    "print(\"Hat matrix or X((X'X)^-1)X' : \" + str(hat_mat.shape))"
   ]
  },
  {
   "cell_type": "markdown",
   "metadata": {},
   "source": [
    "### Using SciKit Learn"
   ]
  },
  {
   "cell_type": "code",
   "execution_count": 30,
   "metadata": {},
   "outputs": [
    {
     "data": {
      "text/plain": [
       "0.5186549879598494"
      ]
     },
     "execution_count": 30,
     "metadata": {},
     "output_type": "execute_result"
    },
    {
     "name": "stdout",
     "output_type": "stream",
     "text": [
      "slope: [0.00059607]\n",
      "intercept: 11.132178708914056\n"
     ]
    }
   ],
   "source": [
    "from sklearn import linear_model\n",
    "lm = linear_model.LinearRegression(fit_intercept = True, normalize = True)\n",
    "model = lm.fit(X,y_)\n",
    "predictions = lm.predict(X_test)\n",
    "\n",
    "#Returns the coefficient of determination R^2 of the prediction.\n",
    "lm.score(X,y_)\n",
    "\n",
    "print(\"slope: {0}\".format(lm.coef_))\n",
    "print(\"intercept: {0}\".format(lm.intercept_))"
   ]
  },
  {
   "cell_type": "code",
   "execution_count": 32,
   "metadata": {},
   "outputs": [
    {
     "name": "stdout",
     "output_type": "stream",
     "text": [
      "Root Mean Square Error: 0.3191167042024126\n"
     ]
    }
   ],
   "source": [
    "from sklearn.metrics import mean_squared_error\n",
    " \n",
    "MSE = mean_squared_error(y_test_, predictions)\n",
    " \n",
    "RMSE = math.sqrt(MSE)\n",
    "print(\"Root Mean Square Error: \" + str(RMSE))"
   ]
  },
  {
   "cell_type": "markdown",
   "metadata": {},
   "source": [
    "### Categorical Variable"
   ]
  },
  {
   "cell_type": "code",
   "execution_count": 33,
   "metadata": {},
   "outputs": [],
   "source": [
    "train_slm = train[['Overall Qual','SalePrice']]\n",
    "X = train_slm[['Overall Qual']] ## X usually means our input variables (or independent variables)\n",
    "y = train_slm.SalePrice ## Y usually means our output/dependent variable\n",
    "\n",
    "test_slm = test[['Overall Qual','SalePrice']]\n",
    "X_test = test_slm[['Overall Qual']]\n",
    "y_test = test_slm.SalePrice\n",
    "\n",
    "y_= np.log(y)\n",
    "y_test_ = np.log(y_test)"
   ]
  },
  {
   "cell_type": "code",
   "execution_count": 34,
   "metadata": {},
   "outputs": [
    {
     "data": {
      "text/html": [
       "<div>\n",
       "<style scoped>\n",
       "    .dataframe tbody tr th:only-of-type {\n",
       "        vertical-align: middle;\n",
       "    }\n",
       "\n",
       "    .dataframe tbody tr th {\n",
       "        vertical-align: top;\n",
       "    }\n",
       "\n",
       "    .dataframe thead th {\n",
       "        text-align: right;\n",
       "    }\n",
       "</style>\n",
       "<table border=\"1\" class=\"dataframe\">\n",
       "  <thead>\n",
       "    <tr style=\"text-align: right;\">\n",
       "      <th></th>\n",
       "      <th>Overall Qual</th>\n",
       "      <th>OverallQual_2</th>\n",
       "      <th>OverallQual_3</th>\n",
       "      <th>OverallQual_4</th>\n",
       "      <th>OverallQual_5</th>\n",
       "      <th>OverallQual_6</th>\n",
       "      <th>OverallQual_7</th>\n",
       "      <th>OverallQual_8</th>\n",
       "      <th>OverallQual_9</th>\n",
       "      <th>OverallQual_10</th>\n",
       "    </tr>\n",
       "  </thead>\n",
       "  <tbody>\n",
       "    <tr>\n",
       "      <th>341</th>\n",
       "      <td>6</td>\n",
       "      <td>0</td>\n",
       "      <td>0</td>\n",
       "      <td>0</td>\n",
       "      <td>0</td>\n",
       "      <td>1</td>\n",
       "      <td>0</td>\n",
       "      <td>0</td>\n",
       "      <td>0</td>\n",
       "      <td>0</td>\n",
       "    </tr>\n",
       "    <tr>\n",
       "      <th>342</th>\n",
       "      <td>6</td>\n",
       "      <td>0</td>\n",
       "      <td>0</td>\n",
       "      <td>0</td>\n",
       "      <td>0</td>\n",
       "      <td>1</td>\n",
       "      <td>0</td>\n",
       "      <td>0</td>\n",
       "      <td>0</td>\n",
       "      <td>0</td>\n",
       "    </tr>\n",
       "    <tr>\n",
       "      <th>343</th>\n",
       "      <td>8</td>\n",
       "      <td>0</td>\n",
       "      <td>0</td>\n",
       "      <td>0</td>\n",
       "      <td>0</td>\n",
       "      <td>0</td>\n",
       "      <td>0</td>\n",
       "      <td>1</td>\n",
       "      <td>0</td>\n",
       "      <td>0</td>\n",
       "    </tr>\n",
       "    <tr>\n",
       "      <th>344</th>\n",
       "      <td>6</td>\n",
       "      <td>0</td>\n",
       "      <td>0</td>\n",
       "      <td>0</td>\n",
       "      <td>0</td>\n",
       "      <td>1</td>\n",
       "      <td>0</td>\n",
       "      <td>0</td>\n",
       "      <td>0</td>\n",
       "      <td>0</td>\n",
       "    </tr>\n",
       "    <tr>\n",
       "      <th>345</th>\n",
       "      <td>8</td>\n",
       "      <td>0</td>\n",
       "      <td>0</td>\n",
       "      <td>0</td>\n",
       "      <td>0</td>\n",
       "      <td>0</td>\n",
       "      <td>0</td>\n",
       "      <td>1</td>\n",
       "      <td>0</td>\n",
       "      <td>0</td>\n",
       "    </tr>\n",
       "  </tbody>\n",
       "</table>\n",
       "</div>"
      ],
      "text/plain": [
       "     Overall Qual  OverallQual_2  OverallQual_3  OverallQual_4  OverallQual_5  \\\n",
       "341             6              0              0              0              0   \n",
       "342             6              0              0              0              0   \n",
       "343             8              0              0              0              0   \n",
       "344             6              0              0              0              0   \n",
       "345             8              0              0              0              0   \n",
       "\n",
       "     OverallQual_6  OverallQual_7  OverallQual_8  OverallQual_9  \\\n",
       "341              1              0              0              0   \n",
       "342              1              0              0              0   \n",
       "343              0              0              1              0   \n",
       "344              1              0              0              0   \n",
       "345              0              0              1              0   \n",
       "\n",
       "     OverallQual_10  \n",
       "341               0  \n",
       "342               0  \n",
       "343               0  \n",
       "344               0  \n",
       "345               0  "
      ]
     },
     "execution_count": 34,
     "metadata": {},
     "output_type": "execute_result"
    },
    {
     "data": {
      "text/html": [
       "<table class=\"simpletable\">\n",
       "<caption>OLS Regression Results</caption>\n",
       "<tr>\n",
       "  <th>Dep. Variable:</th>        <td>SalePrice</td>    <th>  R-squared:         </th> <td>   0.696</td>\n",
       "</tr>\n",
       "<tr>\n",
       "  <th>Model:</th>                   <td>OLS</td>       <th>  Adj. R-squared:    </th> <td>   0.695</td>\n",
       "</tr>\n",
       "<tr>\n",
       "  <th>Method:</th>             <td>Least Squares</td>  <th>  F-statistic:       </th> <td>   655.9</td>\n",
       "</tr>\n",
       "<tr>\n",
       "  <th>Date:</th>             <td>Mon, 07 Feb 2022</td> <th>  Prob (F-statistic):</th>  <td>  0.00</td> \n",
       "</tr>\n",
       "<tr>\n",
       "  <th>Time:</th>                 <td>09:57:15</td>     <th>  Log-Likelihood:    </th> <td>  200.23</td>\n",
       "</tr>\n",
       "<tr>\n",
       "  <th>No. Observations:</th>      <td>  2589</td>      <th>  AIC:               </th> <td>  -380.5</td>\n",
       "</tr>\n",
       "<tr>\n",
       "  <th>Df Residuals:</th>          <td>  2579</td>      <th>  BIC:               </th> <td>  -321.9</td>\n",
       "</tr>\n",
       "<tr>\n",
       "  <th>Df Model:</th>              <td>     9</td>      <th>                     </th>     <td> </td>   \n",
       "</tr>\n",
       "<tr>\n",
       "  <th>Covariance Type:</th>      <td>nonrobust</td>    <th>                     </th>     <td> </td>   \n",
       "</tr>\n",
       "</table>\n",
       "<table class=\"simpletable\">\n",
       "<tr>\n",
       "         <td></td>           <th>coef</th>     <th>std err</th>      <th>t</th>      <th>P>|t|</th>  <th>[0.025</th>    <th>0.975]</th>  \n",
       "</tr>\n",
       "<tr>\n",
       "  <th>const</th>          <td>   10.5966</td> <td>    0.112</td> <td>   94.445</td> <td> 0.000</td> <td>   10.377</td> <td>   10.817</td>\n",
       "</tr>\n",
       "<tr>\n",
       "  <th>OverallQual_2</th>  <td>    0.2631</td> <td>    0.131</td> <td>    2.008</td> <td> 0.045</td> <td>    0.006</td> <td>    0.520</td>\n",
       "</tr>\n",
       "<tr>\n",
       "  <th>OverallQual_3</th>  <td>    0.6798</td> <td>    0.118</td> <td>    5.740</td> <td> 0.000</td> <td>    0.448</td> <td>    0.912</td>\n",
       "</tr>\n",
       "<tr>\n",
       "  <th>OverallQual_4</th>  <td>    0.9491</td> <td>    0.113</td> <td>    8.372</td> <td> 0.000</td> <td>    0.727</td> <td>    1.171</td>\n",
       "</tr>\n",
       "<tr>\n",
       "  <th>OverallQual_5</th>  <td>    1.1941</td> <td>    0.113</td> <td>   10.614</td> <td> 0.000</td> <td>    0.974</td> <td>    1.415</td>\n",
       "</tr>\n",
       "<tr>\n",
       "  <th>OverallQual_6</th>  <td>    1.3764</td> <td>    0.113</td> <td>   12.230</td> <td> 0.000</td> <td>    1.156</td> <td>    1.597</td>\n",
       "</tr>\n",
       "<tr>\n",
       "  <th>OverallQual_7</th>  <td>    1.6069</td> <td>    0.113</td> <td>   14.269</td> <td> 0.000</td> <td>    1.386</td> <td>    1.828</td>\n",
       "</tr>\n",
       "<tr>\n",
       "  <th>OverallQual_8</th>  <td>    1.8943</td> <td>    0.113</td> <td>   16.777</td> <td> 0.000</td> <td>    1.673</td> <td>    2.116</td>\n",
       "</tr>\n",
       "<tr>\n",
       "  <th>OverallQual_9</th>  <td>    2.1910</td> <td>    0.114</td> <td>   19.141</td> <td> 0.000</td> <td>    1.967</td> <td>    2.415</td>\n",
       "</tr>\n",
       "<tr>\n",
       "  <th>OverallQual_10</th> <td>    2.3634</td> <td>    0.119</td> <td>   19.824</td> <td> 0.000</td> <td>    2.130</td> <td>    2.597</td>\n",
       "</tr>\n",
       "</table>\n",
       "<table class=\"simpletable\">\n",
       "<tr>\n",
       "  <th>Omnibus:</th>       <td>130.753</td> <th>  Durbin-Watson:     </th> <td>   1.459</td>\n",
       "</tr>\n",
       "<tr>\n",
       "  <th>Prob(Omnibus):</th> <td> 0.000</td>  <th>  Jarque-Bera (JB):  </th> <td> 306.513</td>\n",
       "</tr>\n",
       "<tr>\n",
       "  <th>Skew:</th>          <td>-0.300</td>  <th>  Prob(JB):          </th> <td>2.76e-67</td>\n",
       "</tr>\n",
       "<tr>\n",
       "  <th>Kurtosis:</th>      <td> 4.575</td>  <th>  Cond. No.          </th> <td>    88.9</td>\n",
       "</tr>\n",
       "</table><br/><br/>Notes:<br/>[1] Standard Errors assume that the covariance matrix of the errors is correctly specified."
      ],
      "text/plain": [
       "<class 'statsmodels.iolib.summary.Summary'>\n",
       "\"\"\"\n",
       "                            OLS Regression Results                            \n",
       "==============================================================================\n",
       "Dep. Variable:              SalePrice   R-squared:                       0.696\n",
       "Model:                            OLS   Adj. R-squared:                  0.695\n",
       "Method:                 Least Squares   F-statistic:                     655.9\n",
       "Date:                Mon, 07 Feb 2022   Prob (F-statistic):               0.00\n",
       "Time:                        09:57:15   Log-Likelihood:                 200.23\n",
       "No. Observations:                2589   AIC:                            -380.5\n",
       "Df Residuals:                    2579   BIC:                            -321.9\n",
       "Df Model:                           9                                         \n",
       "Covariance Type:            nonrobust                                         \n",
       "==================================================================================\n",
       "                     coef    std err          t      P>|t|      [0.025      0.975]\n",
       "----------------------------------------------------------------------------------\n",
       "const             10.5966      0.112     94.445      0.000      10.377      10.817\n",
       "OverallQual_2      0.2631      0.131      2.008      0.045       0.006       0.520\n",
       "OverallQual_3      0.6798      0.118      5.740      0.000       0.448       0.912\n",
       "OverallQual_4      0.9491      0.113      8.372      0.000       0.727       1.171\n",
       "OverallQual_5      1.1941      0.113     10.614      0.000       0.974       1.415\n",
       "OverallQual_6      1.3764      0.113     12.230      0.000       1.156       1.597\n",
       "OverallQual_7      1.6069      0.113     14.269      0.000       1.386       1.828\n",
       "OverallQual_8      1.8943      0.113     16.777      0.000       1.673       2.116\n",
       "OverallQual_9      2.1910      0.114     19.141      0.000       1.967       2.415\n",
       "OverallQual_10     2.3634      0.119     19.824      0.000       2.130       2.597\n",
       "==============================================================================\n",
       "Omnibus:                      130.753   Durbin-Watson:                   1.459\n",
       "Prob(Omnibus):                  0.000   Jarque-Bera (JB):              306.513\n",
       "Skew:                          -0.300   Prob(JB):                     2.76e-67\n",
       "Kurtosis:                       4.575   Cond. No.                         88.9\n",
       "==============================================================================\n",
       "\n",
       "Notes:\n",
       "[1] Standard Errors assume that the covariance matrix of the errors is correctly specified.\n",
       "\"\"\""
      ]
     },
     "execution_count": 34,
     "metadata": {},
     "output_type": "execute_result"
    }
   ],
   "source": [
    "Qual_ind = pd.get_dummies(X['Overall Qual'], drop_first=True).rename(columns=lambda x: 'OverallQual_' + str(x))\n",
    "\n",
    "X_ind = pd.concat([X, Qual_ind], axis=1)\n",
    "X_ind.head()\n",
    "\n",
    "result = sm.OLS(y_, sm.add_constant(Qual_ind)).fit()\n",
    "result.summary()"
   ]
  },
  {
   "cell_type": "markdown",
   "metadata": {},
   "source": [
    "### Multiple Regression"
   ]
  },
  {
   "cell_type": "code",
   "execution_count": 35,
   "metadata": {},
   "outputs": [
    {
     "data": {
      "text/plain": [
       "(2930, 82)"
      ]
     },
     "execution_count": 35,
     "metadata": {},
     "output_type": "execute_result"
    },
    {
     "data": {
      "text/plain": [
       "(2930, 91)"
      ]
     },
     "execution_count": 35,
     "metadata": {},
     "output_type": "execute_result"
    }
   ],
   "source": [
    "indata.shape\n",
    "Qual_ind = pd.get_dummies(indata['Overall Qual'], drop_first=True).rename(columns=lambda x: 'OverallQual_' + str(x))\n",
    "indata_mod = pd.concat([indata, Qual_ind], axis=1)\n",
    "indata_mod.shape"
   ]
  },
  {
   "cell_type": "code",
   "execution_count": 36,
   "metadata": {},
   "outputs": [
    {
     "name": "stdout",
     "output_type": "stream",
     "text": [
      "train : (2589, 91)\n",
      "test : (341, 91)\n"
     ]
    }
   ],
   "source": [
    "# Split by year\n",
    "train = indata_mod[np.array(indata_mod['Yr Sold'].astype(np.float32)) < 2010]\n",
    "test = indata_mod[np.array(indata_mod['Yr Sold'].astype(np.float32)) >= 2010]\n",
    "print(\"train : \" + str(train.shape))\n",
    "print(\"test : \" + str(test.shape))"
   ]
  },
  {
   "cell_type": "code",
   "execution_count": 37,
   "metadata": {},
   "outputs": [],
   "source": [
    "train_slm = train[['OverallQual_2','OverallQual_3','OverallQual_4','OverallQual_5','OverallQual_6','OverallQual_7', 'OverallQual_8','OverallQual_9','OverallQual_10','Gr Liv Area','SalePrice']]\n",
    "X = train_slm[['Gr Liv Area','OverallQual_2','OverallQual_3','OverallQual_4','OverallQual_5','OverallQual_6','OverallQual_7', 'OverallQual_8','OverallQual_9','OverallQual_10']] ## X usually means our input variables (or independent variables)\n",
    "y = train_slm.SalePrice ## Y usually means our output/dependent variable\n",
    "\n",
    "y_=np.log2(y)\n",
    "\n",
    "test_slm = test[['OverallQual_2','OverallQual_3','OverallQual_4','OverallQual_5','OverallQual_6','OverallQual_7', 'OverallQual_8','OverallQual_9','OverallQual_10','Gr Liv Area','SalePrice']]\n",
    "X_test = test_slm[['Gr Liv Area','OverallQual_2','OverallQual_3','OverallQual_4','OverallQual_5','OverallQual_6','OverallQual_7', 'OverallQual_8','OverallQual_9','OverallQual_10']]\n",
    "y_test = test_slm.SalePrice\n",
    "\n",
    "y_test_ = np.log2(y_test)"
   ]
  },
  {
   "cell_type": "code",
   "execution_count": 38,
   "metadata": {},
   "outputs": [
    {
     "data": {
      "text/html": [
       "<table class=\"simpletable\">\n",
       "<caption>OLS Regression Results</caption>\n",
       "<tr>\n",
       "  <th>Dep. Variable:</th>        <td>SalePrice</td>    <th>  R-squared:         </th> <td>   0.771</td>\n",
       "</tr>\n",
       "<tr>\n",
       "  <th>Model:</th>                   <td>OLS</td>       <th>  Adj. R-squared:    </th> <td>   0.771</td>\n",
       "</tr>\n",
       "<tr>\n",
       "  <th>Method:</th>             <td>Least Squares</td>  <th>  F-statistic:       </th> <td>   870.2</td>\n",
       "</tr>\n",
       "<tr>\n",
       "  <th>Date:</th>             <td>Mon, 07 Feb 2022</td> <th>  Prob (F-statistic):</th>  <td>  0.00</td> \n",
       "</tr>\n",
       "<tr>\n",
       "  <th>Time:</th>                 <td>09:57:23</td>     <th>  Log-Likelihood:    </th> <td> -379.20</td>\n",
       "</tr>\n",
       "<tr>\n",
       "  <th>No. Observations:</th>      <td>  2589</td>      <th>  AIC:               </th> <td>   780.4</td>\n",
       "</tr>\n",
       "<tr>\n",
       "  <th>Df Residuals:</th>          <td>  2578</td>      <th>  BIC:               </th> <td>   844.8</td>\n",
       "</tr>\n",
       "<tr>\n",
       "  <th>Df Model:</th>              <td>    10</td>      <th>                     </th>     <td> </td>   \n",
       "</tr>\n",
       "<tr>\n",
       "  <th>Covariance Type:</th>      <td>nonrobust</td>    <th>                     </th>     <td> </td>   \n",
       "</tr>\n",
       "</table>\n",
       "<table class=\"simpletable\">\n",
       "<tr>\n",
       "         <td></td>           <th>coef</th>     <th>std err</th>      <th>t</th>      <th>P>|t|</th>  <th>[0.025</th>    <th>0.975]</th>  \n",
       "</tr>\n",
       "<tr>\n",
       "  <th>const</th>          <td>   14.9368</td> <td>    0.141</td> <td>  106.024</td> <td> 0.000</td> <td>   14.661</td> <td>   15.213</td>\n",
       "</tr>\n",
       "<tr>\n",
       "  <th>Gr Liv Area</th>    <td>    0.0004</td> <td> 1.35e-05</td> <td>   29.181</td> <td> 0.000</td> <td>    0.000</td> <td>    0.000</td>\n",
       "</tr>\n",
       "<tr>\n",
       "  <th>OverallQual_2</th>  <td>    0.4720</td> <td>    0.164</td> <td>    2.879</td> <td> 0.004</td> <td>    0.150</td> <td>    0.793</td>\n",
       "</tr>\n",
       "<tr>\n",
       "  <th>OverallQual_3</th>  <td>    0.9246</td> <td>    0.148</td> <td>    6.239</td> <td> 0.000</td> <td>    0.634</td> <td>    1.215</td>\n",
       "</tr>\n",
       "<tr>\n",
       "  <th>OverallQual_4</th>  <td>    1.2728</td> <td>    0.142</td> <td>    8.972</td> <td> 0.000</td> <td>    0.995</td> <td>    1.551</td>\n",
       "</tr>\n",
       "<tr>\n",
       "  <th>OverallQual_5</th>  <td>    1.5792</td> <td>    0.141</td> <td>   11.213</td> <td> 0.000</td> <td>    1.303</td> <td>    1.855</td>\n",
       "</tr>\n",
       "<tr>\n",
       "  <th>OverallQual_6</th>  <td>    1.7637</td> <td>    0.141</td> <td>   12.508</td> <td> 0.000</td> <td>    1.487</td> <td>    2.040</td>\n",
       "</tr>\n",
       "<tr>\n",
       "  <th>OverallQual_7</th>  <td>    2.0117</td> <td>    0.141</td> <td>   14.239</td> <td> 0.000</td> <td>    1.735</td> <td>    2.289</td>\n",
       "</tr>\n",
       "<tr>\n",
       "  <th>OverallQual_8</th>  <td>    2.3398</td> <td>    0.142</td> <td>   16.489</td> <td> 0.000</td> <td>    2.062</td> <td>    2.618</td>\n",
       "</tr>\n",
       "<tr>\n",
       "  <th>OverallQual_9</th>  <td>    2.6933</td> <td>    0.144</td> <td>   18.691</td> <td> 0.000</td> <td>    2.411</td> <td>    2.976</td>\n",
       "</tr>\n",
       "<tr>\n",
       "  <th>OverallQual_10</th> <td>    2.6424</td> <td>    0.151</td> <td>   17.448</td> <td> 0.000</td> <td>    2.345</td> <td>    2.939</td>\n",
       "</tr>\n",
       "</table>\n",
       "<table class=\"simpletable\">\n",
       "<tr>\n",
       "  <th>Omnibus:</th>       <td>769.539</td> <th>  Durbin-Watson:     </th> <td>   1.442</td>\n",
       "</tr>\n",
       "<tr>\n",
       "  <th>Prob(Omnibus):</th> <td> 0.000</td>  <th>  Jarque-Bera (JB):  </th> <td>5237.646</td>\n",
       "</tr>\n",
       "<tr>\n",
       "  <th>Skew:</th>          <td>-1.229</td>  <th>  Prob(JB):          </th> <td>    0.00</td>\n",
       "</tr>\n",
       "<tr>\n",
       "  <th>Kurtosis:</th>      <td> 9.520</td>  <th>  Cond. No.          </th> <td>1.28e+05</td>\n",
       "</tr>\n",
       "</table><br/><br/>Notes:<br/>[1] Standard Errors assume that the covariance matrix of the errors is correctly specified.<br/>[2] The condition number is large, 1.28e+05. This might indicate that there are<br/>strong multicollinearity or other numerical problems."
      ],
      "text/plain": [
       "<class 'statsmodels.iolib.summary.Summary'>\n",
       "\"\"\"\n",
       "                            OLS Regression Results                            \n",
       "==============================================================================\n",
       "Dep. Variable:              SalePrice   R-squared:                       0.771\n",
       "Model:                            OLS   Adj. R-squared:                  0.771\n",
       "Method:                 Least Squares   F-statistic:                     870.2\n",
       "Date:                Mon, 07 Feb 2022   Prob (F-statistic):               0.00\n",
       "Time:                        09:57:23   Log-Likelihood:                -379.20\n",
       "No. Observations:                2589   AIC:                             780.4\n",
       "Df Residuals:                    2578   BIC:                             844.8\n",
       "Df Model:                          10                                         \n",
       "Covariance Type:            nonrobust                                         \n",
       "==================================================================================\n",
       "                     coef    std err          t      P>|t|      [0.025      0.975]\n",
       "----------------------------------------------------------------------------------\n",
       "const             14.9368      0.141    106.024      0.000      14.661      15.213\n",
       "Gr Liv Area        0.0004   1.35e-05     29.181      0.000       0.000       0.000\n",
       "OverallQual_2      0.4720      0.164      2.879      0.004       0.150       0.793\n",
       "OverallQual_3      0.9246      0.148      6.239      0.000       0.634       1.215\n",
       "OverallQual_4      1.2728      0.142      8.972      0.000       0.995       1.551\n",
       "OverallQual_5      1.5792      0.141     11.213      0.000       1.303       1.855\n",
       "OverallQual_6      1.7637      0.141     12.508      0.000       1.487       2.040\n",
       "OverallQual_7      2.0117      0.141     14.239      0.000       1.735       2.289\n",
       "OverallQual_8      2.3398      0.142     16.489      0.000       2.062       2.618\n",
       "OverallQual_9      2.6933      0.144     18.691      0.000       2.411       2.976\n",
       "OverallQual_10     2.6424      0.151     17.448      0.000       2.345       2.939\n",
       "==============================================================================\n",
       "Omnibus:                      769.539   Durbin-Watson:                   1.442\n",
       "Prob(Omnibus):                  0.000   Jarque-Bera (JB):             5237.646\n",
       "Skew:                          -1.229   Prob(JB):                         0.00\n",
       "Kurtosis:                       9.520   Cond. No.                     1.28e+05\n",
       "==============================================================================\n",
       "\n",
       "Notes:\n",
       "[1] Standard Errors assume that the covariance matrix of the errors is correctly specified.\n",
       "[2] The condition number is large, 1.28e+05. This might indicate that there are\n",
       "strong multicollinearity or other numerical problems.\n",
       "\"\"\""
      ]
     },
     "execution_count": 38,
     "metadata": {},
     "output_type": "execute_result"
    }
   ],
   "source": [
    "result = sm.OLS(y_, sm.add_constant(X)).fit()\n",
    "result.summary()"
   ]
  },
  {
   "cell_type": "code",
   "execution_count": 39,
   "metadata": {},
   "outputs": [
    {
     "data": {
      "text/plain": [
       "0   17.351\n",
       "1   16.868\n",
       "2   17.223\n",
       "3   17.778\n",
       "4   17.156\n",
       "dtype: float64"
      ]
     },
     "execution_count": 39,
     "metadata": {},
     "output_type": "execute_result"
    },
    {
     "data": {
      "text/plain": [
       "0   17.714\n",
       "1   16.680\n",
       "2   17.392\n",
       "3   17.897\n",
       "4   17.535\n",
       "Name: SalePrice, dtype: float64"
      ]
     },
     "execution_count": 39,
     "metadata": {},
     "output_type": "execute_result"
    },
    {
     "data": {
      "text/plain": [
       "0.31745492323101454"
      ]
     },
     "execution_count": 39,
     "metadata": {},
     "output_type": "execute_result"
    }
   ],
   "source": [
    "predictions = result.predict(sm.add_constant(X_test))\n",
    "predictions.head()\n",
    "y_test_.head()\n",
    "rmse = math.sqrt(np.square(np.subtract(y_test_,predictions)).mean())\n",
    "rmse"
   ]
  },
  {
   "cell_type": "markdown",
   "metadata": {},
   "source": [
    "## References\n",
    "\n",
    "Analysis on Ames data highlighting cleaning and feature creation https://www.kaggle.com/juliencs/a-study-on-regression-applied-to-the-ames-dataset"
   ]
  },
  {
   "cell_type": "code",
   "execution_count": null,
   "metadata": {},
   "outputs": [],
   "source": []
  }
 ],
 "metadata": {
  "_change_revision": 0,
  "_is_fork": false,
  "kernelspec": {
   "display_name": "Python 3",
   "language": "python",
   "name": "python3"
  },
  "language_info": {
   "codemirror_mode": {
    "name": "ipython",
    "version": 3
   },
   "file_extension": ".py",
   "mimetype": "text/x-python",
   "name": "python",
   "nbconvert_exporter": "python",
   "pygments_lexer": "ipython3",
   "version": "3.8.8"
  }
 },
 "nbformat": 4,
 "nbformat_minor": 1
}
