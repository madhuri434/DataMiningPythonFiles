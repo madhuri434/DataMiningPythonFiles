{
 "cells": [
  {
   "cell_type": "code",
   "execution_count": 1,
   "id": "4c9c1dee",
   "metadata": {},
   "outputs": [],
   "source": [
    "# This piece of code enables display of multiple output from one cell.\n",
    "from IPython.core.interactiveshell import InteractiveShell\n",
    "InteractiveShell.ast_node_interactivity = 'all'"
   ]
  },
  {
   "cell_type": "markdown",
   "id": "90d9712f",
   "metadata": {},
   "source": [
    "# Dimension Reduction (Some approaches)"
   ]
  },
  {
   "cell_type": "code",
   "execution_count": 2,
   "id": "b8838358",
   "metadata": {},
   "outputs": [],
   "source": [
    "import pandas as pd\n",
    "\n",
    "import matplotlib.pyplot as plt\n",
    "import numpy as np\n",
    "\n",
    "from sklearn.feature_extraction import DictVectorizer\n",
    "from sklearn.linear_model import LogisticRegression"
   ]
  },
  {
   "cell_type": "markdown",
   "id": "e641667f",
   "metadata": {},
   "source": [
    "We will work through Ames Dataset, it has been cleaned using the strategies mentioned in this [kaggle notebook](https://www.kaggle.com/juliencs/a-study-on-regression-applied-to-the-ames-dataset)"
   ]
  },
  {
   "cell_type": "code",
   "execution_count": 4,
   "id": "a3f9df5b",
   "metadata": {},
   "outputs": [
    {
     "data": {
      "text/plain": [
       "(2930, 116)"
      ]
     },
     "execution_count": 4,
     "metadata": {},
     "output_type": "execute_result"
    },
    {
     "data": {
      "text/html": [
       "<div>\n",
       "<style scoped>\n",
       "    .dataframe tbody tr th:only-of-type {\n",
       "        vertical-align: middle;\n",
       "    }\n",
       "\n",
       "    .dataframe tbody tr th {\n",
       "        vertical-align: top;\n",
       "    }\n",
       "\n",
       "    .dataframe thead th {\n",
       "        text-align: right;\n",
       "    }\n",
       "</style>\n",
       "<table border=\"1\" class=\"dataframe\">\n",
       "  <thead>\n",
       "    <tr style=\"text-align: right;\">\n",
       "      <th></th>\n",
       "      <th>Unnamed: 0</th>\n",
       "      <th>Order</th>\n",
       "      <th>MSSubClass</th>\n",
       "      <th>MSZoning</th>\n",
       "      <th>LotFrontage</th>\n",
       "      <th>LotArea</th>\n",
       "      <th>Street</th>\n",
       "      <th>Alley</th>\n",
       "      <th>LotShape</th>\n",
       "      <th>LandContour</th>\n",
       "      <th>...</th>\n",
       "      <th>SimplPoolScore</th>\n",
       "      <th>SimplGarageScore</th>\n",
       "      <th>SimplFireplaceScore</th>\n",
       "      <th>SimplKitchenScore</th>\n",
       "      <th>TotalBath</th>\n",
       "      <th>AllSF</th>\n",
       "      <th>AllFlrsSF</th>\n",
       "      <th>AllPorchSF</th>\n",
       "      <th>HasMasVnr</th>\n",
       "      <th>BoughtOffPlan</th>\n",
       "    </tr>\n",
       "  </thead>\n",
       "  <tbody>\n",
       "    <tr>\n",
       "      <th>0</th>\n",
       "      <td>0</td>\n",
       "      <td>1</td>\n",
       "      <td>SC20</td>\n",
       "      <td>RL</td>\n",
       "      <td>141.0</td>\n",
       "      <td>31770</td>\n",
       "      <td>2</td>\n",
       "      <td>None</td>\n",
       "      <td>3</td>\n",
       "      <td>Lvl</td>\n",
       "      <td>...</td>\n",
       "      <td>0</td>\n",
       "      <td>528.0</td>\n",
       "      <td>4</td>\n",
       "      <td>1</td>\n",
       "      <td>2.0</td>\n",
       "      <td>2736.0</td>\n",
       "      <td>1656</td>\n",
       "      <td>62</td>\n",
       "      <td>1</td>\n",
       "      <td>0</td>\n",
       "    </tr>\n",
       "    <tr>\n",
       "      <th>1</th>\n",
       "      <td>1</td>\n",
       "      <td>2</td>\n",
       "      <td>SC20</td>\n",
       "      <td>RH</td>\n",
       "      <td>80.0</td>\n",
       "      <td>11622</td>\n",
       "      <td>2</td>\n",
       "      <td>None</td>\n",
       "      <td>4</td>\n",
       "      <td>Lvl</td>\n",
       "      <td>...</td>\n",
       "      <td>0</td>\n",
       "      <td>730.0</td>\n",
       "      <td>0</td>\n",
       "      <td>1</td>\n",
       "      <td>1.0</td>\n",
       "      <td>1778.0</td>\n",
       "      <td>896</td>\n",
       "      <td>120</td>\n",
       "      <td>0</td>\n",
       "      <td>0</td>\n",
       "    </tr>\n",
       "    <tr>\n",
       "      <th>2</th>\n",
       "      <td>2</td>\n",
       "      <td>3</td>\n",
       "      <td>SC20</td>\n",
       "      <td>RL</td>\n",
       "      <td>81.0</td>\n",
       "      <td>14267</td>\n",
       "      <td>2</td>\n",
       "      <td>None</td>\n",
       "      <td>3</td>\n",
       "      <td>Lvl</td>\n",
       "      <td>...</td>\n",
       "      <td>0</td>\n",
       "      <td>312.0</td>\n",
       "      <td>0</td>\n",
       "      <td>2</td>\n",
       "      <td>1.5</td>\n",
       "      <td>2658.0</td>\n",
       "      <td>1329</td>\n",
       "      <td>36</td>\n",
       "      <td>1</td>\n",
       "      <td>0</td>\n",
       "    </tr>\n",
       "    <tr>\n",
       "      <th>3</th>\n",
       "      <td>3</td>\n",
       "      <td>4</td>\n",
       "      <td>SC20</td>\n",
       "      <td>RL</td>\n",
       "      <td>93.0</td>\n",
       "      <td>11160</td>\n",
       "      <td>2</td>\n",
       "      <td>None</td>\n",
       "      <td>4</td>\n",
       "      <td>Lvl</td>\n",
       "      <td>...</td>\n",
       "      <td>0</td>\n",
       "      <td>522.0</td>\n",
       "      <td>2</td>\n",
       "      <td>2</td>\n",
       "      <td>3.5</td>\n",
       "      <td>4220.0</td>\n",
       "      <td>2110</td>\n",
       "      <td>0</td>\n",
       "      <td>0</td>\n",
       "      <td>0</td>\n",
       "    </tr>\n",
       "    <tr>\n",
       "      <th>4</th>\n",
       "      <td>4</td>\n",
       "      <td>5</td>\n",
       "      <td>SC60</td>\n",
       "      <td>RL</td>\n",
       "      <td>74.0</td>\n",
       "      <td>13830</td>\n",
       "      <td>2</td>\n",
       "      <td>None</td>\n",
       "      <td>3</td>\n",
       "      <td>Lvl</td>\n",
       "      <td>...</td>\n",
       "      <td>0</td>\n",
       "      <td>482.0</td>\n",
       "      <td>1</td>\n",
       "      <td>1</td>\n",
       "      <td>2.5</td>\n",
       "      <td>2557.0</td>\n",
       "      <td>1629</td>\n",
       "      <td>34</td>\n",
       "      <td>0</td>\n",
       "      <td>0</td>\n",
       "    </tr>\n",
       "  </tbody>\n",
       "</table>\n",
       "<p>5 rows × 116 columns</p>\n",
       "</div>"
      ],
      "text/plain": [
       "   Unnamed: 0  Order MSSubClass MSZoning  LotFrontage  LotArea  Street Alley  \\\n",
       "0           0      1       SC20       RL        141.0    31770       2  None   \n",
       "1           1      2       SC20       RH         80.0    11622       2  None   \n",
       "2           2      3       SC20       RL         81.0    14267       2  None   \n",
       "3           3      4       SC20       RL         93.0    11160       2  None   \n",
       "4           4      5       SC60       RL         74.0    13830       2  None   \n",
       "\n",
       "   LotShape LandContour  ...  SimplPoolScore SimplGarageScore  \\\n",
       "0         3         Lvl  ...               0            528.0   \n",
       "1         4         Lvl  ...               0            730.0   \n",
       "2         3         Lvl  ...               0            312.0   \n",
       "3         4         Lvl  ...               0            522.0   \n",
       "4         3         Lvl  ...               0            482.0   \n",
       "\n",
       "   SimplFireplaceScore SimplKitchenScore TotalBath   AllSF AllFlrsSF  \\\n",
       "0                    4                 1       2.0  2736.0      1656   \n",
       "1                    0                 1       1.0  1778.0       896   \n",
       "2                    0                 2       1.5  2658.0      1329   \n",
       "3                    2                 2       3.5  4220.0      2110   \n",
       "4                    1                 1       2.5  2557.0      1629   \n",
       "\n",
       "  AllPorchSF  HasMasVnr  BoughtOffPlan  \n",
       "0         62          1              0  \n",
       "1        120          0              0  \n",
       "2         36          1              0  \n",
       "3          0          0              0  \n",
       "4         34          0              0  \n",
       "\n",
       "[5 rows x 116 columns]"
      ]
     },
     "execution_count": 4,
     "metadata": {},
     "output_type": "execute_result"
    },
    {
     "data": {
      "text/plain": [
       "Index(['Unnamed: 0', 'Order', 'MSSubClass', 'MSZoning', 'LotFrontage',\n",
       "       'LotArea', 'Street', 'Alley', 'LotShape', 'LandContour',\n",
       "       ...\n",
       "       'SimplPoolScore', 'SimplGarageScore', 'SimplFireplaceScore',\n",
       "       'SimplKitchenScore', 'TotalBath', 'AllSF', 'AllFlrsSF', 'AllPorchSF',\n",
       "       'HasMasVnr', 'BoughtOffPlan'],\n",
       "      dtype='object', length=116)"
      ]
     },
     "execution_count": 4,
     "metadata": {},
     "output_type": "execute_result"
    }
   ],
   "source": [
    "ames = pd.read_csv(\"ames_cleaned.csv\")\n",
    "ames.shape\n",
    "ames.head()\n",
    "ames.columns"
   ]
  },
  {
   "cell_type": "markdown",
   "id": "15192d75",
   "metadata": {},
   "source": [
    "### Handle Missing Values"
   ]
  },
  {
   "cell_type": "code",
   "execution_count": 5,
   "id": "e6c58c68",
   "metadata": {},
   "outputs": [
    {
     "data": {
      "text/plain": [
       "Unnamed: 0       0\n",
       "Order            0\n",
       "MSSubClass       0\n",
       "MSZoning         0\n",
       "LotFrontage      0\n",
       "                ..\n",
       "AllSF            1\n",
       "AllFlrsSF        0\n",
       "AllPorchSF       0\n",
       "HasMasVnr        0\n",
       "BoughtOffPlan    0\n",
       "Length: 116, dtype: int64"
      ]
     },
     "execution_count": 5,
     "metadata": {},
     "output_type": "execute_result"
    }
   ],
   "source": [
    "ames.isnull().sum()"
   ]
  },
  {
   "cell_type": "code",
   "execution_count": 6,
   "id": "145b419d",
   "metadata": {},
   "outputs": [
    {
     "name": "stdout",
     "output_type": "stream",
     "text": [
      "Number of rows removed with missing values : 161\n"
     ]
    }
   ],
   "source": [
    "start_ = ames.shape[0]\n",
    "ames = ames.dropna()\n",
    "end_ = ames.shape[0]\n",
    "print(\"Number of rows removed with missing values : \" + str(start_-end_))"
   ]
  },
  {
   "cell_type": "markdown",
   "id": "40b3b276",
   "metadata": {},
   "source": [
    "### Split Data into Train and Test"
   ]
  },
  {
   "cell_type": "code",
   "execution_count": 7,
   "id": "735e7260",
   "metadata": {},
   "outputs": [
    {
     "name": "stdout",
     "output_type": "stream",
     "text": [
      "train : (2451, 116)\n",
      "test : (318, 116)\n"
     ]
    }
   ],
   "source": [
    "train = ames[np.array(ames['YrSold'].astype(np.float32)) < 2010]\n",
    "test = ames[np.array(ames['YrSold'].astype(np.float32)) >= 2010]\n",
    "print(\"train : \" + str(train.shape))\n",
    "print(\"test : \" + str(test.shape))\n",
    "\n"
   ]
  },
  {
   "cell_type": "code",
   "execution_count": 8,
   "id": "d830aafe",
   "metadata": {},
   "outputs": [],
   "source": [
    "X_train = train.copy()\n",
    "del X_train['SalePrice']\n",
    "y_train = train.SalePrice.values\n",
    "\n",
    "X_test = test.copy()\n",
    "del X_test['SalePrice']\n",
    "y_test = test.SalePrice.values"
   ]
  },
  {
   "cell_type": "markdown",
   "id": "0585314b",
   "metadata": {},
   "source": [
    "### Feature Importance"
   ]
  },
  {
   "cell_type": "code",
   "execution_count": 10,
   "id": "d539a594",
   "metadata": {},
   "outputs": [
    {
     "name": "stdout",
     "output_type": "stream",
     "text": [
      "Find most important features relative to target\n",
      "SalePrice           1.000000\n",
      "OverallQual         0.798920\n",
      "AllSF               0.788453\n",
      "AllFlrsSF           0.715225\n",
      "GrLivArea           0.710335\n",
      "                      ...   \n",
      "KitchenAbvGr       -0.103593\n",
      "SimplOverallCond   -0.105156\n",
      "EnclosedPorch      -0.115390\n",
      "OverallCond        -0.133448\n",
      "LotShape           -0.276728\n",
      "Name: SalePrice, Length: 90, dtype: float64\n"
     ]
    }
   ],
   "source": [
    "print(\"Find most important features relative to target\")\n",
    "corr = train.corr()\n",
    "corr.sort_values([\"SalePrice\"], ascending = False, inplace = True)\n",
    "print(corr.SalePrice)"
   ]
  },
  {
   "cell_type": "markdown",
   "id": "bce4031e",
   "metadata": {},
   "source": [
    "### Split into Numeric and Categorical Features"
   ]
  },
  {
   "cell_type": "code",
   "execution_count": 11,
   "id": "676fe83e",
   "metadata": {},
   "outputs": [
    {
     "name": "stdout",
     "output_type": "stream",
     "text": [
      "Numerical features : 89\n",
      "Categorical features : 26\n"
     ]
    }
   ],
   "source": [
    "categorical_features = train.select_dtypes(include = [\"object\"]).columns\n",
    "numerical_features = train.select_dtypes(exclude = [\"object\"]).columns\n",
    "numerical_features = numerical_features.drop(\"SalePrice\")\n",
    "print(\"Numerical features : \" + str(len(numerical_features)))\n",
    "print(\"Categorical features : \" + str(len(categorical_features)))\n",
    "train_num = train[numerical_features]\n",
    "train_cat = train[categorical_features]"
   ]
  },
  {
   "cell_type": "markdown",
   "id": "1be6b4e3",
   "metadata": {},
   "source": [
    "### Feature Importance using Mutual Information"
   ]
  },
  {
   "cell_type": "code",
   "execution_count": 12,
   "id": "53e6eb6b",
   "metadata": {},
   "outputs": [
    {
     "data": {
      "text/plain": [
       "SelectKBest(k='all',\n",
       "            score_func=<function mutual_info_regression at 0x7fd0bb8a3c10>)"
      ]
     },
     "execution_count": 12,
     "metadata": {},
     "output_type": "execute_result"
    },
    {
     "name": "stdout",
     "output_type": "stream",
     "text": [
      "                Feature  MI Score\n",
      "84                AllSF   0.67716\n",
      "8           OverallQual  0.607252\n",
      "85            AllFlrsSF  0.497185\n",
      "28            GrLivArea  0.493957\n",
      "70         OverallGrade  0.455543\n",
      "10            YearBuilt  0.405459\n",
      "42           GarageArea  0.392839\n",
      "75          GarageScore  0.387817\n",
      "80     SimplGarageScore  0.384357\n",
      "15             BsmtQual  0.381244\n",
      "23          TotalBsmtSF  0.380759\n",
      "83            TotalBath  0.379734\n",
      "25             1stFlrSF  0.370373\n",
      "41           GarageCars  0.358845\n",
      "55     SimplOverallQual  0.352339\n",
      "13            ExterQual  0.321924\n",
      "73         KitchenScore  0.320517\n",
      "35          KitchenQual  0.316381\n",
      "40          GarageYrBlt  0.312116\n",
      "0            Unnamed: 0  0.308813\n",
      "1                 Order  0.308806\n",
      "11        YearRemod/Add   0.28561\n",
      "67        SimplBsmtQual  0.284078\n",
      "69       SimplExterQual  0.272302\n",
      "31             FullBath  0.270613\n",
      "62     SimplKitchenQual  0.257825\n",
      "72           ExterGrade  0.257002\n",
      "2           LotFrontage  0.239105\n",
      "39          FireplaceQu  0.228032\n",
      "74       FireplaceScore  0.226756\n",
      "77    SimplOverallGrade   0.21983\n",
      "82    SimplKitchenScore  0.218571\n",
      "26             2ndFlrSF  0.218356\n",
      "36         TotRmsAbvGrd  0.209629\n",
      "78      SimplExterGrade   0.19949\n",
      "60     SimplFireplaceQu  0.198142\n",
      "81  SimplFireplaceScore  0.196398\n",
      "18         BsmtFinType1  0.195771\n",
      "19           BsmtFinSF1  0.193691\n",
      "47          OpenPorchSF  0.177076\n",
      "12           MasVnrArea   0.17196\n",
      "38           Fireplaces  0.167094\n",
      "24            HeatingQC  0.154145\n",
      "3               LotArea  0.148794\n",
      "22            BsmtUnfSF  0.131894\n",
      "86           AllPorchSF  0.129139\n",
      "9           OverallCond  0.128492\n",
      "63       SimplHeatingQC  0.110213\n",
      "46           WoodDeckSF  0.104008\n",
      "87            HasMasVnr  0.097829\n",
      "17         BsmtExposure   0.09454\n",
      "64    SimplBsmtFinType1  0.086362\n",
      "88        BoughtOffPlan  0.083967\n",
      "5              LotShape   0.07466\n",
      "32             HalfBath  0.072496\n",
      "16             BsmtCond  0.054765\n",
      "45           PavedDrive  0.051358\n",
      "71          GarageGrade  0.049348\n",
      "56     SimplOverallCond  0.041981\n",
      "66        SimplBsmtCond  0.041749\n",
      "44           GarageCond  0.039889\n",
      "29         BsmtFullBath  0.039374\n",
      "43           GarageQual  0.039347\n",
      "20         BsmtFinType2  0.036828\n",
      "33         BedroomAbvGr  0.036822\n",
      "65    SimplBsmtFinType2  0.036341\n",
      "48        EnclosedPorch  0.035336\n",
      "50          ScreenPorch  0.026967\n",
      "34         KitchenAbvGr  0.024831\n",
      "21           BsmtFinSF2  0.024405\n",
      "37           Functional  0.018855\n",
      "61      SimplFunctional  0.017244\n",
      "58      SimplGarageCond  0.017242\n",
      "54               YrSold   0.01267\n",
      "30         BsmtHalfBath  0.011187\n",
      "49            3SsnPorch  0.005834\n",
      "52               PoolQC  0.003682\n",
      "59      SimplGarageQual  0.003619\n",
      "53              MiscVal  0.003125\n",
      "14            ExterCond  0.002653\n",
      "27         LowQualFinSF  0.001102\n",
      "79       SimplPoolScore  0.000114\n",
      "68       SimplExterCond       0.0\n",
      "76            PoolScore       0.0\n",
      "51             PoolArea       0.0\n",
      "57          SimplPoolQC       0.0\n",
      "7             LandSlope       0.0\n",
      "6             Utilities       0.0\n",
      "4                Street       0.0\n"
     ]
    }
   ],
   "source": [
    "from sklearn.feature_selection import mutual_info_regression\n",
    "from sklearn.feature_selection import SelectKBest\n",
    "fs = SelectKBest(score_func=mutual_info_regression, k='all')\n",
    "fs.fit(train_num, y_train)\n",
    "X_train_fs = fs.transform(train_num)\n",
    "mi = pd.DataFrame([train_num.columns, fs.scores_]).T\n",
    "mi = mi.rename(columns={0: 'Feature', 1: 'MI Score'})\n",
    "#mi.sort_values(by='MI Score', ascending=False)\n",
    "pd.set_option('display.max_rows', None)\n",
    "print(mi.sort_values(by='MI Score', ascending=False))"
   ]
  },
  {
   "cell_type": "markdown",
   "id": "b0709ee0",
   "metadata": {},
   "source": [
    "### Vector Quantization using KMeans"
   ]
  },
  {
   "cell_type": "code",
   "execution_count": 13,
   "id": "fe91e108",
   "metadata": {},
   "outputs": [
    {
     "name": "stderr",
     "output_type": "stream",
     "text": [
      "<ipython-input-13-44075a789035>:4: SettingWithCopyWarning: \n",
      "A value is trying to be set on a copy of a slice from a DataFrame.\n",
      "Try using .loc[row_indexer,col_indexer] = value instead\n",
      "\n",
      "See the caveats in the documentation: https://pandas.pydata.org/pandas-docs/stable/user_guide/indexing.html#returning-a-view-versus-a-copy\n",
      "  subset[\"Cluster\"] = kmeans.fit_predict(subset)\n",
      "<ipython-input-13-44075a789035>:5: SettingWithCopyWarning: \n",
      "A value is trying to be set on a copy of a slice from a DataFrame.\n",
      "Try using .loc[row_indexer,col_indexer] = value instead\n",
      "\n",
      "See the caveats in the documentation: https://pandas.pydata.org/pandas-docs/stable/user_guide/indexing.html#returning-a-view-versus-a-copy\n",
      "  subset[\"Cluster\"] = subset[\"Cluster\"].astype(\"category\")\n"
     ]
    },
    {
     "data": {
      "text/html": [
       "<div>\n",
       "<style scoped>\n",
       "    .dataframe tbody tr th:only-of-type {\n",
       "        vertical-align: middle;\n",
       "    }\n",
       "\n",
       "    .dataframe tbody tr th {\n",
       "        vertical-align: top;\n",
       "    }\n",
       "\n",
       "    .dataframe thead th {\n",
       "        text-align: right;\n",
       "    }\n",
       "</style>\n",
       "<table border=\"1\" class=\"dataframe\">\n",
       "  <thead>\n",
       "    <tr style=\"text-align: right;\">\n",
       "      <th></th>\n",
       "      <th>AllSF</th>\n",
       "      <th>AllFlrsSF</th>\n",
       "      <th>GrLivArea</th>\n",
       "      <th>TotalBsmtSF</th>\n",
       "      <th>1stFlrSF</th>\n",
       "      <th>Cluster</th>\n",
       "    </tr>\n",
       "  </thead>\n",
       "  <tbody>\n",
       "    <tr>\n",
       "      <th>341</th>\n",
       "      <td>1764.0</td>\n",
       "      <td>882</td>\n",
       "      <td>882</td>\n",
       "      <td>882.0</td>\n",
       "      <td>882</td>\n",
       "      <td>1</td>\n",
       "    </tr>\n",
       "    <tr>\n",
       "      <th>342</th>\n",
       "      <td>2868.0</td>\n",
       "      <td>1434</td>\n",
       "      <td>1434</td>\n",
       "      <td>1434.0</td>\n",
       "      <td>1434</td>\n",
       "      <td>5</td>\n",
       "    </tr>\n",
       "    <tr>\n",
       "      <th>343</th>\n",
       "      <td>4656.0</td>\n",
       "      <td>2704</td>\n",
       "      <td>2704</td>\n",
       "      <td>1952.0</td>\n",
       "      <td>2000</td>\n",
       "      <td>3</td>\n",
       "    </tr>\n",
       "    <tr>\n",
       "      <th>344</th>\n",
       "      <td>2553.0</td>\n",
       "      <td>1608</td>\n",
       "      <td>1608</td>\n",
       "      <td>945.0</td>\n",
       "      <td>945</td>\n",
       "      <td>4</td>\n",
       "    </tr>\n",
       "    <tr>\n",
       "      <th>345</th>\n",
       "      <td>3291.0</td>\n",
       "      <td>2283</td>\n",
       "      <td>2283</td>\n",
       "      <td>1008.0</td>\n",
       "      <td>1008</td>\n",
       "      <td>0</td>\n",
       "    </tr>\n",
       "  </tbody>\n",
       "</table>\n",
       "</div>"
      ],
      "text/plain": [
       "      AllSF  AllFlrsSF  GrLivArea  TotalBsmtSF  1stFlrSF Cluster\n",
       "341  1764.0        882        882        882.0       882       1\n",
       "342  2868.0       1434       1434       1434.0      1434       5\n",
       "343  4656.0       2704       2704       1952.0      2000       3\n",
       "344  2553.0       1608       1608        945.0       945       4\n",
       "345  3291.0       2283       2283       1008.0      1008       0"
      ]
     },
     "execution_count": 13,
     "metadata": {},
     "output_type": "execute_result"
    }
   ],
   "source": [
    "from sklearn.cluster import KMeans\n",
    "subset = train[[\"AllSF\", \"AllFlrsSF\", \"GrLivArea\",\"TotalBsmtSF\",\"1stFlrSF\"]]\n",
    "kmeans = KMeans(n_clusters=6)\n",
    "subset[\"Cluster\"] = kmeans.fit_predict(subset)\n",
    "subset[\"Cluster\"] = subset[\"Cluster\"].astype(\"category\")\n",
    "subset.head()"
   ]
  },
  {
   "cell_type": "code",
   "execution_count": 14,
   "id": "46670793",
   "metadata": {},
   "outputs": [
    {
     "data": {
      "image/png": "[encoded data removed]",
      "text/plain": [
       "<Figure size 475.5x432 with 1 Axes>"
      ]
     },
     "metadata": {
      "needs_background": "light"
     },
     "output_type": "display_data"
    }
   ],
   "source": [
    "import seaborn as sns\n",
    "sns.relplot(\n",
    "    x=\"AllSF\", y=\"GrLivArea\", hue=\"Cluster\", data=subset, height=6,\n",
    ");"
   ]
  },
  {
   "cell_type": "markdown",
   "id": "01758f33",
   "metadata": {},
   "source": [
    "### PCA"
   ]
  },
  {
   "cell_type": "code",
   "execution_count": 15,
   "id": "a1c3d200",
   "metadata": {},
   "outputs": [],
   "source": [
    "from sklearn.decomposition import PCA\n",
    "from sklearn.preprocessing import StandardScaler\n",
    "\n",
    "train_scaled = StandardScaler().fit_transform(train_num)\n",
    "\n",
    "pca = PCA()\n",
    "X_pca = pca.fit_transform(train_scaled)"
   ]
  },
  {
   "cell_type": "code",
   "execution_count": 16,
   "id": "99ffa5e2",
   "metadata": {},
   "outputs": [
    {
     "data": {
      "text/plain": [
       "29"
      ]
     },
     "execution_count": 16,
     "metadata": {},
     "output_type": "execute_result"
    }
   ],
   "source": [
    "pca = PCA(0.85)\n",
    "\n",
    "X_pca = pca.fit_transform(train_scaled)\n",
    "pca.n_components_"
   ]
  },
  {
   "cell_type": "markdown",
   "id": "c93e86b0",
   "metadata": {},
   "source": [
    "#### Plotting the first two PCs"
   ]
  },
  {
   "cell_type": "code",
   "execution_count": 17,
   "id": "dfc42d76",
   "metadata": {},
   "outputs": [
    {
     "data": {
      "image/png": "[encoded data removed]",
      "text/plain": [
       "<Figure size 432x288 with 2 Axes>"
      ]
     },
     "metadata": {
      "needs_background": "light"
     },
     "output_type": "display_data"
    }
   ],
   "source": [
    "plt.scatter(X_pca[:, 0], X_pca[:, 1],\n",
    "            c=y_train, edgecolor='none', alpha=0.5,\n",
    "            cmap=plt.cm.get_cmap('nipy_spectral', 15))\n",
    "plt.xlabel('component 1')\n",
    "plt.ylabel('component 2')\n",
    "plt.colorbar();"
   ]
  },
  {
   "cell_type": "code",
   "execution_count": 18,
   "id": "d981a7d2",
   "metadata": {},
   "outputs": [
    {
     "data": {
      "text/plain": [
       "Text(0.5, 0, 'number of components')"
      ]
     },
     "execution_count": 18,
     "metadata": {},
     "output_type": "execute_result"
    },
    {
     "data": {
      "text/plain": [
       "Text(0, 0.5, 'Proportion of variance explained')"
      ]
     },
     "execution_count": 18,
     "metadata": {},
     "output_type": "execute_result"
    },
    {
     "data": {
      "text/plain": [
       "[<matplotlib.lines.Line2D at 0x7fd0ba77ea00>]"
      ]
     },
     "execution_count": 18,
     "metadata": {},
     "output_type": "execute_result"
    },
    {
     "data": {
      "image/png": "[encoded data removed]",
      "text/plain": [
       "<Figure size 432x288 with 1 Axes>"
      ]
     },
     "metadata": {
      "needs_background": "light"
     },
     "output_type": "display_data"
    }
   ],
   "source": [
    "plt.xlabel(\"number of components\")\n",
    "plt.ylabel(\"Proportion of variance explained\")\n",
    "plt.plot(pca.explained_variance_ratio_, color =\"red\")\n",
    "plt.show()"
   ]
  },
  {
   "cell_type": "code",
   "execution_count": 19,
   "id": "824d72e7",
   "metadata": {},
   "outputs": [
    {
     "data": {
      "image/png": "[encoded data removed]",
      "text/plain": [
       "<Figure size 432x288 with 1 Axes>"
      ]
     },
     "metadata": {
      "needs_background": "light"
     },
     "output_type": "display_data"
    }
   ],
   "source": [
    "plt.plot(np.cumsum(pca.explained_variance_ratio_))\n",
    "plt.xlabel('number of components')\n",
    "plt.ylabel('cumulative explained variance');"
   ]
  },
  {
   "cell_type": "markdown",
   "id": "e4e764c7",
   "metadata": {},
   "source": [
    "### Nonnegative Matrix Factorization"
   ]
  },
  {
   "cell_type": "code",
   "execution_count": 20,
   "id": "9a455950",
   "metadata": {},
   "outputs": [
    {
     "data": {
      "text/plain": [
       "(2451, 89)"
      ]
     },
     "execution_count": 20,
     "metadata": {},
     "output_type": "execute_result"
    },
    {
     "name": "stderr",
     "output_type": "stream",
     "text": [
      "/Users/vinay/opt/anaconda3/lib/python3.8/site-packages/sklearn/decomposition/_nmf.py:312: FutureWarning: The 'init' value, when 'init=None' and n_components is less than n_samples and n_features, will be changed from 'nndsvd' to 'nndsvda' in 1.1 (renaming of 0.26).\n",
      "  warnings.warn((\"The 'init' value, when 'init=None' and \"\n"
     ]
    },
    {
     "data": {
      "text/plain": [
       "NMF(n_components=2)"
      ]
     },
     "execution_count": 20,
     "metadata": {},
     "output_type": "execute_result"
    },
    {
     "name": "stdout",
     "output_type": "stream",
     "text": [
      "(2451, 2)\n",
      "(2, 89)\n"
     ]
    }
   ],
   "source": [
    "from sklearn.decomposition import NMF\n",
    "\n",
    "train_num.shape\n",
    "\n",
    "model = NMF(n_components=2)\n",
    "model.fit(train_num)\n",
    "nmf_features = model.transform(train_num)\n",
    "print(nmf_features.shape)\n",
    "print(model.components_.shape)"
   ]
  },
  {
   "cell_type": "code",
   "execution_count": null,
   "id": "d88c4237",
   "metadata": {},
   "outputs": [],
   "source": []
  },
  {
   "cell_type": "code",
   "execution_count": null,
   "id": "7d0e16cf",
   "metadata": {},
   "outputs": [],
   "source": []
  }
 ],
 "metadata": {
  "kernelspec": {
   "display_name": "Python 3",
   "language": "python",
   "name": "python3"
  },
  "language_info": {
   "codemirror_mode": {
    "name": "ipython",
    "version": 3
   },
   "file_extension": ".py",
   "mimetype": "text/x-python",
   "name": "python",
   "nbconvert_exporter": "python",
   "pygments_lexer": "ipython3",
   "version": "3.8.8"
  }
 },
 "nbformat": 4,
 "nbformat_minor": 5
}
