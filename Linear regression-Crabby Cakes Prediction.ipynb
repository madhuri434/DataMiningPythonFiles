{
 "cells": [
  {
   "cell_type": "code",
   "execution_count": 48,
   "id": "61eb0f07",
   "metadata": {},
   "outputs": [],
   "source": [
    "import pandas as pd\n",
    "import matplotlib.pyplot as plt"
   ]
  },
  {
   "cell_type": "code",
   "execution_count": 49,
   "id": "16a24695",
   "metadata": {},
   "outputs": [],
   "source": [
    "d = {'years_worked': [1, 2, 3, 4, 5, 6], 'cakes_made': [6500, 7805, 10835, 11230, 15870, 16387]}\n",
    "df = pd.DataFrame(data=d)"
   ]
  },
  {
   "cell_type": "code",
   "execution_count": 50,
   "id": "616998c2",
   "metadata": {},
   "outputs": [
    {
     "data": {
      "text/html": [
       "<div>\n",
       "<style scoped>\n",
       "    .dataframe tbody tr th:only-of-type {\n",
       "        vertical-align: middle;\n",
       "    }\n",
       "\n",
       "    .dataframe tbody tr th {\n",
       "        vertical-align: top;\n",
       "    }\n",
       "\n",
       "    .dataframe thead th {\n",
       "        text-align: right;\n",
       "    }\n",
       "</style>\n",
       "<table border=\"1\" class=\"dataframe\">\n",
       "  <thead>\n",
       "    <tr style=\"text-align: right;\">\n",
       "      <th></th>\n",
       "      <th>years_worked</th>\n",
       "      <th>cakes_made</th>\n",
       "    </tr>\n",
       "  </thead>\n",
       "  <tbody>\n",
       "    <tr>\n",
       "      <th>0</th>\n",
       "      <td>1</td>\n",
       "      <td>6500</td>\n",
       "    </tr>\n",
       "    <tr>\n",
       "      <th>1</th>\n",
       "      <td>2</td>\n",
       "      <td>7805</td>\n",
       "    </tr>\n",
       "    <tr>\n",
       "      <th>2</th>\n",
       "      <td>3</td>\n",
       "      <td>10835</td>\n",
       "    </tr>\n",
       "    <tr>\n",
       "      <th>3</th>\n",
       "      <td>4</td>\n",
       "      <td>11230</td>\n",
       "    </tr>\n",
       "    <tr>\n",
       "      <th>4</th>\n",
       "      <td>5</td>\n",
       "      <td>15870</td>\n",
       "    </tr>\n",
       "    <tr>\n",
       "      <th>5</th>\n",
       "      <td>6</td>\n",
       "      <td>16387</td>\n",
       "    </tr>\n",
       "  </tbody>\n",
       "</table>\n",
       "</div>"
      ],
      "text/plain": [
       "   years_worked  cakes_made\n",
       "0             1        6500\n",
       "1             2        7805\n",
       "2             3       10835\n",
       "3             4       11230\n",
       "4             5       15870\n",
       "5             6       16387"
      ]
     },
     "execution_count": 50,
     "metadata": {},
     "output_type": "execute_result"
    }
   ],
   "source": [
    "df"
   ]
  },
  {
   "cell_type": "markdown",
   "id": "bfc1ecc8",
   "metadata": {},
   "source": [
    "## 1. Graph Of The Data On a Scatter Plot"
   ]
  },
  {
   "cell_type": "code",
   "execution_count": 51,
   "id": "78219719",
   "metadata": {},
   "outputs": [
    {
     "data": {
      "text/plain": [
       "<matplotlib.collections.PathCollection at 0x7f8125375eb0>"
      ]
     },
     "execution_count": 51,
     "metadata": {},
     "output_type": "execute_result"
    },
    {
     "data": {
      "image/png": "[encoded data removed]",
      "text/plain": [
       "<Figure size 432x288 with 1 Axes>"
      ]
     },
     "metadata": {
      "needs_background": "light"
     },
     "output_type": "display_data"
    }
   ],
   "source": [
    "%matplotlib inline\n",
    "plt.xlabel('years_worked')\n",
    "plt.ylabel('cakes_made')\n",
    "plt.scatter(df.years_worked,df.cakes_made,color='red',marker='+')"
   ]
  },
  {
   "cell_type": "markdown",
   "id": "644f5e64",
   "metadata": {},
   "source": [
    "## 2. Finding the Line Of the Best Fit And equation For the line"
   ]
  },
  {
   "cell_type": "code",
   "execution_count": 52,
   "id": "7790d85d",
   "metadata": {},
   "outputs": [
    {
     "data": {
      "text/plain": [
       "Text(1, 17, 'y = 4035.33 + 2115.00x')"
      ]
     },
     "execution_count": 52,
     "metadata": {},
     "output_type": "execute_result"
    },
    {
     "data": {
      "image/png": "[encoded data removed]",
      "text/plain": [
       "<Figure size 432x288 with 1 Axes>"
      ]
     },
     "metadata": {
      "needs_background": "light"
     },
     "output_type": "display_data"
    }
   ],
   "source": [
    "#define data\n",
    "x = np.array([1, 2, 3, 4, 5, 6])\n",
    "y = np.array([6500, 7805, 10835, 11230, 15870, 16387])\n",
    "\n",
    "#find line of best fit\n",
    "a, b = np.polyfit(x, y, 1)\n",
    "\n",
    "#add points to plot\n",
    "plt.scatter(x, y)\n",
    "\n",
    "#add line of best fit to plot\n",
    "\n",
    "plt.plot(x, a*x+b)  \n",
    "\n",
    "#add fitted regression equation to plot\n",
    "plt.text(1, 17, 'y = ' + '{:.2f}'.format(b) + ' + {:.2f}'.format(a) + 'x', size=10)"
   ]
  },
  {
   "cell_type": "markdown",
   "id": "e8508201",
   "metadata": {},
   "source": [
    "## 3. Finding the correlation Coefficient(r)"
   ]
  },
  {
   "cell_type": "code",
   "execution_count": 53,
   "id": "b97a5f54",
   "metadata": {},
   "outputs": [
    {
     "data": {
      "text/html": [
       "<div>\n",
       "<style scoped>\n",
       "    .dataframe tbody tr th:only-of-type {\n",
       "        vertical-align: middle;\n",
       "    }\n",
       "\n",
       "    .dataframe tbody tr th {\n",
       "        vertical-align: top;\n",
       "    }\n",
       "\n",
       "    .dataframe thead th {\n",
       "        text-align: right;\n",
       "    }\n",
       "</style>\n",
       "<table border=\"1\" class=\"dataframe\">\n",
       "  <thead>\n",
       "    <tr style=\"text-align: right;\">\n",
       "      <th></th>\n",
       "      <th>years_worked</th>\n",
       "      <th>cakes_made</th>\n",
       "    </tr>\n",
       "  </thead>\n",
       "  <tbody>\n",
       "    <tr>\n",
       "      <th>years_worked</th>\n",
       "      <td>1.000000</td>\n",
       "      <td>0.976321</td>\n",
       "    </tr>\n",
       "    <tr>\n",
       "      <th>cakes_made</th>\n",
       "      <td>0.976321</td>\n",
       "      <td>1.000000</td>\n",
       "    </tr>\n",
       "  </tbody>\n",
       "</table>\n",
       "</div>"
      ],
      "text/plain": [
       "              years_worked  cakes_made\n",
       "years_worked      1.000000    0.976321\n",
       "cakes_made        0.976321    1.000000"
      ]
     },
     "execution_count": 53,
     "metadata": {},
     "output_type": "execute_result"
    }
   ],
   "source": [
    "cor_matrix = df.corr()\n",
    "cor_matrix\n",
    " "
   ]
  },
  {
   "cell_type": "code",
   "execution_count": 54,
   "id": "465fa925",
   "metadata": {},
   "outputs": [
    {
     "data": {
      "image/png": "[encoded data removed]",
      "text/plain": [
       "<Figure size 432x288 with 1 Axes>"
      ]
     },
     "metadata": {
      "needs_background": "light"
     },
     "output_type": "display_data"
    }
   ],
   "source": [
    "#Visualizing the training set result\n",
    "plt.scatter(df.years_worked,df.cakes_made,color = 'green') \n",
    "plt.xlabel('years_worked')\n",
    "plt.ylabel('cakes_made') \n",
    "#plt.plot(np.unique(Sales),np.poly1d(np.polyfit(Sales,Temperature,1)),( np.unique(Sales)),color = 'green')\n",
    "plt.show()"
   ]
  },
  {
   "cell_type": "code",
   "execution_count": 55,
   "id": "6ed93df1",
   "metadata": {},
   "outputs": [
    {
     "data": {
      "text/plain": [
       "0.9763211126242084"
      ]
     },
     "execution_count": 55,
     "metadata": {},
     "output_type": "execute_result"
    }
   ],
   "source": [
    "def corr_coeff(df,x,y):\n",
    "#  calculate the mean of the 2 columns \n",
    "    x_bar = df[x].mean()\n",
    "    y_bar = df[y].mean()\n",
    "#  calculate the sample-deviation of the 2 columns\n",
    "    x_sd = df[x].std()\n",
    "    y_sd = df[y].std()\n",
    "#  standardize the columns and multiply and eventually,su m all the products\n",
    "    total_prod = (((df[x] - x_bar)/x_sd)*((df[y] - y_bar)/y_sd) ).sum()\n",
    "    corr = total_prod/(df.shape[0]-1)\n",
    "    return corr \n",
    "\n",
    "corr_coeff(df,'years_worked','cakes_made')"
   ]
  },
  {
   "cell_type": "markdown",
   "id": "fc41eb62",
   "metadata": {},
   "source": [
    "## Thus correlation Coefficient(r) is 0.9763"
   ]
  },
  {
   "cell_type": "markdown",
   "id": "954fc4a9",
   "metadata": {},
   "source": [
    "## 4. Type of correlation is positive because the y variable tends to increase as the x variable increases."
   ]
  },
  {
   "cell_type": "markdown",
   "id": "f7a26306",
   "metadata": {},
   "source": [
    "## 5. prediction of how many Crabby cakes he will make after working 10 years using linear regression"
   ]
  },
  {
   "cell_type": "code",
   "execution_count": 56,
   "id": "623e2bbd",
   "metadata": {},
   "outputs": [
    {
     "data": {
      "text/html": [
       "<div>\n",
       "<style scoped>\n",
       "    .dataframe tbody tr th:only-of-type {\n",
       "        vertical-align: middle;\n",
       "    }\n",
       "\n",
       "    .dataframe tbody tr th {\n",
       "        vertical-align: top;\n",
       "    }\n",
       "\n",
       "    .dataframe thead th {\n",
       "        text-align: right;\n",
       "    }\n",
       "</style>\n",
       "<table border=\"1\" class=\"dataframe\">\n",
       "  <thead>\n",
       "    <tr style=\"text-align: right;\">\n",
       "      <th></th>\n",
       "      <th>years_worked</th>\n",
       "    </tr>\n",
       "  </thead>\n",
       "  <tbody>\n",
       "    <tr>\n",
       "      <th>0</th>\n",
       "      <td>1</td>\n",
       "    </tr>\n",
       "    <tr>\n",
       "      <th>1</th>\n",
       "      <td>2</td>\n",
       "    </tr>\n",
       "    <tr>\n",
       "      <th>2</th>\n",
       "      <td>3</td>\n",
       "    </tr>\n",
       "    <tr>\n",
       "      <th>3</th>\n",
       "      <td>4</td>\n",
       "    </tr>\n",
       "    <tr>\n",
       "      <th>4</th>\n",
       "      <td>5</td>\n",
       "    </tr>\n",
       "    <tr>\n",
       "      <th>5</th>\n",
       "      <td>6</td>\n",
       "    </tr>\n",
       "  </tbody>\n",
       "</table>\n",
       "</div>"
      ],
      "text/plain": [
       "   years_worked\n",
       "0             1\n",
       "1             2\n",
       "2             3\n",
       "3             4\n",
       "4             5\n",
       "5             6"
      ]
     },
     "execution_count": 56,
     "metadata": {},
     "output_type": "execute_result"
    }
   ],
   "source": [
    "new_df = df.drop('cakes_made',axis='columns')\n",
    "new_df"
   ]
  },
  {
   "cell_type": "code",
   "execution_count": 57,
   "id": "f0914a45",
   "metadata": {},
   "outputs": [
    {
     "data": {
      "text/plain": [
       "0     6500\n",
       "1     7805\n",
       "2    10835\n",
       "3    11230\n",
       "4    15870\n",
       "5    16387\n",
       "Name: cakes_made, dtype: int64"
      ]
     },
     "execution_count": 57,
     "metadata": {},
     "output_type": "execute_result"
    }
   ],
   "source": [
    "cakes_made = df.cakes_made\n",
    "cakes_made"
   ]
  },
  {
   "cell_type": "code",
   "execution_count": 58,
   "id": "bc8e925e",
   "metadata": {},
   "outputs": [
    {
     "data": {
      "text/plain": [
       "LinearRegression()"
      ]
     },
     "execution_count": 58,
     "metadata": {},
     "output_type": "execute_result"
    }
   ],
   "source": [
    "# Create linear regression object\n",
    "import numpy as np\n",
    "from sklearn import linear_model\n",
    "reg = linear_model.LinearRegression()\n",
    "reg.fit(new_df,cakes_made)"
   ]
  },
  {
   "cell_type": "code",
   "execution_count": 59,
   "id": "655d4a3c",
   "metadata": {},
   "outputs": [
    {
     "data": {
      "text/plain": [
       "array([25185.33333333])"
      ]
     },
     "execution_count": 59,
     "metadata": {},
     "output_type": "execute_result"
    }
   ],
   "source": [
    "reg.predict([[10]])"
   ]
  },
  {
   "cell_type": "markdown",
   "id": "a77d933d",
   "metadata": {},
   "source": [
    "## Thus, 25185 Crabby cakes he will make after working 10 years"
   ]
  }
 ],
 "metadata": {
  "kernelspec": {
   "display_name": "Python 3",
   "language": "python",
   "name": "python3"
  },
  "language_info": {
   "codemirror_mode": {
    "name": "ipython",
    "version": 3
   },
   "file_extension": ".py",
   "mimetype": "text/x-python",
   "name": "python",
   "nbconvert_exporter": "python",
   "pygments_lexer": "ipython3",
   "version": "3.8.8"
  }
 },
 "nbformat": 4,
 "nbformat_minor": 5
}
