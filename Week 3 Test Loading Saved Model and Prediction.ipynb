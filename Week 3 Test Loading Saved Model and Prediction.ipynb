{
 "cells": [
  {
   "cell_type": "code",
   "execution_count": 1,
   "id": "5285beff",
   "metadata": {},
   "outputs": [],
   "source": [
    "import pickle"
   ]
  },
  {
   "cell_type": "code",
   "execution_count": 2,
   "id": "39d917e5",
   "metadata": {},
   "outputs": [],
   "source": [
    "with open('titanic-model.bin', 'rb') as f_in:\n",
    "    dv, model = pickle.load(f_in)"
   ]
  },
  {
   "cell_type": "code",
   "execution_count": 3,
   "id": "3ac9af0b",
   "metadata": {},
   "outputs": [],
   "source": [
    "def predict_single(passenger, dv, model):\n",
    "    X = dv.transform([passenger])\n",
    "    y_pred = model.predict_proba(X)[:, 1]\n",
    "    return y_pred[0]\n"
   ]
  },
  {
   "cell_type": "code",
   "execution_count": 4,
   "id": "54448342",
   "metadata": {},
   "outputs": [],
   "source": [
    "passenger = {\n",
    "    'PassengerId': '902',\n",
    "    'Pclass': '3.0',\n",
    "    'Name': 'Ilieff, Mr. Ylio',\n",
    "    'Sex': 'male',\n",
    "    'Age': 28.0,\n",
    "    'SibSp': 0.0,\n",
    "    'Parch': 0.0,\n",
    "    'Fare': 7.8958,\n",
    "    'Embarked': 'S'\n",
    "}"
   ]
  },
  {
   "cell_type": "code",
   "execution_count": 5,
   "id": "1f62ad1f",
   "metadata": {},
   "outputs": [
    {
     "name": "stdout",
     "output_type": "stream",
     "text": [
      "prediction: 0.432\n",
      "verdict: Did not Survive\n"
     ]
    }
   ],
   "source": [
    "prediction = predict_single(passenger, dv, model)\n",
    "print('prediction: %.3f' % prediction)\n",
    "        \n",
    "if prediction >= 0.5:\n",
    "    print('verdict: Survived')\n",
    "else:\n",
    "    print('verdict: Did not Survive')"
   ]
  },
  {
   "cell_type": "code",
   "execution_count": null,
   "id": "fe2ea2a6",
   "metadata": {},
   "outputs": [],
   "source": []
  }
 ],
 "metadata": {
  "kernelspec": {
   "display_name": "Python 3",
   "language": "python",
   "name": "python3"
  },
  "language_info": {
   "codemirror_mode": {
    "name": "ipython",
    "version": 3
   },
   "file_extension": ".py",
   "mimetype": "text/x-python",
   "name": "python",
   "nbconvert_exporter": "python",
   "pygments_lexer": "ipython3",
   "version": "3.8.8"
  }
 },
 "nbformat": 4,
 "nbformat_minor": 5
}
