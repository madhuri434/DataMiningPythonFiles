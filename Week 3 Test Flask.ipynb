{
 "cells": [
  {
   "cell_type": "code",
   "execution_count": 3,
   "id": "45af2a6f",
   "metadata": {},
   "outputs": [
    {
     "name": "stdout",
     "output_type": "stream",
     "text": [
      "{\n",
      "  \"Survived\": true,\n",
      "  \"surv_probability\": 0.9976100984869537\n",
      "}\n"
     ]
    }
   ],
   "source": [
    "import requests\n",
    "import json\n",
    "\n",
    "passenger = {\n",
    "    'PassengerId': '902',\n",
    "    'Pclass': '1.0',\n",
    "    'Name': 'Ilieff, Mr. Ylio',\n",
    "    'Sex': 'male',\n",
    "    'Age': 30.0,\n",
    "    'SibSp': 0.0,\n",
    "    'Parch': 0.0,\n",
    "    'Fare': 800.8958,\n",
    "    'Embarked': 'C'\n",
    "}\n",
    "\n",
    "url = 'http://localhost:9696/predict'\n",
    "response = requests.post(url, json=passenger)\n",
    "result = response.json()\n",
    "\n",
    "print(json.dumps(result, indent=2))"
   ]
  },
  {
   "cell_type": "code",
   "execution_count": null,
   "id": "58ab009b",
   "metadata": {},
   "outputs": [],
   "source": []
  }
 ],
 "metadata": {
  "kernelspec": {
   "display_name": "Python 3",
   "language": "python",
   "name": "python3"
  },
  "language_info": {
   "codemirror_mode": {
    "name": "ipython",
    "version": 3
   },
   "file_extension": ".py",
   "mimetype": "text/x-python",
   "name": "python",
   "nbconvert_exporter": "python",
   "pygments_lexer": "ipython3",
   "version": "3.8.8"
  }
 },
 "nbformat": 4,
 "nbformat_minor": 5
}
