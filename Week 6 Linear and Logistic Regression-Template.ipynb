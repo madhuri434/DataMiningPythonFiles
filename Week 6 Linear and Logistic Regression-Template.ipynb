{
 "cells": [
  {
   "cell_type": "code",
   "execution_count": 56,
   "id": "b6fe0947",
   "metadata": {},
   "outputs": [],
   "source": [
    "# This piece of code enables display of multiple output from one cell.\n",
    "from IPython.core.interactiveshell import InteractiveShell\n",
    "InteractiveShell.ast_node_interactivity = 'all'"
   ]
  },
  {
   "cell_type": "markdown",
   "id": "3c2646ed",
   "metadata": {},
   "source": [
    "## Linear Regression"
   ]
  },
  {
   "cell_type": "code",
   "execution_count": 57,
   "id": "b42d7256",
   "metadata": {},
   "outputs": [],
   "source": [
    "import numpy as np\n",
    "import pandas as pd"
   ]
  },
  {
   "cell_type": "code",
   "execution_count": 58,
   "id": "82214817",
   "metadata": {},
   "outputs": [
    {
     "data": {
      "text/plain": [
       "(19, 2)"
      ]
     },
     "execution_count": 58,
     "metadata": {},
     "output_type": "execute_result"
    },
    {
     "data": {
      "text/html": [
       "<div>\n",
       "<style scoped>\n",
       "    .dataframe tbody tr th:only-of-type {\n",
       "        vertical-align: middle;\n",
       "    }\n",
       "\n",
       "    .dataframe tbody tr th {\n",
       "        vertical-align: top;\n",
       "    }\n",
       "\n",
       "    .dataframe thead th {\n",
       "        text-align: right;\n",
       "    }\n",
       "</style>\n",
       "<table border=\"1\" class=\"dataframe\">\n",
       "  <thead>\n",
       "    <tr style=\"text-align: right;\">\n",
       "      <th></th>\n",
       "      <th>hardwood_conc</th>\n",
       "      <th>tensile_strength</th>\n",
       "    </tr>\n",
       "  </thead>\n",
       "  <tbody>\n",
       "    <tr>\n",
       "      <th>0</th>\n",
       "      <td>1.0</td>\n",
       "      <td>6.3</td>\n",
       "    </tr>\n",
       "    <tr>\n",
       "      <th>1</th>\n",
       "      <td>1.5</td>\n",
       "      <td>11.1</td>\n",
       "    </tr>\n",
       "    <tr>\n",
       "      <th>2</th>\n",
       "      <td>2.0</td>\n",
       "      <td>20.0</td>\n",
       "    </tr>\n",
       "    <tr>\n",
       "      <th>3</th>\n",
       "      <td>3.0</td>\n",
       "      <td>24.0</td>\n",
       "    </tr>\n",
       "    <tr>\n",
       "      <th>4</th>\n",
       "      <td>4.0</td>\n",
       "      <td>26.1</td>\n",
       "    </tr>\n",
       "  </tbody>\n",
       "</table>\n",
       "</div>"
      ],
      "text/plain": [
       "   hardwood_conc  tensile_strength\n",
       "0            1.0               6.3\n",
       "1            1.5              11.1\n",
       "2            2.0              20.0\n",
       "3            3.0              24.0\n",
       "4            4.0              26.1"
      ]
     },
     "execution_count": 58,
     "metadata": {},
     "output_type": "execute_result"
    }
   ],
   "source": [
    "indata = pd.read_csv('train.xlsx', index_col=None)\n",
    "indata.shape\n",
    "indata.head()"
   ]
  },
  {
   "cell_type": "code",
   "execution_count": 59,
   "id": "527b627d",
   "metadata": {},
   "outputs": [
    {
     "data": {
      "text/html": [
       "<div>\n",
       "<style scoped>\n",
       "    .dataframe tbody tr th:only-of-type {\n",
       "        vertical-align: middle;\n",
       "    }\n",
       "\n",
       "    .dataframe tbody tr th {\n",
       "        vertical-align: top;\n",
       "    }\n",
       "\n",
       "    .dataframe thead th {\n",
       "        text-align: right;\n",
       "    }\n",
       "</style>\n",
       "<table border=\"1\" class=\"dataframe\">\n",
       "  <thead>\n",
       "    <tr style=\"text-align: right;\">\n",
       "      <th></th>\n",
       "      <th>0</th>\n",
       "      <th>hardwood_conc</th>\n",
       "      <th>hardwood_conc</th>\n",
       "    </tr>\n",
       "  </thead>\n",
       "  <tbody>\n",
       "    <tr>\n",
       "      <th>0</th>\n",
       "      <td>1.0</td>\n",
       "      <td>-6.263158</td>\n",
       "      <td>39.227147</td>\n",
       "    </tr>\n",
       "    <tr>\n",
       "      <th>1</th>\n",
       "      <td>1.0</td>\n",
       "      <td>-5.763158</td>\n",
       "      <td>33.213989</td>\n",
       "    </tr>\n",
       "    <tr>\n",
       "      <th>2</th>\n",
       "      <td>1.0</td>\n",
       "      <td>-5.263158</td>\n",
       "      <td>27.700831</td>\n",
       "    </tr>\n",
       "    <tr>\n",
       "      <th>3</th>\n",
       "      <td>1.0</td>\n",
       "      <td>-4.263158</td>\n",
       "      <td>18.174515</td>\n",
       "    </tr>\n",
       "    <tr>\n",
       "      <th>4</th>\n",
       "      <td>1.0</td>\n",
       "      <td>-3.263158</td>\n",
       "      <td>10.648199</td>\n",
       "    </tr>\n",
       "  </tbody>\n",
       "</table>\n",
       "</div>"
      ],
      "text/plain": [
       "     0  hardwood_conc  hardwood_conc\n",
       "0  1.0      -6.263158      39.227147\n",
       "1  1.0      -5.763158      33.213989\n",
       "2  1.0      -5.263158      27.700831\n",
       "3  1.0      -4.263158      18.174515\n",
       "4  1.0      -3.263158      10.648199"
      ]
     },
     "execution_count": 59,
     "metadata": {},
     "output_type": "execute_result"
    }
   ],
   "source": [
    "hardwood_conc_centered = (indata.iloc[:,0] - np.mean(indata.iloc[:,0])) \n",
    "X_mat = pd.concat((pd.Series(np.ones(indata.shape[0])),hardwood_conc_centered, hardwood_conc_centered**2), axis= 1) \n",
    "X_mat.head()\n",
    "y_vec = indata.iloc[:,1]"
   ]
  },
  {
   "cell_type": "markdown",
   "id": "c237f2b6",
   "metadata": {},
   "source": [
    "### Lets implement estimating OLS Parameters"
   ]
  },
  {
   "cell_type": "code",
   "execution_count": 60,
   "id": "7bb97703",
   "metadata": {},
   "outputs": [],
   "source": [
    "def estimate_beta(X_mat, y_vec):\n",
    "    beta= np.linalg.inv(X_mat.T.dot(X_mat)).dot(X_mat.T).dot(y_vec)\n",
    "    return beta"
   ]
  },
  {
   "cell_type": "code",
   "execution_count": 61,
   "id": "2d7e704a",
   "metadata": {},
   "outputs": [
    {
     "name": "stdout",
     "output_type": "stream",
     "text": [
      "Help on function estimate_beta in module __main__:\n",
      "\n",
      "estimate_beta(X_mat, y_vec)\n",
      "\n"
     ]
    }
   ],
   "source": [
    "help(estimate_beta) "
   ]
  },
  {
   "cell_type": "code",
   "execution_count": 62,
   "id": "b28db897",
   "metadata": {},
   "outputs": [
    {
     "data": {
      "text/plain": [
       "array([45.29497313,  2.54634404, -0.63454917])"
      ]
     },
     "execution_count": 62,
     "metadata": {},
     "output_type": "execute_result"
    }
   ],
   "source": [
    "estimate_beta(X_mat, y_vec)"
   ]
  },
  {
   "cell_type": "markdown",
   "id": "09a7150c",
   "metadata": {},
   "source": [
    "### Check if implementation is correct"
   ]
  },
  {
   "cell_type": "code",
   "execution_count": 63,
   "id": "1c2f0e36",
   "metadata": {},
   "outputs": [
    {
     "data": {
      "text/plain": [
       "45.29497313476155"
      ]
     },
     "execution_count": 63,
     "metadata": {},
     "output_type": "execute_result"
    },
    {
     "data": {
      "text/plain": [
       "array([ 0.        ,  2.54634404, -0.63454917])"
      ]
     },
     "execution_count": 63,
     "metadata": {},
     "output_type": "execute_result"
    }
   ],
   "source": [
    "from sklearn.linear_model import LinearRegression\n",
    "model = LinearRegression().fit(X_mat, y_mat)\n",
    "model.intercept_\n",
    "model.coef_"
   ]
  },
  {
   "cell_type": "markdown",
   "id": "f3cff513",
   "metadata": {},
   "source": [
    "## Logistic Regression"
   ]
  },
  {
   "cell_type": "markdown",
   "id": "21f939fc",
   "metadata": {},
   "source": [
    "### Lets implement Logistic regression\n",
    "1. Need a function for computing the sigmoid function\n",
    "2. Create a function for calculating predicted values\n",
    "3. Need a \"cost function\" or entropy computation\n",
    "4. Need a optimization routine to update the beta parameters \n",
    "5. Need a \"train\" function "
   ]
  },
  {
   "cell_type": "code",
   "execution_count": 64,
   "id": "9cb9c4ad",
   "metadata": {},
   "outputs": [],
   "source": [
    "def train(y_actual, x, learning_rate, beta, iterations):\n",
    "    for i in range(iterations):\n",
    "        y_pred = calc_pred_func(beta, x)\n",
    "        beta = gradient_descent(y_pred, y_actual, x, learninig_rate, beta)\n",
    "        cost=calc_error(y_pred, y_actual)\n",
    "    return beta,y_pred"
   ]
  },
  {
   "cell_type": "code",
   "execution_count": 65,
   "id": "01dd3050",
   "metadata": {},
   "outputs": [],
   "source": [
    "def calc_sigmoid(z):\n",
    "    p=1/(1+np.exp(-z))\n",
    "    return p\n",
    "def calc_pred_func(beta,x):\n",
    "    z=np.dot(beta,np.transpose(x))\n",
    "    return calc_sigmoid(z)"
   ]
  },
  {
   "cell_type": "code",
   "execution_count": 66,
   "id": "9361140c",
   "metadata": {},
   "outputs": [],
   "source": [
    "def calc_entropy(y_pred, y_actual):\n",
    "    entropy= (-y_actual*np.log(y_pred) - (1-y_actual)*np.log(1-y_pred)).sum()/len(y_actual)\n",
    "    return entropy"
   ]
  },
  {
   "cell_type": "code",
   "execution_count": 67,
   "id": "0817f9ed",
   "metadata": {},
   "outputs": [],
   "source": [
    "def gradient_descent(y_pred,y_actual,x, learning_rate, beta):\n",
    "    jacobian=(-(np.dot(np.transpose(x), y_actual-y_pred)))/len(y_actual)\n",
    "    beta=beta-learning_rate*jacobian\n",
    "    return beta"
   ]
  },
  {
   "cell_type": "code",
   "execution_count": 68,
   "id": "f4e73d46",
   "metadata": {},
   "outputs": [],
   "source": [
    "def train(y_actual, x, learning_rate, beta, iterations):\n",
    "    for i in range(iterations):\n",
    "        y_pred = calc_pred_func(beta, x)\n",
    "        beta= gradient_descent(y_pred,y_actual,x, learning_rate, beta)\n",
    "        entropy = calc_entropy(y_pred, y_actual)\n",
    "    return beta, y_pred\n",
    "            "
   ]
  },
  {
   "cell_type": "code",
   "execution_count": 69,
   "id": "3164db67",
   "metadata": {},
   "outputs": [
    {
     "data": {
      "text/html": [
       "<div>\n",
       "<style scoped>\n",
       "    .dataframe tbody tr th:only-of-type {\n",
       "        vertical-align: middle;\n",
       "    }\n",
       "\n",
       "    .dataframe tbody tr th {\n",
       "        vertical-align: top;\n",
       "    }\n",
       "\n",
       "    .dataframe thead th {\n",
       "        text-align: right;\n",
       "    }\n",
       "</style>\n",
       "<table border=\"1\" class=\"dataframe\">\n",
       "  <thead>\n",
       "    <tr style=\"text-align: right;\">\n",
       "      <th></th>\n",
       "      <th>0</th>\n",
       "      <th>0</th>\n",
       "    </tr>\n",
       "  </thead>\n",
       "  <tbody>\n",
       "    <tr>\n",
       "      <th>0</th>\n",
       "      <td>1.0</td>\n",
       "      <td>0.10</td>\n",
       "    </tr>\n",
       "    <tr>\n",
       "      <th>1</th>\n",
       "      <td>1.0</td>\n",
       "      <td>0.15</td>\n",
       "    </tr>\n",
       "    <tr>\n",
       "      <th>2</th>\n",
       "      <td>1.0</td>\n",
       "      <td>0.20</td>\n",
       "    </tr>\n",
       "    <tr>\n",
       "      <th>3</th>\n",
       "      <td>1.0</td>\n",
       "      <td>0.30</td>\n",
       "    </tr>\n",
       "    <tr>\n",
       "      <th>4</th>\n",
       "      <td>1.0</td>\n",
       "      <td>0.50</td>\n",
       "    </tr>\n",
       "    <tr>\n",
       "      <th>5</th>\n",
       "      <td>1.0</td>\n",
       "      <td>0.70</td>\n",
       "    </tr>\n",
       "    <tr>\n",
       "      <th>6</th>\n",
       "      <td>1.0</td>\n",
       "      <td>0.95</td>\n",
       "    </tr>\n",
       "  </tbody>\n",
       "</table>\n",
       "</div>"
      ],
      "text/plain": [
       "     0     0\n",
       "0  1.0  0.10\n",
       "1  1.0  0.15\n",
       "2  1.0  0.20\n",
       "3  1.0  0.30\n",
       "4  1.0  0.50\n",
       "5  1.0  0.70\n",
       "6  1.0  0.95"
      ]
     },
     "execution_count": 69,
     "metadata": {},
     "output_type": "execute_result"
    }
   ],
   "source": [
    "conc = pd.DataFrame([0.10, 0.15,0.20, 0.30, 0.50,0.70,0.95])\n",
    "x = pd.concat((pd.DataFrame(np.ones(conc.shape[0])),conc), axis=1)\n",
    "x\n",
    "y_actual = np.array([0.17, 0.264, 0.436, 0.615, 0.826, 0.926, 0.962])"
   ]
  },
  {
   "cell_type": "code",
   "execution_count": 70,
   "id": "c799f1b5",
   "metadata": {},
   "outputs": [
    {
     "data": {
      "text/plain": [
       "array([-0.92705218,  3.66702993])"
      ]
     },
     "execution_count": 70,
     "metadata": {},
     "output_type": "execute_result"
    },
    {
     "data": {
      "text/plain": [
       "array([0.36356976, 0.40693654, 0.45180394, 0.54317577, 0.71221622,\n",
       "       0.83742742, 0.92794263])"
      ]
     },
     "execution_count": 70,
     "metadata": {},
     "output_type": "execute_result"
    }
   ],
   "source": [
    "beta_init = np.array([0,0])\n",
    "beta , y_pred = train(y_actual, x, 0.1,beta_init , 1000)\n",
    "beta\n",
    "y_pred"
   ]
  },
  {
   "cell_type": "markdown",
   "id": "75b406da",
   "metadata": {},
   "source": [
    "### Check if implementation is correct"
   ]
  },
  {
   "cell_type": "code",
   "execution_count": 71,
   "id": "9ec0460f",
   "metadata": {},
   "outputs": [
    {
     "name": "stdout",
     "output_type": "stream",
     "text": [
      "Optimization terminated successfully.\n",
      "         Current function value: 0.385251\n",
      "         Iterations 7\n"
     ]
    },
    {
     "data": {
      "text/plain": [
       "0   -1.762506\n",
       "0    6.367254\n",
       "dtype: float64"
      ]
     },
     "execution_count": 71,
     "metadata": {},
     "output_type": "execute_result"
    },
    {
     "data": {
      "text/plain": [
       "0    0.244941\n",
       "1    0.308441\n",
       "2    0.380116\n",
       "3    0.536851\n",
       "4    0.805514\n",
       "5    0.936706\n",
       "6    0.986432\n",
       "dtype: float64"
      ]
     },
     "execution_count": 71,
     "metadata": {},
     "output_type": "execute_result"
    }
   ],
   "source": [
    "import numpy as np\n",
    "import statsmodels.api as sm\n",
    "model = sm.Logit(y_actual, x)\n",
    "result = model.fit(method='newton')\n",
    "result.params\n",
    "result.predict(x)\n"
   ]
  },
  {
   "cell_type": "code",
   "execution_count": null,
   "id": "b19df6ae",
   "metadata": {},
   "outputs": [],
   "source": []
  },
  {
   "cell_type": "code",
   "execution_count": null,
   "id": "e509699b",
   "metadata": {},
   "outputs": [],
   "source": []
  }
 ],
 "metadata": {
  "kernelspec": {
   "display_name": "Python 3",
   "language": "python",
   "name": "python3"
  },
  "language_info": {
   "codemirror_mode": {
    "name": "ipython",
    "version": 3
   },
   "file_extension": ".py",
   "mimetype": "text/x-python",
   "name": "python",
   "nbconvert_exporter": "python",
   "pygments_lexer": "ipython3",
   "version": "3.8.8"
  }
 },
 "nbformat": 4,
 "nbformat_minor": 5
}
